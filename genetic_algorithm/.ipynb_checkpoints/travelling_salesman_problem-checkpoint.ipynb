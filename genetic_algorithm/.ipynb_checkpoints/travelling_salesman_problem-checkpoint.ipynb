{
 "cells": [
  {
   "cell_type": "markdown",
   "id": "bdd881e6-74bf-4a84-b087-5cd1a8056f0a",
   "metadata": {},
   "source": [
    "### Travelling Salesman Problem Using Genetic Algorithm \n",
    "\n",
    "The Travelling Salesman Problem (TSP) is an optimisation problem where a salesman needs to visit all cities from a given list once to reach their starting point with the shortest possible route.\n",
    "\n",
    "We will use a genetic algorithm to solve this. A genetic algorithm requires these parameters, \n",
    "\n",
    "- Number of generations\n",
    "- Population size (Cities and their distance information)\n",
    "- Crossover rate\n",
    "- Mutation rate\n",
    "- Selection method (fitness method)"
   ]
  },
  {
   "cell_type": "code",
   "execution_count": 10,
   "id": "b6cb9dc0-f1d6-41d8-9f60-e051a9d603af",
   "metadata": {},
   "outputs": [
    {
     "name": "stdout",
     "output_type": "stream",
     "text": [
      "174.1\n"
     ]
    }
   ],
   "source": [
    "import pandas as pd\n",
    "import numpy as np\n",
    "import random as rand\n",
    "\n",
    "class GeneticAlgorithm:\n",
    "    def __init__(self, population, generations, cities, distance_map, crossover_rate, mutation_rate):\n",
    "        self.population = population\n",
    "        self.generations = generations\n",
    "        self.cities = cities\n",
    "        self.distance_map = distance_map\n",
    "        self.crossover_rate = crossover_rate\n",
    "        self.mutation_rate = mutation_rate\n",
    "\n",
    "    def initialise(self):\n",
    "        pop_bag = []\n",
    "        pop_bag.append(self.cities)\n",
    "        for i in range(self.population):\n",
    "            curr = self.cities.copy()\n",
    "            rand.shuffle(curr)\n",
    "            pop_bag.append(curr)\n",
    "        return np.array(pop_bag)\n",
    "        \n",
    "    def calculate_distance(self, solution):\n",
    "        total_distance = 0.0\n",
    "        for i in range(len(solution) - 1):\n",
    "           total_distance += self.distance_map[self.cities.index(solution[i]), self.cities.index(solution[i + 1])]\n",
    "        return total_distance\n",
    "\n",
    "    def roulette_wheel_selection(self):\n",
    "        None\n",
    "\n",
    "if __name__ == '__main__':\n",
    "    cities = [0, 1, 2, 3, 4, 5]\n",
    "    distance_map = np.array([\n",
    "        [0.00, 38.02, 27.12, 33.46, 64.07, 42.1],\n",
    "        [38.02, 0.00, 31.00, 29.55, 35.55, 38.4],\n",
    "        [27.12, 31.00, 0.00, 28.03, 47.38, 57.9],\n",
    "        [33.46, 29.55, 28.03, 0.00, 55.11, 20.07],\n",
    "        [64.07, 35.55, 47.38, 55.11, 0.00, 16.02],\n",
    "        [42.1, 38.4, 57.9, 20.07, 16.02, 0.00]\n",
    "    ])\n",
    "    ga = GeneticAlgorithm(20, 10, cities, distance_map, 1, 1)\n",
    "    arr = ga.initialise()\n",
    "    print(ga.calculate_distance(arr[2]))"
   ]
  },
  {
   "cell_type": "code",
   "execution_count": null,
   "id": "ff5728ba-9e9c-447d-8a5b-a4d501c982fb",
   "metadata": {},
   "outputs": [],
   "source": []
  }
 ],
 "metadata": {
  "kernelspec": {
   "display_name": "Python [conda env:base] *",
   "language": "python",
   "name": "conda-base-py"
  },
  "language_info": {
   "codemirror_mode": {
    "name": "ipython",
    "version": 3
   },
   "file_extension": ".py",
   "mimetype": "text/x-python",
   "name": "python",
   "nbconvert_exporter": "python",
   "pygments_lexer": "ipython3",
   "version": "3.12.7"
  }
 },
 "nbformat": 4,
 "nbformat_minor": 5
}
