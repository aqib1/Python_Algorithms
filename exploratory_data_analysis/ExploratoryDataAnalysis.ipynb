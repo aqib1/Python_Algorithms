{
 "cells": [
  {
   "cell_type": "markdown",
   "id": "fdde4d21-760b-4cc1-93d5-766d7dceb73f",
   "metadata": {},
   "source": [
    "## Task 1:\n",
    "A- Load the provided CSV dataset (sample-superstore.csv) into Python and print the first ten records with the associated column names.\n",
    "\n",
    "B- Provide a short paragraph to describe your understanding of the dataset. (around 100 words)"
   ]
  },
  {
   "cell_type": "markdown",
   "id": "1107961d-932f-47d6-af5f-6a657312f5f2",
   "metadata": {},
   "source": [
    "### Task 1 - Part A: Load and Explore the Dataset\n",
    "In this task, we’ll use the Pandas library to load the sample-superstore.csv dataset and define two reusable methods:\n",
    "- head(limit) – Returns the top N rows of the dataset.\n",
    "- tail(limit) – Returns the bottom N rows of the dataset.\n",
    "\n",
    "These methods take a parameter limit that specifies how many rows to return."
   ]
  },
  {
   "cell_type": "code",
   "execution_count": 11,
   "id": "11902da1-3c41-4fce-91b2-5cc50f248b45",
   "metadata": {},
   "outputs": [
    {
     "name": "stdout",
     "output_type": "stream",
     "text": [
      "|    |   Row ID | Order ID       | Order Date   | Ship Date   | Ship Mode      | Customer ID   | Customer Name    | Segment     | Country       | City         | State          | Postal Code   | Region   | Product ID      | Category        | Sub-Category   | Product Name                                                                |    Sales | Quantity   |   Discount | Profit       |\n",
      "|---:|---------:|:---------------|:-------------|:------------|:---------------|:--------------|:-----------------|:------------|:--------------|:-------------|:---------------|:--------------|:---------|:----------------|:----------------|:---------------|:----------------------------------------------------------------------------|---------:|:-----------|-----------:|:-------------|\n",
      "|  0 |     7773 | CA-2016-108196 | 25/11/2016   | 12/02/2016  | Standard Class | CS-12505      | Cindy Stewart    | Consumer    | United States | Lancaster    | Ohio           | 43130         | Est      | TEC-MA-10000418 | Technology      | Machines       | Cubify CubeX 3D Printer Double Head Print                                   |  4499.98 | 5          |        0.7 | -6599.978    |\n",
      "|  1 |      684 | US-2017-168116 | 11/04/2017   | 11/04/2017  | Same Day       | GT-14635      | Grant Thornton   | Corporate   | United States | Burlington   | North Carolina | \"27217\"       | South    | TEC-MA-10004125 | Technology      | Machines       | Cubify CubeX 3D Printer Triple Head Print                                   |  7999.98 | 4          |        0.5 | -3839.9904   |\n",
      "|  2 |     9775 | CA-2014-169019 | 26/07/2014   | 30/07/2014  | Standard Class | LF-17185      | Luke Foster      | Consumer    | United States | San Antonio  | Texas          | 78207         | Central  | OFF-BI-10004995 | Office Supplies | Binders        | GBC DocuBind P400 Electric Binding System                                   |  2177.58 | 8          |        0.8 | -3701.8928   |\n",
      "|  3 |     3012 | CA-2017-134845 | 17/04/2017   | 24/04/2017  | Standard Class | SR-20425      | Sharelle Roach   | Home Office | United States | Louisville   | Colorado       | 80027         | West     | TEC-MA-10000822 | Technology      | Machines       | Lexmark MX611dhe Monochrome Laser Printer                                   |  2549.99 | 5          |        0.7 | -3399.98     |\n",
      "|  4 |     4992 | US-2017-122714 | 12/07/2017   | 13/12/2017  | Standard Class | HG-14965      | Henry Goldwyn    | Corporate   | United States | Chicago      | Illinois       | 60653         | Central  | OFF-BI-10001120 | Office Supplies | Binders        | Ibico EPK-21 Electric Binding System                                        |  1889.99 | 5          |        0.8 | -2929.4845   |\n",
      "|  5 |     3152 | CA-2015-147830 | 15/12/2015   | 18/12/2015  | First Class    | NF-18385      | Natalie Fritzler | Consumer    | United States | Newark       | Ohio           | 43055         | East     | TEC-MA-10000418 | Technology      | Machines       | Cubify CubeX 3D Printer Double Head Print                                   |  1799.99 | Two        |        0.7 | \"-2639.9912\" |\n",
      "|  6 |     5311 | CA-2017-131254 | 19/11/2017   | 21/11/2017  | First Class    | NC-18415      | Nathan Cano      | Consumer    | United States | Houston      | Texas          | 77095         | Central  | OFF-BI-10003527 | Office Supplies | Binders        | Fellowes PB500 Electric Punch Plastic Comb Binding Machine with Manual Bind |  1525.19 | 6          |        0.8 | -2287.782    |\n",
      "|  7 |     9640 | CA-2015-116638 | 28/01/2015   | nan         | Second Class   | JH-15985      | Joseph Holt      | Consumer    | United States | Concord      | North Carolina | 28027         | South    | FUR-TA-10000198 | Frnture         | Tables         | Chromcraft Bull-Nose Wood Oval Conference Tables & Bases                    |  4297.64 | Thirteen   |        0.4 | nan          |\n",
      "|  8 |     1200 | CA-2016-130946 | 04/08/2016   | 04/12/2016  | Standard Class | ZC-21910      | Zuschuss Carroll | Consumer    | United States | Houston      | Texas          | 77041         | Central  | OFF-BI-10004995 | Office Supplies | Binders        | GBC DocuBind P400 Electric Binding System                                   |  1088.79 | 4          |        0.8 | -1850.9464   |\n",
      "|  9 |     2698 | CA-2014-145317 | 18/03/2014   | 23/03/2014  | Standard Class | SM-20320      | Sean Miller      | Home Office | nan           | Jacksonville | Florida        | 32216         | Southh   | TEC-MA-10002412 | Technology      | Machines       | Cisco TelePresence System EX90 Videoconferencing Unit                       | 22638.5  | 6          |        0.5 | -1811.0784   |\n"
     ]
    }
   ],
   "source": [
    "import pandas as pd\n",
    "from pandas import DataFrame\n",
    "\n",
    "class ExploratoryDataAnalysis:\n",
    "    ## Class-level variables\n",
    "    store_data_frame: DataFrame = None\n",
    "    \n",
    "    def __init__(self, path: str):\n",
    "        self.store_data_frame = pd.read_csv(path, sep=',')\n",
    "\n",
    "    def head(self, limit: int):\n",
    "        return self.store_data_frame.head(limit)\n",
    "\n",
    "    def tail(self, limit: int):\n",
    "        return self.store_data_frame.tail(limit)\n",
    "\n",
    "if __name__ == '__main__':\n",
    "    exp_data_analysis = ExploratoryDataAnalysis('sample-superstore.csv')\n",
    "    ## printing first 10 records associated with column names\n",
    "    print(exp_data_analysis.head(10).to_markdown())"
   ]
  },
  {
   "cell_type": "markdown",
   "id": "1b75d86f-411b-404b-ac90-53a819fd8a68",
   "metadata": {},
   "source": [
    "### Task 1 Part B - Understanding the Sample Superstore Dataset\n",
    "\n",
    "The Sample Superstore dataset captures detailed retail sales data from a fictional store. It includes information about customer orders such as \n",
    "- `Order ID`\n",
    "- `Order Date`\n",
    "- `Ship Mode`\n",
    "- `Customer Name`\n",
    "- `Segment`\n",
    "- `City`\n",
    "- `State`\n",
    "- `Region`\n",
    "\n",
    "Each transaction is linked to a product with,\n",
    "- `Product ID`\n",
    "- `Category`\n",
    "- `Sub-Category`\n",
    "- `Product Name`\n",
    "\n",
    "Each transaction contains metrics such as \n",
    "- `sales`\n",
    "- `Quantity`\n",
    "- `Discount`\n",
    "- `Profit`\n",
    "\n",
    "This dataset is ideal for analysing customer purchasing behaviour, shipping performance, product profitability, and regional sales trends. It can be used in data science for performing exploratory data analysis (EDA), creating dashboards, and building predictive business models.\n",
    "\n",
    "### Loading Data\n",
    "To work with this data in Python, we use the Pandas library, which provides powerful tools for data manipulation and analysis. We load the dataset using `pd.read_csv()`, which reads the CSV file and returns a `DataFrame`. A DataFrame is a two-dimensional labelled data structure in Pandas, similar to a table in a database or an Excel spreadsheet. It allows us to easily inspect, filter, sort, and transform the data. Once loaded, the dataset becomes a DataFrame object where each row represents a single order and each column represents a different attribute related to the order."
   ]
  },
  {
   "cell_type": "code",
   "execution_count": null,
   "id": "8f1cb87e-e623-4ffa-ad85-62f6e3d4e9ed",
   "metadata": {},
   "outputs": [],
   "source": []
  }
 ],
 "metadata": {
  "kernelspec": {
   "display_name": "Python [conda env:base] *",
   "language": "python",
   "name": "conda-base-py"
  },
  "language_info": {
   "codemirror_mode": {
    "name": "ipython",
    "version": 3
   },
   "file_extension": ".py",
   "mimetype": "text/x-python",
   "name": "python",
   "nbconvert_exporter": "python",
   "pygments_lexer": "ipython3",
   "version": "3.12.7"
  }
 },
 "nbformat": 4,
 "nbformat_minor": 5
}
