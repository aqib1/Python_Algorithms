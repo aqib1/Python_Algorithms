{
 "cells": [
  {
   "cell_type": "code",
   "execution_count": 2,
   "id": "11902da1-3c41-4fce-91b2-5cc50f248b45",
   "metadata": {},
   "outputs": [
    {
     "name": "stdout",
     "output_type": "stream",
     "text": [
      "Test\n"
     ]
    }
   ],
   "source": [
    "class ExploratoryDataAnalysis:\n",
    "    def __init__(self):\n",
    "        print(\"Test\")\n",
    "\n",
    "if __name__ == '__main__':\n",
    "    expDataAnalysis = ExploratoryDataAnalysis()"
   ]
  },
  {
   "cell_type": "code",
   "execution_count": null,
   "id": "5a62cda9-8770-4951-bac2-9c2d4ca6f407",
   "metadata": {},
   "outputs": [],
   "source": []
  }
 ],
 "metadata": {
  "kernelspec": {
   "display_name": "Python [conda env:base] *",
   "language": "python",
   "name": "conda-base-py"
  },
  "language_info": {
   "codemirror_mode": {
    "name": "ipython",
    "version": 3
   },
   "file_extension": ".py",
   "mimetype": "text/x-python",
   "name": "python",
   "nbconvert_exporter": "python",
   "pygments_lexer": "ipython3",
   "version": "3.12.7"
  }
 },
 "nbformat": 4,
 "nbformat_minor": 5
}
