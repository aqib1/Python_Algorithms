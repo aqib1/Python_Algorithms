{
 "cells": [
  {
   "cell_type": "code",
   "execution_count": 14,
   "id": "900b513b-aab7-4c60-95ad-e2ad7e702fe2",
   "metadata": {},
   "outputs": [
    {
     "name": "stdout",
     "output_type": "stream",
     "text": [
      "A + 3 = [[5, 1], [6, 2]] + 3 = \n",
      "\n",
      "[[8 4]\n",
      " [9 5]]\n",
      "\n",
      "\n",
      "A + 3 = [[5, 1], [6, 2]] - 3 = \n",
      "\n",
      "[[ 2 -2]\n",
      " [ 3 -1]]\n",
      "\n",
      "\n",
      "A + 3 = [[5, 1], [6, 2]] x 3 = \n",
      "\n",
      "[[15  3]\n",
      " [18  6]]\n"
     ]
    }
   ],
   "source": [
    "%matplotlib inline\n",
    "import sympy as sympy\n",
    "import numpy as np\n",
    "import matplotlib.pyplot as plt\n",
    "import seaborn as sbn\n",
    "from scipy import *\n",
    "\n",
    "class LinearAlgebra:\n",
    "    def operation_with_matrix()\n",
    "    def operation_with_scaler(self, op, a1, a2):\n",
    "        if op == '+':\n",
    "            return self.add_scaler_matrix(a1, a2)\n",
    "        elif op == '-':\n",
    "            return self.sub_scaler_matrix(a1, a2)\n",
    "        elif op == '*':\n",
    "            return self.mul_scaler_matrix(a1, a2)     \n",
    "        else:\n",
    "            raise Exception(f\"Operation {op} is not supported\")\n",
    "            \n",
    "    def add_scaler_matrix(self, scaler, array):\n",
    "        matrix = np.array(array)\n",
    "        return matrix + scaler\n",
    "    \n",
    "    def sub_scaler_matrix(self, scaler, array):\n",
    "        matrix = np.array(array)\n",
    "        return matrix - scaler\n",
    "        \n",
    "    def mul_scaler_matrix(self, scaler, array):\n",
    "        matrix = np.array(array)\n",
    "        return matrix * scaler        \n",
    "\n",
    "if __name__ == '__main__':\n",
    "    la = LinearAlgebra()\n",
    "    A = [[5, 1], [6, 2]]\n",
    "    print(f'A + 3 = {A} + 3 = \\n')\n",
    "    print(la.operation_with_scaler('+', 3, A))\n",
    "    \n",
    "    print('\\n')\n",
    "    print(f'A + 3 = {A} - 3 = \\n')\n",
    "    print(la.operation_with_scaler('-', 3, A))\n",
    "\n",
    "    print('\\n')\n",
    "    print(f'A + 3 = {A} x 3 = \\n')\n",
    "    print(la.operation_with_scaler('*', 3, A))"
   ]
  },
  {
   "cell_type": "code",
   "execution_count": null,
   "id": "9147f37c-5101-438f-90c8-69e4e28928c6",
   "metadata": {},
   "outputs": [],
   "source": []
  }
 ],
 "metadata": {
  "kernelspec": {
   "display_name": "Python 3 (ipykernel)",
   "language": "python",
   "name": "python3"
  },
  "language_info": {
   "codemirror_mode": {
    "name": "ipython",
    "version": 3
   },
   "file_extension": ".py",
   "mimetype": "text/x-python",
   "name": "python",
   "nbconvert_exporter": "python",
   "pygments_lexer": "ipython3",
   "version": "3.13.4"
  }
 },
 "nbformat": 4,
 "nbformat_minor": 5
}
