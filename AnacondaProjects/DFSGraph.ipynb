{
 "cells": [
  {
   "cell_type": "markdown",
   "id": "ed88f448-535c-413b-b26d-886cacc6db21",
   "metadata": {},
   "source": [
    "Time complexity is O(V + E), where V is the number of vertices and E are edges. Space complexity is O(V + E), where V is the number of vertices and E are edges."
   ]
  },
  {
   "cell_type": "code",
   "execution_count": 9,
   "id": "8b67fca5-6ac9-47e8-b96b-112a697c92dd",
   "metadata": {},
   "outputs": [
    {
     "name": "stdout",
     "output_type": "stream",
     "text": [
      "[5, 4, 3, 0, 2, 1]\n"
     ]
    }
   ],
   "source": [
    "class DFSGraph:\n",
    "    def dfs(self, adjacencyList):\n",
    "        visited = set()\n",
    "        result = []\n",
    "        for vertex in adjacencyList:\n",
    "            if vertex not in visited:\n",
    "                self.postOrder(vertex, adjacencyList, visited, result)\n",
    "        return result\n",
    "    \n",
    "    ## Pre-order (Node comes first)    \n",
    "    def preOrder(self, vertex, adjacencyList, visited, result):\n",
    "        visited.add(vertex)\n",
    "        result.append(vertex)\n",
    "\n",
    "        if vertex in adjacencyList:\n",
    "            for neighbour in adjacencyList:\n",
    "                if neighbour not in visited:\n",
    "                    self.preOrder(neighbour, adjacencyList, visited, result)\n",
    "\n",
    "   ## Post-order (Node comes last)    \n",
    "    def postOrder(self, vertex, adjacencyList, visited, result):\n",
    "        visited.add(vertex)\n",
    "        if vertex in adjacencyList:\n",
    "            for neighbour in adjacencyList:\n",
    "                if neighbour not in visited:\n",
    "                    self.postOrder(neighbour, adjacencyList, visited, result)\n",
    "        result.append(vertex)            \n",
    "\n",
    "if __name__ == '__main__':\n",
    "    adjacencyList = {1: [2], 2: [0, 1], 0: [3, 2], 3: [0], 4: [5], 5: [4]}\n",
    "    dfs = DFSGraph()\n",
    "    print(dfs.dfs(adjacencyList))"
   ]
  }
 ],
 "metadata": {
  "kernelspec": {
   "display_name": "Python 3 (ipykernel)",
   "language": "python",
   "name": "python3"
  },
  "language_info": {
   "codemirror_mode": {
    "name": "ipython",
    "version": 3
   },
   "file_extension": ".py",
   "mimetype": "text/x-python",
   "name": "python",
   "nbconvert_exporter": "python",
   "pygments_lexer": "ipython3",
   "version": "3.13.4"
  }
 },
 "nbformat": 4,
 "nbformat_minor": 5
}
