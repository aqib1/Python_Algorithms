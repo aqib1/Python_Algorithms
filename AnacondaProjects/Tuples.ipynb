{
 "cells": [
  {
   "cell_type": "code",
   "execution_count": 1,
   "id": "4a122763-26da-4a9c-af17-3c55387b398d",
   "metadata": {},
   "outputs": [
    {
     "data": {
      "text/plain": [
       "(1, 2, 3)"
      ]
     },
     "execution_count": 1,
     "metadata": {},
     "output_type": "execute_result"
    }
   ],
   "source": [
    "(1,2,3)"
   ]
  },
  {
   "cell_type": "code",
   "execution_count": 7,
   "id": "d83ce849-36d6-4bf8-ac86-430ea63875fc",
   "metadata": {},
   "outputs": [],
   "source": [
    "t = (1, 1, 3)"
   ]
  },
  {
   "cell_type": "code",
   "execution_count": 8,
   "id": "701ead04-696a-441e-8561-4c1076aab875",
   "metadata": {},
   "outputs": [
    {
     "name": "stdout",
     "output_type": "stream",
     "text": [
      "2\n"
     ]
    }
   ],
   "source": [
    "print(t.count(1))"
   ]
  },
  {
   "cell_type": "code",
   "execution_count": 9,
   "id": "7b0abc91-555c-4b22-933f-f328025aeb3a",
   "metadata": {},
   "outputs": [
    {
     "name": "stdout",
     "output_type": "stream",
     "text": [
      "1\n"
     ]
    }
   ],
   "source": [
    "print(t[0])"
   ]
  },
  {
   "cell_type": "code",
   "execution_count": 10,
   "id": "98bd8694-388f-457f-9173-3d8e205d756a",
   "metadata": {},
   "outputs": [
    {
     "data": {
      "text/plain": [
       "tuple"
      ]
     },
     "execution_count": 10,
     "metadata": {},
     "output_type": "execute_result"
    }
   ],
   "source": [
    "type(t)"
   ]
  },
  {
   "cell_type": "code",
   "execution_count": 11,
   "id": "996a8679-4bf8-43b0-9bd9-7b59e99fe4bf",
   "metadata": {},
   "outputs": [
    {
     "data": {
      "text/plain": [
       "3"
      ]
     },
     "execution_count": 11,
     "metadata": {},
     "output_type": "execute_result"
    }
   ],
   "source": [
    "len(t)"
   ]
  },
  {
   "cell_type": "code",
   "execution_count": 13,
   "id": "43f8b873-d1f0-4f06-bacd-b43aaac6e5fa",
   "metadata": {},
   "outputs": [],
   "source": [
    "t = ('a', {\"key\":12}, True, 4.35)"
   ]
  },
  {
   "cell_type": "code",
   "execution_count": 14,
   "id": "9119b67c-ebb7-4cf0-b150-badd83e8bc90",
   "metadata": {},
   "outputs": [
    {
     "data": {
      "text/plain": [
       "({'key': 12}, True)"
      ]
     },
     "execution_count": 14,
     "metadata": {},
     "output_type": "execute_result"
    }
   ],
   "source": [
    "t[1:3]"
   ]
  },
  {
   "cell_type": "code",
   "execution_count": 15,
   "id": "7da7c76f-babc-478d-b6c8-d783387f18f0",
   "metadata": {},
   "outputs": [
    {
     "data": {
      "text/plain": [
       "(4.35, True, {'key': 12}, 'a')"
      ]
     },
     "execution_count": 15,
     "metadata": {},
     "output_type": "execute_result"
    }
   ],
   "source": [
    "t[::-1]"
   ]
  },
  {
   "cell_type": "code",
   "execution_count": 16,
   "id": "090b45f0-0900-463c-9cf1-240e1799f8fa",
   "metadata": {},
   "outputs": [
    {
     "data": {
      "text/plain": [
       "('a', {'key': 12}, True)"
      ]
     },
     "execution_count": 16,
     "metadata": {},
     "output_type": "execute_result"
    }
   ],
   "source": [
    "t[:3]"
   ]
  },
  {
   "cell_type": "code",
   "execution_count": 17,
   "id": "85d93d08-4eec-402b-8e02-77b5545dc66c",
   "metadata": {},
   "outputs": [
    {
     "data": {
      "text/plain": [
       "4.35"
      ]
     },
     "execution_count": 17,
     "metadata": {},
     "output_type": "execute_result"
    }
   ],
   "source": [
    "t[-1]"
   ]
  },
  {
   "cell_type": "code",
   "execution_count": 18,
   "id": "d95f12a7-7505-4cc3-96c1-0801cd6c2fcb",
   "metadata": {},
   "outputs": [
    {
     "data": {
      "text/plain": [
       "12"
      ]
     },
     "execution_count": 18,
     "metadata": {},
     "output_type": "execute_result"
    }
   ],
   "source": [
    "t[1][\"key\"]"
   ]
  },
  {
   "cell_type": "code",
   "execution_count": 19,
   "id": "85311a27-5a8b-4933-a9fe-0a18a0fca833",
   "metadata": {},
   "outputs": [
    {
     "data": {
      "text/plain": [
       "2"
      ]
     },
     "execution_count": 19,
     "metadata": {},
     "output_type": "execute_result"
    }
   ],
   "source": [
    "t.index(True)"
   ]
  },
  {
   "cell_type": "code",
   "execution_count": 20,
   "id": "7ab4f59d-8fae-4750-9ae9-a592f79e854d",
   "metadata": {},
   "outputs": [
    {
     "data": {
      "text/plain": [
       "1"
      ]
     },
     "execution_count": 20,
     "metadata": {},
     "output_type": "execute_result"
    }
   ],
   "source": [
    "t.index({\"key\":12})"
   ]
  },
  {
   "cell_type": "code",
   "execution_count": 21,
   "id": "74e9e73b-fbdf-4d91-ad00-04eb3d1f0d4a",
   "metadata": {},
   "outputs": [
    {
     "data": {
      "text/plain": [
       "0"
      ]
     },
     "execution_count": 21,
     "metadata": {},
     "output_type": "execute_result"
    }
   ],
   "source": [
    "t.index('a')"
   ]
  },
  {
   "cell_type": "code",
   "execution_count": 23,
   "id": "7f338194-9ef6-444e-8189-4c358c85def7",
   "metadata": {},
   "outputs": [],
   "source": [
    "## t[0] = 'b' it will fail as tuples are immutable"
   ]
  },
  {
   "cell_type": "code",
   "execution_count": 24,
   "id": "df79def1-efd1-4fc9-8ff5-dce7662b2618",
   "metadata": {},
   "outputs": [
    {
     "data": {
      "text/plain": [
       "116.35"
      ]
     },
     "execution_count": 24,
     "metadata": {},
     "output_type": "execute_result"
    }
   ],
   "source": [
    "t[3] + 112"
   ]
  },
  {
   "cell_type": "code",
   "execution_count": null,
   "id": "a6c052f6-8e84-4224-9446-b23e92a50d6a",
   "metadata": {},
   "outputs": [],
   "source": []
  }
 ],
 "metadata": {
  "kernelspec": {
   "display_name": "Python [conda env:base] *",
   "language": "python",
   "name": "conda-base-py"
  },
  "language_info": {
   "codemirror_mode": {
    "name": "ipython",
    "version": 3
   },
   "file_extension": ".py",
   "mimetype": "text/x-python",
   "name": "python",
   "nbconvert_exporter": "python",
   "pygments_lexer": "ipython3",
   "version": "3.12.7"
  }
 },
 "nbformat": 4,
 "nbformat_minor": 5
}
