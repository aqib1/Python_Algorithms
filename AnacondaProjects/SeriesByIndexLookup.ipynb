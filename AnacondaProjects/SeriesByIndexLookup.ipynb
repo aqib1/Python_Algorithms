{
 "cells": [
  {
   "cell_type": "code",
   "execution_count": 1,
   "id": "a85c5276-af99-4d32-be98-a8996710d59e",
   "metadata": {},
   "outputs": [],
   "source": [
    "import pandas as pd"
   ]
  },
  {
   "cell_type": "code",
   "execution_count": 2,
   "id": "5affb732-4356-4a5e-8daa-ef6793d4ea9e",
   "metadata": {},
   "outputs": [],
   "source": [
    "pokemon = pd.read_csv(\"pokemon.csv\", usecols=[\"Name\"]).squeeze(\"columns\")"
   ]
  },
  {
   "cell_type": "code",
   "execution_count": 3,
   "id": "0eb30534-7ad6-4e46-813b-de9978aebbc3",
   "metadata": {},
   "outputs": [
    {
     "data": {
      "text/plain": [
       "'Bulbasaur'"
      ]
     },
     "execution_count": 3,
     "metadata": {},
     "output_type": "execute_result"
    }
   ],
   "source": [
    "pokemon.iloc[0]"
   ]
  },
  {
   "cell_type": "code",
   "execution_count": 4,
   "id": "b8f1584c-9f10-4f4e-8298-73a4255d4e02",
   "metadata": {},
   "outputs": [
    {
     "data": {
      "text/plain": [
       "0    Bulbasaur\n",
       "1      Ivysaur\n",
       "2     Venusaur\n",
       "Name: Name, dtype: object"
      ]
     },
     "execution_count": 4,
     "metadata": {},
     "output_type": "execute_result"
    }
   ],
   "source": [
    "pokemon.iloc[[0, 1, 2]]"
   ]
  },
  {
   "cell_type": "code",
   "execution_count": 5,
   "id": "c4c5e3c6-85b5-4588-826f-0547428dc5b6",
   "metadata": {},
   "outputs": [
    {
     "data": {
      "text/plain": [
       "2       Venusaur\n",
       "3     Charmander\n",
       "4     Charmeleon\n",
       "5      Charizard\n",
       "6       Squirtle\n",
       "7      Wartortle\n",
       "8      Blastoise\n",
       "9       Caterpie\n",
       "10       Metapod\n",
       "Name: Name, dtype: object"
      ]
     },
     "execution_count": 5,
     "metadata": {},
     "output_type": "execute_result"
    }
   ],
   "source": [
    "pokemon.iloc[2:11]"
   ]
  },
  {
   "cell_type": "code",
   "execution_count": 6,
   "id": "a3bcafbe-8c16-428f-9acd-2c5b3a65d82f",
   "metadata": {},
   "outputs": [
    {
     "data": {
      "text/plain": [
       "2       Venusaur\n",
       "4     Charmeleon\n",
       "6       Squirtle\n",
       "8      Blastoise\n",
       "10       Metapod\n",
       "Name: Name, dtype: object"
      ]
     },
     "execution_count": 6,
     "metadata": {},
     "output_type": "execute_result"
    }
   ],
   "source": [
    "pokemon.iloc[2:11:2]"
   ]
  },
  {
   "cell_type": "code",
   "execution_count": 7,
   "id": "81f4d3af-45ba-47fe-9cc4-9f0e965e3f6e",
   "metadata": {},
   "outputs": [
    {
     "data": {
      "text/plain": [
       "0      Bulbasaur\n",
       "1        Ivysaur\n",
       "2       Venusaur\n",
       "3     Charmander\n",
       "4     Charmeleon\n",
       "5      Charizard\n",
       "6       Squirtle\n",
       "7      Wartortle\n",
       "8      Blastoise\n",
       "9       Caterpie\n",
       "10       Metapod\n",
       "11    Butterfree\n",
       "12        Weedle\n",
       "13        Kakuna\n",
       "14      Beedrill\n",
       "15        Pidgey\n",
       "16     Pidgeotto\n",
       "17       Pidgeot\n",
       "18       Rattata\n",
       "19      Raticate\n",
       "Name: Name, dtype: object"
      ]
     },
     "execution_count": 7,
     "metadata": {},
     "output_type": "execute_result"
    }
   ],
   "source": [
    "pokemon.iloc[:20]"
   ]
  },
  {
   "cell_type": "code",
   "execution_count": 8,
   "id": "55fa2706-f404-4301-b74f-c50775f04e1c",
   "metadata": {},
   "outputs": [
    {
     "data": {
      "text/plain": [
       "2           Venusaur\n",
       "4         Charmeleon\n",
       "6           Squirtle\n",
       "8          Blastoise\n",
       "10           Metapod\n",
       "            ...     \n",
       "1000        Wo-Chien\n",
       "1002         Ting-Lu\n",
       "1004    Roaring Moon\n",
       "1006        Koraidon\n",
       "1008    Walking Wake\n",
       "Name: Name, Length: 504, dtype: object"
      ]
     },
     "execution_count": 8,
     "metadata": {},
     "output_type": "execute_result"
    }
   ],
   "source": [
    "pokemon.iloc[2::2]"
   ]
  },
  {
   "cell_type": "code",
   "execution_count": 9,
   "id": "610c8408-4540-4748-b87e-28f7a88a59de",
   "metadata": {},
   "outputs": [
    {
     "data": {
      "text/plain": [
       "'Iron Leaves'"
      ]
     },
     "execution_count": 9,
     "metadata": {},
     "output_type": "execute_result"
    }
   ],
   "source": [
    "pokemon.iloc[-1]"
   ]
  },
  {
   "cell_type": "code",
   "execution_count": 12,
   "id": "f2dffbd7-f104-4435-9027-cfa56ec36fe2",
   "metadata": {},
   "outputs": [],
   "source": [
    "pokemon = pd.read_csv(\"pokemon.csv\", index_col=[\"Name\"]).squeeze(\"columns\")"
   ]
  },
  {
   "cell_type": "code",
   "execution_count": 13,
   "id": "5638feef-f0a5-49d5-a582-f26594d874c3",
   "metadata": {},
   "outputs": [
    {
     "data": {
      "text/plain": [
       "'Fire'"
      ]
     },
     "execution_count": 13,
     "metadata": {},
     "output_type": "execute_result"
    }
   ],
   "source": [
    "pokemon.loc[\"Charmeleon\"]"
   ]
  },
  {
   "cell_type": "code",
   "execution_count": 14,
   "id": "0ae7eea0-0b63-4d35-b6fd-aa7c9f61bbf2",
   "metadata": {},
   "outputs": [
    {
     "data": {
      "text/plain": [
       "Name\n",
       "Charmeleon                Fire\n",
       "Koraidon      Fighting, Dragon\n",
       "Squirtle                 Water\n",
       "Name: Type, dtype: object"
      ]
     },
     "execution_count": 14,
     "metadata": {},
     "output_type": "execute_result"
    }
   ],
   "source": [
    "pokemon.loc[[\"Charmeleon\", \"Koraidon\", \"Squirtle\"]]"
   ]
  },
  {
   "cell_type": "code",
   "execution_count": 15,
   "id": "3677cb5d-a609-4cd5-8bbf-2cd6dbbe52c4",
   "metadata": {},
   "outputs": [],
   "source": [
    "guitars_dict = {\n",
    "    \"Fender Telecaster\": \"Baby Blue\",\n",
    "    \"Gibson Les Paul\": \"Sunburst\",\n",
    "    \"ESP Eclipse\": \"Dark Green\"\n",
    "}"
   ]
  },
  {
   "cell_type": "code",
   "execution_count": 16,
   "id": "16fe7081-5d5a-4482-bda8-3f97414d4a7a",
   "metadata": {},
   "outputs": [],
   "source": [
    "guitars = pd.Series(guitars_dict)"
   ]
  },
  {
   "cell_type": "code",
   "execution_count": 17,
   "id": "f3d8d314-24f3-4b2e-a33a-ff1578e7dafe",
   "metadata": {},
   "outputs": [],
   "source": [
    "fender_color = guitars.iloc[0]"
   ]
  },
  {
   "cell_type": "code",
   "execution_count": 18,
   "id": "1bcea59c-da90-439b-9714-dd2cd2231acd",
   "metadata": {},
   "outputs": [],
   "source": [
    "gibson_color = guitars.loc[\"Gibson Les Paul\"]\n",
    "esp_color = guitars.loc[\"ESP Eclipse\"]"
   ]
  }
 ],
 "metadata": {
  "kernelspec": {
   "display_name": "Python 3 (ipykernel)",
   "language": "python",
   "name": "python3"
  },
  "language_info": {
   "codemirror_mode": {
    "name": "ipython",
    "version": 3
   },
   "file_extension": ".py",
   "mimetype": "text/x-python",
   "name": "python",
   "nbconvert_exporter": "python",
   "pygments_lexer": "ipython3",
   "version": "3.13.4"
  }
 },
 "nbformat": 4,
 "nbformat_minor": 5
}
