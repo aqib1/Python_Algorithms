{
 "cells": [
  {
   "cell_type": "code",
   "execution_count": 4,
   "id": "fe10ffe8-8167-4c7e-a41e-a85a732f6e69",
   "metadata": {},
   "outputs": [],
   "source": [
    "import pandas as pd\n",
    "google = pd.read_csv(\"google_stock_price.csv\", usecols=[\"Price\"]).squeeze(\"columns\")"
   ]
  },
  {
   "cell_type": "code",
   "execution_count": 5,
   "id": "6b486cfc-b8bd-4739-bc9c-2e4d4d45d1f6",
   "metadata": {},
   "outputs": [
    {
     "data": {
      "text/plain": [
       "0    2.490664\n",
       "1    2.515820\n",
       "2    2.758411\n",
       "3    2.770615\n",
       "4    2.614201\n",
       "Name: Price, dtype: float64"
      ]
     },
     "execution_count": 5,
     "metadata": {},
     "output_type": "execute_result"
    }
   ],
   "source": [
    "google.head()"
   ]
  },
  {
   "cell_type": "code",
   "execution_count": 12,
   "id": "fd9e4156-efaa-4a83-883d-15f635cefdde",
   "metadata": {},
   "outputs": [
    {
     "data": {
      "text/plain": [
       "np.int64(4793)"
      ]
     },
     "execution_count": 12,
     "metadata": {},
     "output_type": "execute_result"
    }
   ],
   "source": [
    "google.count() ## will not include empty rows"
   ]
  },
  {
   "cell_type": "code",
   "execution_count": 8,
   "id": "0c2887c0-4160-4c73-a9d5-65cef0c72f71",
   "metadata": {},
   "outputs": [
    {
     "data": {
      "text/plain": [
       "4794"
      ]
     },
     "execution_count": 8,
     "metadata": {},
     "output_type": "execute_result"
    }
   ],
   "source": [
    "google.size ## will include empty rows (last row in file is empty)"
   ]
  },
  {
   "cell_type": "code",
   "execution_count": 10,
   "id": "33ce9e1c-35f0-4525-a6d1-79347e1461e4",
   "metadata": {},
   "outputs": [
    {
     "data": {
      "text/plain": [
       "np.int64(24)"
      ]
     },
     "execution_count": 10,
     "metadata": {},
     "output_type": "execute_result"
    }
   ],
   "source": [
    "pd.Series([1, 2, 3, 4]).product()"
   ]
  },
  {
   "cell_type": "code",
   "execution_count": 13,
   "id": "8192f962-61a5-40a4-906c-10b8c6e68a4f",
   "metadata": {},
   "outputs": [
    {
     "data": {
      "text/plain": [
       "np.float64(40.211376870018775)"
      ]
     },
     "execution_count": 13,
     "metadata": {},
     "output_type": "execute_result"
    }
   ],
   "source": [
    "google.mean()"
   ]
  },
  {
   "cell_type": "code",
   "execution_count": 14,
   "id": "0b096844-7195-4b03-bba5-946087b56d6e",
   "metadata": {},
   "outputs": [
    {
     "data": {
      "text/plain": [
       "np.float64(192733.129338)"
      ]
     },
     "execution_count": 14,
     "metadata": {},
     "output_type": "execute_result"
    }
   ],
   "source": [
    "google.sum()"
   ]
  },
  {
   "cell_type": "code",
   "execution_count": 15,
   "id": "31a11892-8dbb-4f4f-9bf8-b86fa37a41e6",
   "metadata": {},
   "outputs": [
    {
     "data": {
      "text/plain": [
       "37.2747529438681"
      ]
     },
     "execution_count": 15,
     "metadata": {},
     "output_type": "execute_result"
    }
   ],
   "source": [
    "google.std() ## standard deviation"
   ]
  },
  {
   "cell_type": "code",
   "execution_count": 17,
   "id": "94f9d97b-fd04-4b47-8f9d-8fb2b0291655",
   "metadata": {},
   "outputs": [
    {
     "data": {
      "text/plain": [
       "151.863495"
      ]
     },
     "execution_count": 17,
     "metadata": {},
     "output_type": "execute_result"
    }
   ],
   "source": [
    "google.max()"
   ]
  },
  {
   "cell_type": "code",
   "execution_count": 18,
   "id": "972aa9f5-6a2f-464a-8631-7c349ba307ae",
   "metadata": {},
   "outputs": [
    {
     "data": {
      "text/plain": [
       "2.47049"
      ]
     },
     "execution_count": 18,
     "metadata": {},
     "output_type": "execute_result"
    }
   ],
   "source": [
    "google.min()"
   ]
  },
  {
   "cell_type": "code",
   "execution_count": 19,
   "id": "ccd076bc-3200-48a2-9944-deb1efe76dd7",
   "metadata": {},
   "outputs": [
    {
     "data": {
      "text/plain": [
       "26.327717"
      ]
     },
     "execution_count": 19,
     "metadata": {},
     "output_type": "execute_result"
    }
   ],
   "source": [
    "google.median()"
   ]
  },
  {
   "cell_type": "code",
   "execution_count": 20,
   "id": "3e81b699-d930-4835-9586-b60d2bd19a0a",
   "metadata": {},
   "outputs": [
    {
     "data": {
      "text/plain": [
       "0    14.719826\n",
       "1    49.000000\n",
       "Name: Price, dtype: float64"
      ]
     },
     "execution_count": 20,
     "metadata": {},
     "output_type": "execute_result"
    }
   ],
   "source": [
    "google.mode() ## most frequent number"
   ]
  },
  {
   "cell_type": "code",
   "execution_count": 21,
   "id": "cb62f73b-ea63-4abc-999d-8293e72d2351",
   "metadata": {},
   "outputs": [
    {
     "data": {
      "text/plain": [
       "count    4793.000000\n",
       "mean       40.211377\n",
       "std        37.274753\n",
       "min         2.470490\n",
       "25%        12.767395\n",
       "50%        26.327717\n",
       "75%        56.311001\n",
       "max       151.863495\n",
       "Name: Price, dtype: float64"
      ]
     },
     "execution_count": 21,
     "metadata": {},
     "output_type": "execute_result"
    }
   ],
   "source": [
    "google.describe()"
   ]
  },
  {
   "cell_type": "code",
   "execution_count": null,
   "id": "7c9dfed0-4451-4d99-9e48-5a4e83e1958f",
   "metadata": {},
   "outputs": [],
   "source": []
  }
 ],
 "metadata": {
  "kernelspec": {
   "display_name": "Python 3 (ipykernel)",
   "language": "python",
   "name": "python3"
  },
  "language_info": {
   "codemirror_mode": {
    "name": "ipython",
    "version": 3
   },
   "file_extension": ".py",
   "mimetype": "text/x-python",
   "name": "python",
   "nbconvert_exporter": "python",
   "pygments_lexer": "ipython3",
   "version": "3.13.4"
  }
 },
 "nbformat": 4,
 "nbformat_minor": 5
}
