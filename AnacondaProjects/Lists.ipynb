{
 "cells": [
  {
   "cell_type": "code",
   "execution_count": 4,
   "id": "020703a8-7003-4e4f-b453-6f4dc063fcff",
   "metadata": {},
   "outputs": [],
   "source": [
    "my_list = [11, 25, 35]"
   ]
  },
  {
   "cell_type": "code",
   "execution_count": 5,
   "id": "d1e50a30-b561-4306-8d41-a448aed478c7",
   "metadata": {},
   "outputs": [
    {
     "name": "stdout",
     "output_type": "stream",
     "text": [
      "11\n",
      "25\n",
      "35\n"
     ]
    }
   ],
   "source": [
    "for item in my_list:\n",
    "    print(item)"
   ]
  },
  {
   "cell_type": "code",
   "execution_count": 6,
   "id": "4dc39668-46c3-4bcf-8b04-51a819ae2043",
   "metadata": {},
   "outputs": [
    {
     "name": "stdout",
     "output_type": "stream",
     "text": [
      "index = 0: value = 11\n",
      "index = 1: value = 25\n",
      "index = 2: value = 35\n"
     ]
    }
   ],
   "source": [
    "for index, item in enumerate(my_list):\n",
    "    print(f\"index = {index}: value = {item}\")"
   ]
  },
  {
   "cell_type": "code",
   "execution_count": 10,
   "id": "3d72927d-0232-41ef-a61f-4e4ad9752d08",
   "metadata": {},
   "outputs": [],
   "source": [
    "my_list = ['Aqib', 32, 172.5]"
   ]
  },
  {
   "cell_type": "code",
   "execution_count": 11,
   "id": "6623f231-210e-4d90-8242-53f250aaf29d",
   "metadata": {},
   "outputs": [
    {
     "name": "stdout",
     "output_type": "stream",
     "text": [
      "['Aqib', 32, 172.5]\n"
     ]
    }
   ],
   "source": [
    "print(my_list)"
   ]
  },
  {
   "cell_type": "code",
   "execution_count": 12,
   "id": "75cccd3b-3488-410a-a1a0-0ef0beac4601",
   "metadata": {},
   "outputs": [
    {
     "name": "stdout",
     "output_type": "stream",
     "text": [
      "32\n"
     ]
    }
   ],
   "source": [
    "print(my_list[1])"
   ]
  },
  {
   "cell_type": "code",
   "execution_count": 13,
   "id": "375c2243-b6a5-47c1-a68f-3667349e16b2",
   "metadata": {},
   "outputs": [
    {
     "name": "stdout",
     "output_type": "stream",
     "text": [
      "3\n"
     ]
    }
   ],
   "source": [
    "print(len(my_list))"
   ]
  },
  {
   "cell_type": "code",
   "execution_count": 14,
   "id": "65518141-d597-4bec-a592-921980d19371",
   "metadata": {},
   "outputs": [
    {
     "name": "stdout",
     "output_type": "stream",
     "text": [
      "172.5\n"
     ]
    }
   ],
   "source": [
    "print(my_list[-1])"
   ]
  },
  {
   "cell_type": "code",
   "execution_count": 15,
   "id": "d5f0afba-696a-4535-a194-80ef0b8b69a0",
   "metadata": {},
   "outputs": [
    {
     "name": "stdout",
     "output_type": "stream",
     "text": [
      "['Aqib', 32]\n"
     ]
    }
   ],
   "source": [
    "print(my_list[0:2])"
   ]
  },
  {
   "cell_type": "code",
   "execution_count": 16,
   "id": "22d3ec49-44a2-42c3-9379-2af2ed03cfcd",
   "metadata": {},
   "outputs": [
    {
     "name": "stdout",
     "output_type": "stream",
     "text": [
      "[]\n"
     ]
    }
   ],
   "source": [
    "print(my_list[0:2:-1])"
   ]
  },
  {
   "cell_type": "code",
   "execution_count": 17,
   "id": "c234ce15-4874-4bd1-bee5-5c83766b9f4d",
   "metadata": {},
   "outputs": [
    {
     "name": "stdout",
     "output_type": "stream",
     "text": [
      "['Aqib', 32]\n"
     ]
    }
   ],
   "source": [
    "print(my_list[0:2:1])"
   ]
  },
  {
   "cell_type": "code",
   "execution_count": 18,
   "id": "01d5235b-1509-4950-acb3-19bcebbc5a8e",
   "metadata": {},
   "outputs": [
    {
     "name": "stdout",
     "output_type": "stream",
     "text": [
      "['Aqib', 32, 172.5]\n"
     ]
    }
   ],
   "source": [
    "print(my_list[::1])"
   ]
  },
  {
   "cell_type": "code",
   "execution_count": 19,
   "id": "e02d25f9-46e0-4f0a-973f-e87fc112f655",
   "metadata": {},
   "outputs": [
    {
     "name": "stdout",
     "output_type": "stream",
     "text": [
      "[172.5, 32, 'Aqib']\n"
     ]
    }
   ],
   "source": [
    "print(my_list[::-1])"
   ]
  },
  {
   "cell_type": "code",
   "execution_count": 20,
   "id": "c5b7322d-c39d-49a1-b72e-f651ec790b45",
   "metadata": {},
   "outputs": [],
   "source": [
    "list1 = ['One', 'Two', 'Three']"
   ]
  },
  {
   "cell_type": "code",
   "execution_count": 21,
   "id": "507760d0-59f2-4d8c-bd4a-4cf58e5f8d80",
   "metadata": {},
   "outputs": [],
   "source": [
    "list2 = ['Four', 'Five', 'Six']"
   ]
  },
  {
   "cell_type": "code",
   "execution_count": 22,
   "id": "7f50fe1c-5e70-493e-8b93-9f51f588ffc7",
   "metadata": {},
   "outputs": [],
   "source": [
    "list3 = list1 + list2"
   ]
  },
  {
   "cell_type": "code",
   "execution_count": 23,
   "id": "988afe83-af09-4606-a15e-93aec9c6701b",
   "metadata": {},
   "outputs": [
    {
     "data": {
      "text/plain": [
       "['One', 'Two', 'Three', 'Four', 'Five', 'Six']"
      ]
     },
     "execution_count": 23,
     "metadata": {},
     "output_type": "execute_result"
    }
   ],
   "source": [
    "list3"
   ]
  },
  {
   "cell_type": "code",
   "execution_count": 27,
   "id": "cc625ce4-fcae-482f-8747-f3d65be94443",
   "metadata": {},
   "outputs": [
    {
     "name": "stdout",
     "output_type": "stream",
     "text": [
      "['Six', 'Five', 'Four', 'Three', 'Two', 'One']\n"
     ]
    }
   ],
   "source": [
    "print(list3[::-1])"
   ]
  },
  {
   "cell_type": "code",
   "execution_count": 29,
   "id": "91f3ef3a-daff-4da2-b66a-7668703ada98",
   "metadata": {},
   "outputs": [],
   "source": [
    "list3[0] = 'Zero'"
   ]
  },
  {
   "cell_type": "code",
   "execution_count": 30,
   "id": "81ccbbb9-5cf3-474e-9e26-bac433b3b12c",
   "metadata": {},
   "outputs": [
    {
     "name": "stdout",
     "output_type": "stream",
     "text": [
      "['Zero', 'Two', 'Three', 'Four', 'Five', 'Six']\n"
     ]
    }
   ],
   "source": [
    "print(list3)"
   ]
  },
  {
   "cell_type": "code",
   "execution_count": 32,
   "id": "7b81a4a1-5817-45ec-a496-7f76dec3fce3",
   "metadata": {},
   "outputs": [],
   "source": [
    "list3[0] = 'One'"
   ]
  },
  {
   "cell_type": "code",
   "execution_count": 33,
   "id": "a18f7c00-b099-45b7-b416-ba09cc6e205d",
   "metadata": {},
   "outputs": [
    {
     "name": "stdout",
     "output_type": "stream",
     "text": [
      "['One', 'Two', 'Three', 'Four', 'Five', 'Six']\n"
     ]
    }
   ],
   "source": [
    "print(list3)"
   ]
  },
  {
   "cell_type": "code",
   "execution_count": 34,
   "id": "2d6a5618-9bfa-4517-a298-fdca94fee324",
   "metadata": {},
   "outputs": [],
   "source": [
    "list3.append('Seven')"
   ]
  },
  {
   "cell_type": "code",
   "execution_count": 35,
   "id": "bb813771-e7c8-437e-acf6-62ffbd87e019",
   "metadata": {},
   "outputs": [
    {
     "name": "stdout",
     "output_type": "stream",
     "text": [
      "['One', 'Two', 'Three', 'Four', 'Five', 'Six', 'Seven']\n"
     ]
    }
   ],
   "source": [
    "print(list3)"
   ]
  },
  {
   "cell_type": "code",
   "execution_count": 39,
   "id": "3074cfb6-65d5-4217-b826-1c52327e1698",
   "metadata": {},
   "outputs": [
    {
     "name": "stdout",
     "output_type": "stream",
     "text": [
      "Seven\n"
     ]
    }
   ],
   "source": [
    "print(list3.pop())"
   ]
  },
  {
   "cell_type": "code",
   "execution_count": 40,
   "id": "93b38915-fca4-4e0b-b69b-f5346da185cf",
   "metadata": {},
   "outputs": [
    {
     "data": {
      "text/plain": [
       "['One', 'Two', 'Three', 'Four', 'Five', 'Six']"
      ]
     },
     "execution_count": 40,
     "metadata": {},
     "output_type": "execute_result"
    }
   ],
   "source": [
    "list3"
   ]
  },
  {
   "cell_type": "code",
   "execution_count": 41,
   "id": "6e6cfe10-d060-4c5d-9fdf-045af1203a86",
   "metadata": {},
   "outputs": [],
   "source": [
    "list3.sort()"
   ]
  },
  {
   "cell_type": "code",
   "execution_count": 42,
   "id": "5a07d944-f55b-4e01-8e4e-096e65757d05",
   "metadata": {},
   "outputs": [
    {
     "name": "stdout",
     "output_type": "stream",
     "text": [
      "['Five', 'Four', 'One', 'Six', 'Three', 'Two']\n"
     ]
    }
   ],
   "source": [
    "print(list3)"
   ]
  },
  {
   "cell_type": "code",
   "execution_count": 43,
   "id": "db7996e4-1731-4b8c-b870-88ba5dd55ac5",
   "metadata": {},
   "outputs": [],
   "source": [
    "list1 = [5, 4, 1, 11, 2, 3, 1, -10]"
   ]
  },
  {
   "cell_type": "code",
   "execution_count": 44,
   "id": "8e651d70-1328-4a83-9388-50e1ab2d5df6",
   "metadata": {},
   "outputs": [],
   "source": [
    "list1.sort()"
   ]
  },
  {
   "cell_type": "code",
   "execution_count": 49,
   "id": "b8c383b6-bfc0-4373-8549-e025b0e4696f",
   "metadata": {},
   "outputs": [
    {
     "name": "stdout",
     "output_type": "stream",
     "text": [
      "[-10, 1, 1, 2, 3, 4, 5, 11]\n"
     ]
    }
   ],
   "source": [
    "print(list1)"
   ]
  },
  {
   "cell_type": "code",
   "execution_count": 50,
   "id": "2f7299e9-d927-45e2-a3b4-54cffd37acbe",
   "metadata": {},
   "outputs": [],
   "source": [
    "list1.reverse()"
   ]
  },
  {
   "cell_type": "code",
   "execution_count": 51,
   "id": "343c2b58-17f4-4f66-b113-d64bad3deab4",
   "metadata": {},
   "outputs": [
    {
     "data": {
      "text/plain": [
       "[11, 5, 4, 3, 2, 1, 1, -10]"
      ]
     },
     "execution_count": 51,
     "metadata": {},
     "output_type": "execute_result"
    }
   ],
   "source": [
    "list1"
   ]
  },
  {
   "cell_type": "code",
   "execution_count": null,
   "id": "66831d4e-4e6c-413d-ab69-c5d94e85528a",
   "metadata": {},
   "outputs": [],
   "source": [
    "empty = []\n",
    "active = [True]\n",
    "favorite_numbers = [1, 2, 3, 4, 5]\n",
    "colors = [\"red\", \"green\", \"blue\"]\n",
    "def is_long(listArgument: list):\n",
    "    if len(listArgument) > 5:\n",
    "        return True\n",
    "    else:\n",
    "        return False\n",
    "    "
   ]
  }
 ],
 "metadata": {
  "kernelspec": {
   "display_name": "Python 3 (ipykernel)",
   "language": "python",
   "name": "python3"
  },
  "language_info": {
   "codemirror_mode": {
    "name": "ipython",
    "version": 3
   },
   "file_extension": ".py",
   "mimetype": "text/x-python",
   "name": "python",
   "nbconvert_exporter": "python",
   "pygments_lexer": "ipython3",
   "version": "3.13.4"
  }
 },
 "nbformat": 4,
 "nbformat_minor": 5
}
