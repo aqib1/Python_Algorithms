{
 "cells": [
  {
   "cell_type": "markdown",
   "id": "801fb47c-44b0-402a-98c7-5d65315c98cc",
   "metadata": {},
   "source": [
    "Time complexity is O(V + E), where V is the number of vertices and E are edges. Space complexity is O(V) where V is number of vertexes"
   ]
  },
  {
   "cell_type": "code",
   "execution_count": 1,
   "id": "da6a6a50-0d16-4927-b25e-29fdf9865165",
   "metadata": {},
   "outputs": [
    {
     "name": "stdout",
     "output_type": "stream",
     "text": [
      "[0, 1, 2, 3, 5, 9, 7, 11, 195]\n"
     ]
    }
   ],
   "source": [
    "from collections import deque\n",
    "class BFSUsingAdjacencyListDisconnectedGraph:\n",
    "    def bfs(self, visited, bfs, adjacencyList, vertex):\n",
    "        if vertex in adjacencyList:\n",
    "            for neighbour in adjacencyList[vertex]:\n",
    "                if neighbour not in visited:\n",
    "                    visited.add(neighbour)\n",
    "                    bfs.append(neighbour)\n",
    "\n",
    "    def bfsDisconnectedGraph(self, adjacencyList):\n",
    "        visited = set()\n",
    "        bfs = []\n",
    "        for vertex in adjacencyList:\n",
    "            if vertex not in visited:\n",
    "                bfs.append(vertex)\n",
    "                visited.add(vertex)\n",
    "                self.bfs(visited, bfs, adjacencyList, vertex)\n",
    "        return bfs        \n",
    "\n",
    "if __name__ == \"__main__\":\n",
    "    graph = {0: [1, 2], 1: [2], 2: [3], 3: [1, 2, 5], 9: [7], 11: [195]}\n",
    "    bfs = BFSUsingAdjacencyListDisconnectedGraph()\n",
    "    print(bfs.bfsDisconnectedGraph(graph))"
   ]
  },
  {
   "cell_type": "code",
   "execution_count": null,
   "id": "8c143ea2-0a5d-4924-882f-689484f77e83",
   "metadata": {},
   "outputs": [],
   "source": []
  }
 ],
 "metadata": {
  "kernelspec": {
   "display_name": "Python 3 (ipykernel)",
   "language": "python",
   "name": "python3"
  },
  "language_info": {
   "codemirror_mode": {
    "name": "ipython",
    "version": 3
   },
   "file_extension": ".py",
   "mimetype": "text/x-python",
   "name": "python",
   "nbconvert_exporter": "python",
   "pygments_lexer": "ipython3",
   "version": "3.13.4"
  }
 },
 "nbformat": 4,
 "nbformat_minor": 5
}
