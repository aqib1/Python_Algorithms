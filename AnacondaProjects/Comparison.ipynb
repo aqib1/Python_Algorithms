{
 "cells": [
  {
   "cell_type": "code",
   "execution_count": 1,
   "id": "973890e9-9659-4c3b-936d-8d9ad68c6c96",
   "metadata": {},
   "outputs": [
    {
     "data": {
      "text/plain": [
       "True"
      ]
     },
     "execution_count": 1,
     "metadata": {},
     "output_type": "execute_result"
    }
   ],
   "source": [
    "1 < 2 <= 3 < 4 <= 5"
   ]
  },
  {
   "cell_type": "code",
   "execution_count": 2,
   "id": "fd213baf-9fd8-415f-90b4-8db95bdfe5db",
   "metadata": {},
   "outputs": [
    {
     "data": {
      "text/plain": [
       "True"
      ]
     },
     "execution_count": 2,
     "metadata": {},
     "output_type": "execute_result"
    }
   ],
   "source": [
    "1 < 2 and 2 <= 3 and 5 > 3"
   ]
  },
  {
   "cell_type": "code",
   "execution_count": 3,
   "id": "9b9e14cc-4a4d-4e1f-b918-1d73e9989442",
   "metadata": {},
   "outputs": [
    {
     "data": {
      "text/plain": [
       "False"
      ]
     },
     "execution_count": 3,
     "metadata": {},
     "output_type": "execute_result"
    }
   ],
   "source": [
    "1 == 2"
   ]
  },
  {
   "cell_type": "code",
   "execution_count": 4,
   "id": "7c81b119-d32c-4fe9-8dc9-a99f49232bdd",
   "metadata": {},
   "outputs": [
    {
     "data": {
      "text/plain": [
       "True"
      ]
     },
     "execution_count": 4,
     "metadata": {},
     "output_type": "execute_result"
    }
   ],
   "source": [
    "not 1 == 2"
   ]
  },
  {
   "cell_type": "code",
   "execution_count": 5,
   "id": "e942fa38-1759-49e1-8cbf-e71498dfbcea",
   "metadata": {},
   "outputs": [
    {
     "data": {
      "text/plain": [
       "True"
      ]
     },
     "execution_count": 5,
     "metadata": {},
     "output_type": "execute_result"
    }
   ],
   "source": [
    "1 == 2 or 2 == 3 or 3 == 3"
   ]
  },
  {
   "cell_type": "code",
   "execution_count": 7,
   "id": "ceb59d6e-d94a-4dd0-b96a-d1f529d5069f",
   "metadata": {},
   "outputs": [
    {
     "data": {
      "text/plain": [
       "False"
      ]
     },
     "execution_count": 7,
     "metadata": {},
     "output_type": "execute_result"
    }
   ],
   "source": [
    "not (1 == 2 or 2 == 3 or 3 == 3)"
   ]
  },
  {
   "cell_type": "code",
   "execution_count": 8,
   "id": "1ccbaace-257a-47e7-b6d9-d6d0fa2ac7c1",
   "metadata": {},
   "outputs": [
    {
     "name": "stdin",
     "output_type": "stream",
     "text": [
      "Enter input as number 92802982\n"
     ]
    },
    {
     "name": "stdout",
     "output_type": "stream",
     "text": [
      "More than thousand\n"
     ]
    }
   ],
   "source": [
    "data = int(input(\"Enter input as number\"))\n",
    "if data <= 0:\n",
    "    print(\"Negative number\")\n",
    "elif data >= 1000:\n",
    "    print(\"More than thousand\")\n",
    "else:\n",
    "    print(\"In between 1 to thousand\")"
   ]
  },
  {
   "cell_type": "code",
   "execution_count": null,
   "id": "9726e373-000c-4e33-ab72-913936b89f02",
   "metadata": {},
   "outputs": [],
   "source": []
  }
 ],
 "metadata": {
  "kernelspec": {
   "display_name": "Python [conda env:base] *",
   "language": "python",
   "name": "conda-base-py"
  },
  "language_info": {
   "codemirror_mode": {
    "name": "ipython",
    "version": 3
   },
   "file_extension": ".py",
   "mimetype": "text/x-python",
   "name": "python",
   "nbconvert_exporter": "python",
   "pygments_lexer": "ipython3",
   "version": "3.12.7"
  }
 },
 "nbformat": 4,
 "nbformat_minor": 5
}
