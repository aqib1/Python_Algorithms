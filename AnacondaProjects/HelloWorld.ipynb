{
 "cells": [
  {
   "cell_type": "code",
   "execution_count": 4,
   "id": "ee041b42-43a6-4d3d-afed-68ffc88e11a4",
   "metadata": {},
   "outputs": [
    {
     "name": "stdout",
     "output_type": "stream",
     "text": [
      "Hello, World\n"
     ]
    }
   ],
   "source": [
    "class Solution:\n",
    "    def print(self, value: str):\n",
    "        print(value)\n",
    "sol = Solution()\n",
    "sol.print(\"Hello, World\")"
   ]
  },
  {
   "cell_type": "code",
   "execution_count": 5,
   "id": "d8e02003-c5bf-414d-98c4-c4521ac5c514",
   "metadata": {},
   "outputs": [
    {
     "name": "stdout",
     "output_type": "stream",
     "text": [
      "[10, 11, 23, 'hue']\n",
      "(10, 'hello', 200.3)\n"
     ]
    }
   ],
   "source": [
    "number = 5\n",
    "numeric = 3.456\n",
    "strings = \"Hi there\"\n",
    "listData = [10, 11, 23, \"hue\"]\n",
    "dictionary = {\"key\": 1, \"value\": \"name\"}\n",
    "tupple = (10, \"hello\", 200.3)\n",
    "sets = {\"a\", \"b\", \"c\"}\n",
    "boolean = True\n",
    "\n",
    "\n",
    "print(listData)\n",
    "print(tupple)"
   ]
  },
  {
   "cell_type": "code",
   "execution_count": null,
   "id": "e290191c-77bf-4c8f-80dc-08be7432afdb",
   "metadata": {},
   "outputs": [],
   "source": []
  }
 ],
 "metadata": {
  "kernelspec": {
   "display_name": "Python [conda env:base] *",
   "language": "python",
   "name": "conda-base-py"
  },
  "language_info": {
   "codemirror_mode": {
    "name": "ipython",
    "version": 3
   },
   "file_extension": ".py",
   "mimetype": "text/x-python",
   "name": "python",
   "nbconvert_exporter": "python",
   "pygments_lexer": "ipython3",
   "version": "3.12.7"
  }
 },
 "nbformat": 4,
 "nbformat_minor": 5
}
