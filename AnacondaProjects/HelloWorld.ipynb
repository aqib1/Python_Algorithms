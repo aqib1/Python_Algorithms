{
 "cells": [
  {
   "cell_type": "code",
   "execution_count": 4,
   "id": "ee041b42-43a6-4d3d-afed-68ffc88e11a4",
   "metadata": {},
   "outputs": [
    {
     "name": "stdout",
     "output_type": "stream",
     "text": [
      "Hello, World\n"
     ]
    }
   ],
   "source": [
    "class Solution:\n",
    "    def print(self, value: str):\n",
    "        print(value)\n",
    "sol = Solution()\n",
    "sol.print(\"Hello, World\")"
   ]
  },
  {
   "cell_type": "code",
   "execution_count": 5,
   "id": "d8e02003-c5bf-414d-98c4-c4521ac5c514",
   "metadata": {},
   "outputs": [
    {
     "name": "stdout",
     "output_type": "stream",
     "text": [
      "[10, 11, 23, 'hue']\n",
      "(10, 'hello', 200.3)\n"
     ]
    }
   ],
   "source": [
    "number = 5\n",
    "numeric = 3.456\n",
    "strings = \"Hi there\"\n",
    "listData = [10, 11, 23, \"hue\"]\n",
    "dictionary = {\"key\": 1, \"value\": \"name\"}\n",
    "tupple = (10, \"hello\", 200.3)\n",
    "sets = {\"a\", \"b\", \"c\"}\n",
    "boolean = True\n",
    "\n",
    "\n",
    "print(listData)\n",
    "print(tupple)"
   ]
  },
  {
   "cell_type": "markdown",
   "id": "a99556f0-7b64-4c1b-9f69-b6c9ece4dc30",
   "metadata": {},
   "source": [
    "\"1234.5567\" + 23 // Type error we can not add number to string"
   ]
  },
  {
   "cell_type": "raw",
   "id": "ec881f91-9150-4241-8943-49323f2857a0",
   "metadata": {},
   "source": [
    "None - a type represents absence/nullness/a value missing"
   ]
  },
  {
   "cell_type": "code",
   "execution_count": 2,
   "id": "2af02f59-1693-4885-ab39-f08a41aa1b6a",
   "metadata": {},
   "outputs": [
    {
     "data": {
      "text/plain": [
       "'race car'"
      ]
     },
     "execution_count": 2,
     "metadata": {},
     "output_type": "execute_result"
    }
   ],
   "source": [
    "\"race \" + \"car\" ## concatination"
   ]
  },
  {
   "cell_type": "code",
   "execution_count": 3,
   "id": "8cece006-848f-4d5c-a755-7bec0f38ff83",
   "metadata": {},
   "outputs": [
    {
     "name": "stdout",
     "output_type": "stream",
     "text": [
      "Testing\n",
      "Not testing\n"
     ]
    }
   ],
   "source": [
    "if \"race\" == \"race\":\n",
    "    print('Testing')\n",
    "\n",
    "if \"race\" == \"Race\":\n",
    "    print('Testing')\n",
    "else:\n",
    "    print('Not testing')"
   ]
  },
  {
   "cell_type": "markdown",
   "id": "0edcd376-b375-40d3-b576-542cc98b932d",
   "metadata": {},
   "source": [
    "We can apply multiply with strings like"
   ]
  },
  {
   "cell_type": "code",
   "execution_count": 4,
   "id": "214bb8b0-0d32-43ba-9976-46579ce90e9c",
   "metadata": {},
   "outputs": [
    {
     "data": {
      "text/plain": [
       "'aqibaqibaqibaqibaqib'"
      ]
     },
     "execution_count": 4,
     "metadata": {},
     "output_type": "execute_result"
    }
   ],
   "source": [
    "\"aqib\" * 5"
   ]
  },
  {
   "cell_type": "code",
   "execution_count": 5,
   "id": "fa493355-d697-4841-954f-adf5a7b2cee3",
   "metadata": {},
   "outputs": [
    {
     "data": {
      "text/plain": [
       "23"
      ]
     },
     "execution_count": 5,
     "metadata": {},
     "output_type": "execute_result"
    }
   ],
   "source": [
    "3+4*5 ## DMAS rule"
   ]
  },
  {
   "cell_type": "code",
   "execution_count": 6,
   "id": "bb573cda-c83a-47f1-a280-107e80c8cf2f",
   "metadata": {},
   "outputs": [
    {
     "data": {
      "text/plain": [
       "21.0"
      ]
     },
     "execution_count": 6,
     "metadata": {},
     "output_type": "execute_result"
    }
   ],
   "source": [
    "2+8/2*5-1 ## DMAS rule"
   ]
  },
  {
   "cell_type": "code",
   "execution_count": 7,
   "id": "8ac88aef-af23-4157-910c-ad5ff9543ee9",
   "metadata": {},
   "outputs": [
    {
     "data": {
      "text/plain": [
       "3.0"
      ]
     },
     "execution_count": 7,
     "metadata": {},
     "output_type": "execute_result"
    }
   ],
   "source": [
    "12/4"
   ]
  },
  {
   "cell_type": "code",
   "execution_count": 8,
   "id": "baf82919-da1a-4d5f-9f50-cb43d2db10d1",
   "metadata": {},
   "outputs": [
    {
     "data": {
      "text/plain": [
       "3"
      ]
     },
     "execution_count": 8,
     "metadata": {},
     "output_type": "execute_result"
    }
   ],
   "source": [
    "12//4 ## floor division (it will not include decimal point 0)"
   ]
  },
  {
   "cell_type": "code",
   "execution_count": 9,
   "id": "41986b6d-a867-4099-9914-96bfad1026cc",
   "metadata": {},
   "outputs": [
    {
     "data": {
      "text/plain": [
       "7.5"
      ]
     },
     "execution_count": 9,
     "metadata": {},
     "output_type": "execute_result"
    }
   ],
   "source": [
    "15/2"
   ]
  },
  {
   "cell_type": "code",
   "execution_count": 10,
   "id": "d6f392f4-a0e5-4a0a-9f11-f2d10b28c323",
   "metadata": {},
   "outputs": [
    {
     "data": {
      "text/plain": [
       "7"
      ]
     },
     "execution_count": 10,
     "metadata": {},
     "output_type": "execute_result"
    }
   ],
   "source": [
    "15//2 ## floor division so it will return 7"
   ]
  }
 ],
 "metadata": {
  "kernelspec": {
   "display_name": "Python 3 (ipykernel)",
   "language": "python",
   "name": "python3"
  },
  "language_info": {
   "codemirror_mode": {
    "name": "ipython",
    "version": 3
   },
   "file_extension": ".py",
   "mimetype": "text/x-python",
   "name": "python",
   "nbconvert_exporter": "python",
   "pygments_lexer": "ipython3",
   "version": "3.13.4"
  }
 },
 "nbformat": 4,
 "nbformat_minor": 5
}
