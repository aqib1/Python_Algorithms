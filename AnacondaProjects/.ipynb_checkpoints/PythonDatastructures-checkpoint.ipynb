{
 "cells": [
  {
   "cell_type": "code",
   "execution_count": 1,
   "id": "2da887be-975e-4f5b-98d5-d883d4e98993",
   "metadata": {},
   "outputs": [
    {
     "name": "stdout",
     "output_type": "stream",
     "text": [
      "10\n"
     ]
    }
   ],
   "source": [
    "number1 = 5\n",
    "number2 = 5\n",
    "print(number1 + number2)"
   ]
  },
  {
   "cell_type": "code",
   "execution_count": 2,
   "id": "4bf0174b-10a2-45fd-be50-99237c578afc",
   "metadata": {},
   "outputs": [
    {
     "name": "stdout",
     "output_type": "stream",
     "text": [
      "1.0\n"
     ]
    }
   ],
   "source": [
    "print(number1/number2)"
   ]
  },
  {
   "cell_type": "code",
   "execution_count": 4,
   "id": "6acd91ac-053c-4b54-9a35-789910f74375",
   "metadata": {},
   "outputs": [
    {
     "name": "stdout",
     "output_type": "stream",
     "text": [
      "25\n"
     ]
    }
   ],
   "source": [
    "print(number1*number2)"
   ]
  },
  {
   "cell_type": "code",
   "execution_count": 5,
   "id": "6efdbc68-a998-4df7-a6f1-622fa62f66e0",
   "metadata": {},
   "outputs": [
    {
     "name": "stdout",
     "output_type": "stream",
     "text": [
      "0\n"
     ]
    }
   ],
   "source": [
    "print(number1%number2)"
   ]
  },
  {
   "cell_type": "code",
   "execution_count": 7,
   "id": "6ffd48e2-df2d-419b-bb1c-5b6045f954a5",
   "metadata": {},
   "outputs": [
    {
     "name": "stdout",
     "output_type": "stream",
     "text": [
      "this is odd\n"
     ]
    }
   ],
   "source": [
    "if number1%2 == 0:\n",
    "    print(\"this is even\")\n",
    "else:\n",
    "    print(\"this is odd\")"
   ]
  },
  {
   "cell_type": "code",
   "execution_count": 8,
   "id": "c2f798a7-6049-4d4a-b78c-dd712d89a597",
   "metadata": {},
   "outputs": [
    {
     "name": "stdout",
     "output_type": "stream",
     "text": [
      "104\n"
     ]
    }
   ],
   "source": [
    "print(2 + 10 * 10 + 2)"
   ]
  },
  {
   "cell_type": "code",
   "execution_count": 9,
   "id": "417b61e0-0007-4c38-b213-37b7c4165760",
   "metadata": {},
   "outputs": [
    {
     "name": "stdout",
     "output_type": "stream",
     "text": [
      "100\n"
     ]
    }
   ],
   "source": [
    "print(2 * 100 - 100)"
   ]
  },
  {
   "cell_type": "code",
   "execution_count": 10,
   "id": "b58de027-cf43-440f-af14-1f9f79c3d7a6",
   "metadata": {},
   "outputs": [
    {
     "data": {
      "text/plain": [
       "0.5"
      ]
     },
     "execution_count": 10,
     "metadata": {},
     "output_type": "execute_result"
    }
   ],
   "source": [
    "1/2"
   ]
  },
  {
   "cell_type": "code",
   "execution_count": 12,
   "id": "f85e6074-4c7f-412a-a531-7966c072f46b",
   "metadata": {},
   "outputs": [
    {
     "name": "stdout",
     "output_type": "stream",
     "text": [
      "My name is Aqib\n"
     ]
    }
   ],
   "source": [
    "my_name = \"Aqib\"\n",
    "print(\"My name is \" + my_name)"
   ]
  },
  {
   "cell_type": "code",
   "execution_count": 13,
   "id": "13afd3fb-8f9d-4bbc-b245-7a432dfcc4d6",
   "metadata": {},
   "outputs": [
    {
     "name": "stdout",
     "output_type": "stream",
     "text": [
      "['test', 'test1']\n"
     ]
    }
   ],
   "source": [
    "my_dogs = 2\n",
    "my_dogs = [\"test\", \"test1\"] ## Dynamic typing language\n",
    "\n",
    "print(my_dogs)"
   ]
  },
  {
   "cell_type": "markdown",
   "id": "327bf998-763e-471c-a073-01faf0d92eaf",
   "metadata": {},
   "source": [
    "Python variable typing is `Dynamic`, unlike other language types which are static"
   ]
  },
  {
   "cell_type": "code",
   "execution_count": null,
   "id": "26b52404-b9d6-47fe-8b8e-be0d4a845184",
   "metadata": {},
   "outputs": [],
   "source": []
  }
 ],
 "metadata": {
  "kernelspec": {
   "display_name": "Python [conda env:base] *",
   "language": "python",
   "name": "conda-base-py"
  },
  "language_info": {
   "codemirror_mode": {
    "name": "ipython",
    "version": 3
   },
   "file_extension": ".py",
   "mimetype": "text/x-python",
   "name": "python",
   "nbconvert_exporter": "python",
   "pygments_lexer": "ipython3",
   "version": "3.12.7"
  }
 },
 "nbformat": 4,
 "nbformat_minor": 5
}
