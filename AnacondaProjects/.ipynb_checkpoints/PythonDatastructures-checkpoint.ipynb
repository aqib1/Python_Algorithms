{
 "cells": [
  {
   "cell_type": "code",
   "execution_count": 1,
   "id": "2da887be-975e-4f5b-98d5-d883d4e98993",
   "metadata": {},
   "outputs": [
    {
     "name": "stdout",
     "output_type": "stream",
     "text": [
      "10\n"
     ]
    }
   ],
   "source": [
    "number1 = 5\n",
    "number2 = 5\n",
    "print(number1 + number2)"
   ]
  },
  {
   "cell_type": "code",
   "execution_count": 2,
   "id": "4bf0174b-10a2-45fd-be50-99237c578afc",
   "metadata": {},
   "outputs": [
    {
     "name": "stdout",
     "output_type": "stream",
     "text": [
      "1.0\n"
     ]
    }
   ],
   "source": [
    "print(number1/number2)"
   ]
  },
  {
   "cell_type": "code",
   "execution_count": 4,
   "id": "6acd91ac-053c-4b54-9a35-789910f74375",
   "metadata": {},
   "outputs": [
    {
     "name": "stdout",
     "output_type": "stream",
     "text": [
      "25\n"
     ]
    }
   ],
   "source": [
    "print(number1*number2)"
   ]
  },
  {
   "cell_type": "code",
   "execution_count": 5,
   "id": "6efdbc68-a998-4df7-a6f1-622fa62f66e0",
   "metadata": {},
   "outputs": [
    {
     "name": "stdout",
     "output_type": "stream",
     "text": [
      "0\n"
     ]
    }
   ],
   "source": [
    "print(number1%number2)"
   ]
  },
  {
   "cell_type": "code",
   "execution_count": 7,
   "id": "6ffd48e2-df2d-419b-bb1c-5b6045f954a5",
   "metadata": {},
   "outputs": [
    {
     "name": "stdout",
     "output_type": "stream",
     "text": [
      "this is odd\n"
     ]
    }
   ],
   "source": [
    "if number1%2 == 0:\n",
    "    print(\"this is even\")\n",
    "else:\n",
    "    print(\"this is odd\")"
   ]
  },
  {
   "cell_type": "code",
   "execution_count": 8,
   "id": "c2f798a7-6049-4d4a-b78c-dd712d89a597",
   "metadata": {},
   "outputs": [
    {
     "name": "stdout",
     "output_type": "stream",
     "text": [
      "104\n"
     ]
    }
   ],
   "source": [
    "print(2 + 10 * 10 + 2)"
   ]
  },
  {
   "cell_type": "code",
   "execution_count": 9,
   "id": "417b61e0-0007-4c38-b213-37b7c4165760",
   "metadata": {},
   "outputs": [
    {
     "name": "stdout",
     "output_type": "stream",
     "text": [
      "100\n"
     ]
    }
   ],
   "source": [
    "print(2 * 100 - 100)"
   ]
  },
  {
   "cell_type": "code",
   "execution_count": 10,
   "id": "b58de027-cf43-440f-af14-1f9f79c3d7a6",
   "metadata": {},
   "outputs": [
    {
     "data": {
      "text/plain": [
       "0.5"
      ]
     },
     "execution_count": 10,
     "metadata": {},
     "output_type": "execute_result"
    }
   ],
   "source": [
    "1/2"
   ]
  },
  {
   "cell_type": "code",
   "execution_count": 12,
   "id": "f85e6074-4c7f-412a-a531-7966c072f46b",
   "metadata": {},
   "outputs": [
    {
     "name": "stdout",
     "output_type": "stream",
     "text": [
      "My name is Aqib\n"
     ]
    }
   ],
   "source": [
    "my_name = \"Aqib\"\n",
    "print(\"My name is \" + my_name)"
   ]
  },
  {
   "cell_type": "code",
   "execution_count": 13,
   "id": "13afd3fb-8f9d-4bbc-b245-7a432dfcc4d6",
   "metadata": {},
   "outputs": [
    {
     "name": "stdout",
     "output_type": "stream",
     "text": [
      "['test', 'test1']\n"
     ]
    }
   ],
   "source": [
    "my_dogs = 2\n",
    "my_dogs = [\"test\", \"test1\"] ## Dynamic typing language\n",
    "\n",
    "print(my_dogs)"
   ]
  },
  {
   "cell_type": "markdown",
   "id": "327bf998-763e-471c-a073-01faf0d92eaf",
   "metadata": {},
   "source": [
    "Python variable typing is `Dynamic`, unlike other language types which are static"
   ]
  },
  {
   "cell_type": "code",
   "execution_count": 14,
   "id": "26b52404-b9d6-47fe-8b8e-be0d4a845184",
   "metadata": {},
   "outputs": [],
   "source": [
    "a = 10"
   ]
  },
  {
   "cell_type": "code",
   "execution_count": 15,
   "id": "736ef69d-239b-4ccf-9a9a-8d31d86f7295",
   "metadata": {},
   "outputs": [
    {
     "data": {
      "text/plain": [
       "20"
      ]
     },
     "execution_count": 15,
     "metadata": {},
     "output_type": "execute_result"
    }
   ],
   "source": [
    "a + a"
   ]
  },
  {
   "cell_type": "code",
   "execution_count": 18,
   "id": "48be8526-ae0d-4c69-8cac-2201420f3598",
   "metadata": {},
   "outputs": [],
   "source": [
    "a = a + a"
   ]
  },
  {
   "cell_type": "code",
   "execution_count": 19,
   "id": "75f39181-d136-41ff-8fe4-3907a15c0db3",
   "metadata": {},
   "outputs": [
    {
     "data": {
      "text/plain": [
       "40"
      ]
     },
     "execution_count": 19,
     "metadata": {},
     "output_type": "execute_result"
    }
   ],
   "source": [
    "a"
   ]
  },
  {
   "cell_type": "code",
   "execution_count": 21,
   "id": "da713ed4-9e78-4f38-b607-7760e242f1f9",
   "metadata": {},
   "outputs": [
    {
     "name": "stdout",
     "output_type": "stream",
     "text": [
      "Current index is 0\n",
      "\n",
      "Current index is 1\n",
      "\n",
      "Current index is 2\n",
      "\n",
      "Current index is 3\n",
      "\n",
      "Current index is 4\n",
      "\n",
      "Current index is 5\n",
      "\n"
     ]
    }
   ],
   "source": [
    "for i in range(6):\n",
    "    print(f\"Current index is {i}\\n\")\n"
   ]
  },
  {
   "cell_type": "code",
   "execution_count": 22,
   "id": "68655b49-95dd-4670-b032-9f7619de6781",
   "metadata": {},
   "outputs": [
    {
     "name": "stdout",
     "output_type": "stream",
     "text": [
      "<class 'int'>\n"
     ]
    }
   ],
   "source": [
    "print(type(a))"
   ]
  },
  {
   "cell_type": "code",
   "execution_count": 23,
   "id": "16991457-4f14-4f65-a290-7682997f4c72",
   "metadata": {},
   "outputs": [
    {
     "name": "stdout",
     "output_type": "stream",
     "text": [
      "<class 'float'>\n"
     ]
    }
   ],
   "source": [
    "a = 4.245\n",
    "print(type(a))"
   ]
  },
  {
   "cell_type": "markdown",
   "id": "3a219f2d-d447-436f-9cbf-66050d0a99f5",
   "metadata": {},
   "source": [
    "int = 4 | invalid as int is reserved keyword"
   ]
  },
  {
   "cell_type": "code",
   "execution_count": 24,
   "id": "95d88eef-ce17-4e92-8a7a-264cde34cf8f",
   "metadata": {},
   "outputs": [],
   "source": [
    "my_income = 125000\n",
    "my_tax = 0.45\n",
    "\n",
    "net_income = my_income * my_tax"
   ]
  },
  {
   "cell_type": "code",
   "execution_count": 25,
   "id": "927a09d7-ae0f-4288-90cc-84eecc3f7dc1",
   "metadata": {},
   "outputs": [
    {
     "name": "stdout",
     "output_type": "stream",
     "text": [
      "56250.0\n"
     ]
    }
   ],
   "source": [
    "print(net_income)"
   ]
  },
  {
   "cell_type": "code",
   "execution_count": 26,
   "id": "012ed9d8-ec2b-4f45-b2aa-e058292a159a",
   "metadata": {},
   "outputs": [
    {
     "name": "stdout",
     "output_type": "stream",
     "text": [
      "q\n"
     ]
    }
   ],
   "source": [
    "name = \"Aqib Javed\"\n",
    "\n",
    "print(name[1])"
   ]
  },
  {
   "cell_type": "code",
   "execution_count": 27,
   "id": "24516eb5-43bd-49e5-8aad-72dda9e0e6fb",
   "metadata": {},
   "outputs": [
    {
     "name": "stdout",
     "output_type": "stream",
     "text": [
      "d\n"
     ]
    }
   ],
   "source": [
    "print(name[-1])"
   ]
  },
  {
   "cell_type": "code",
   "execution_count": 29,
   "id": "faee07d4-0a9b-4fac-b2a2-40138b25b531",
   "metadata": {},
   "outputs": [
    {
     "name": "stdout",
     "output_type": "stream",
     "text": [
      "A\n"
     ]
    }
   ],
   "source": [
    "print(name[-10])"
   ]
  },
  {
   "cell_type": "code",
   "execution_count": 30,
   "id": "f8304cf0-f1c8-444e-84d3-a875c3dbc75c",
   "metadata": {},
   "outputs": [
    {
     "name": "stdout",
     "output_type": "stream",
     "text": [
      "Aqib\n"
     ]
    }
   ],
   "source": [
    "first_name = name[0:4:1]\n",
    "print(first_name)"
   ]
  },
  {
   "cell_type": "markdown",
   "id": "0892d2f9-b5a2-4a27-b264-f99e3b3a9bef",
   "metadata": {},
   "source": [
    "[0:4:1] is called slicing. [start:stop:step] (where start is starting index of slice inclusive, stop is end index of slice exclusive and step is increment index step we want to take)."
   ]
  },
  {
   "cell_type": "code",
   "execution_count": 31,
   "id": "ded67aee-d86b-4c7d-b9da-1b646241cd61",
   "metadata": {},
   "outputs": [
    {
     "name": "stdout",
     "output_type": "stream",
     "text": [
      "T\n",
      "h\n",
      "i\n",
      "s\n",
      " \n",
      "i\n",
      "s\n",
      " \n",
      "a\n",
      " \n",
      "s\n",
      "t\n",
      "r\n",
      "i\n",
      "n\n",
      "g\n"
     ]
    }
   ],
   "source": [
    "string = \"This is a string\"\n",
    "\n",
    "for i in range(len(string)):\n",
    "    print(string[i])"
   ]
  },
  {
   "cell_type": "code",
   "execution_count": 32,
   "id": "fa4e928b-6104-456b-8873-ffe056f78bcc",
   "metadata": {},
   "outputs": [],
   "source": [
    "mystring = \"alhslkhlkdjhlkjdh\""
   ]
  },
  {
   "cell_type": "code",
   "execution_count": 33,
   "id": "d855200d-9f7a-4a40-a463-6675b4f5b190",
   "metadata": {},
   "outputs": [
    {
     "data": {
      "text/plain": [
       "'slkhlkdjhlkjdh'"
      ]
     },
     "execution_count": 33,
     "metadata": {},
     "output_type": "execute_result"
    }
   ],
   "source": [
    "mystring[3:]"
   ]
  },
  {
   "cell_type": "code",
   "execution_count": 34,
   "id": "42f337ae-16d5-4185-9471-50815ca8acef",
   "metadata": {},
   "outputs": [
    {
     "data": {
      "text/plain": [
       "'alh'"
      ]
     },
     "execution_count": 34,
     "metadata": {},
     "output_type": "execute_result"
    }
   ],
   "source": [
    "mystring[:3]"
   ]
  },
  {
   "cell_type": "code",
   "execution_count": 35,
   "id": "df85db21-48f6-4f7f-b264-83a7312bd401",
   "metadata": {},
   "outputs": [
    {
     "data": {
      "text/plain": [
       "'slk'"
      ]
     },
     "execution_count": 35,
     "metadata": {},
     "output_type": "execute_result"
    }
   ],
   "source": [
    "mystring[3:6]"
   ]
  },
  {
   "cell_type": "code",
   "execution_count": 36,
   "id": "d90e5de8-ecd2-4955-8b0e-fbeb7d2523fa",
   "metadata": {},
   "outputs": [
    {
     "data": {
      "text/plain": [
       "'alhslkhlkdjhlkjdh'"
      ]
     },
     "execution_count": 36,
     "metadata": {},
     "output_type": "execute_result"
    }
   ],
   "source": [
    "mystring[::]"
   ]
  },
  {
   "cell_type": "code",
   "execution_count": 37,
   "id": "0e06fad8-8f62-4389-b42c-2ceba9a794b8",
   "metadata": {},
   "outputs": [
    {
     "data": {
      "text/plain": [
       "'ahlhkjljh'"
      ]
     },
     "execution_count": 37,
     "metadata": {},
     "output_type": "execute_result"
    }
   ],
   "source": [
    "mystring[::2]"
   ]
  },
  {
   "cell_type": "code",
   "execution_count": 38,
   "id": "3b71e1d0-67f2-4da0-8055-7299fb2e4b57",
   "metadata": {},
   "outputs": [
    {
     "data": {
      "text/plain": [
       "'hdjklhjdklhklshla'"
      ]
     },
     "execution_count": 38,
     "metadata": {},
     "output_type": "execute_result"
    }
   ],
   "source": [
    "mystring[::-1] ## quick trick to reverse a string"
   ]
  },
  {
   "cell_type": "code",
   "execution_count": 39,
   "id": "9f2b380c-34bf-47ba-989a-da212a828976",
   "metadata": {},
   "outputs": [
    {
     "data": {
      "text/plain": [
       "'hjljkhlha'"
      ]
     },
     "execution_count": 39,
     "metadata": {},
     "output_type": "execute_result"
    }
   ],
   "source": [
    "mystring[::-2]"
   ]
  },
  {
   "cell_type": "code",
   "execution_count": 40,
   "id": "57f77492-eedf-4eab-adab-cf2ac3111d97",
   "metadata": {},
   "outputs": [
    {
     "name": "stdout",
     "output_type": "stream",
     "text": [
      "A palindrome string\n"
     ]
    }
   ],
   "source": [
    "st1 = \"abba\"\n",
    "\n",
    "if st1 == st1[::-1]:\n",
    "    print(\"A palindrome string\")\n",
    "else:\n",
    "    print(\"Not a palindrome string\")"
   ]
  },
  {
   "cell_type": "code",
   "execution_count": 42,
   "id": "c9797f80-657f-45d6-bdc9-2484397a475a",
   "metadata": {},
   "outputs": [
    {
     "name": "stdin",
     "output_type": "stream",
     "text": [
      "Enter string to check palindrome tata\n"
     ]
    },
    {
     "name": "stdout",
     "output_type": "stream",
     "text": [
      "Not a palindrome string\n"
     ]
    }
   ],
   "source": [
    "st1 = input(\"Enter string to check palindrome\")\n",
    "if st1 == st1[::-1]:\n",
    "    print(\"A palindrome string\")\n",
    "else:\n",
    "    print(\"Not a palindrome string\")"
   ]
  },
  {
   "cell_type": "code",
   "execution_count": null,
   "id": "a51b5e19-7593-4240-92cd-95b7f371d5e8",
   "metadata": {},
   "outputs": [],
   "source": []
  }
 ],
 "metadata": {
  "kernelspec": {
   "display_name": "Python [conda env:base] *",
   "language": "python",
   "name": "conda-base-py"
  },
  "language_info": {
   "codemirror_mode": {
    "name": "ipython",
    "version": 3
   },
   "file_extension": ".py",
   "mimetype": "text/x-python",
   "name": "python",
   "nbconvert_exporter": "python",
   "pygments_lexer": "ipython3",
   "version": "3.12.7"
  }
 },
 "nbformat": 4,
 "nbformat_minor": 5
}
