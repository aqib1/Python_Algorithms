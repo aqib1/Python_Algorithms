{
 "cells": [
  {
   "cell_type": "markdown",
   "id": "b9ee6e36-66b5-41e2-802e-da43d4231ee5",
   "metadata": {},
   "source": [
    "Time complexity is O((n + m) log n) and Space complexity O(n + m)"
   ]
  },
  {
   "cell_type": "code",
   "execution_count": 10,
   "id": "de3a2bbb-61f4-4851-b90c-1fb33d15711e",
   "metadata": {},
   "outputs": [
    {
     "name": "stdout",
     "output_type": "stream",
     "text": [
      "{'A': 0, 'B': 1, 'C': 2}\n"
     ]
    }
   ],
   "source": [
    "import heapq\n",
    "class Dijkstra():\n",
    "    def shortest_path(self, graph, start):\n",
    "        distance = dict.fromkeys(graph, float('inf'))\n",
    "        distance[start] = 0\n",
    "        pq = [(0, start)] ## distance with vertex\n",
    "\n",
    "        while pq:\n",
    "            current_distance, current_vertex = heapq.heappop(pq)\n",
    "            if current_distance > distance[current_vertex]:\n",
    "                continue\n",
    "            for neighbour, weight in graph[current_vertex]:\n",
    "                sum_dist = weight + current_distance\n",
    "                if sum_dist < distance[neighbour]:\n",
    "                    distance[neighbour] = sum_dist\n",
    "                    heapq.heappush(pq, (sum_dist, neighbour))\n",
    "        return distance\n",
    "\n",
    "if __name__ == '__main__':\n",
    "    adjacency_list = graph = {\n",
    "    'A': [('B', 1), ('C', 5)],\n",
    "    'B': [('C', 1)],\n",
    "    'C': []\n",
    "}\n",
    "    dijkstra = Dijkstra()\n",
    "    print(dijkstra.shortest_path(adjacency_list, 'A'))"
   ]
  },
  {
   "cell_type": "code",
   "execution_count": null,
   "id": "22c165d2-010c-4a5d-9838-99efc9272757",
   "metadata": {},
   "outputs": [],
   "source": []
  }
 ],
 "metadata": {
  "kernelspec": {
   "display_name": "Python 3 (ipykernel)",
   "language": "python",
   "name": "python3"
  },
  "language_info": {
   "codemirror_mode": {
    "name": "ipython",
    "version": 3
   },
   "file_extension": ".py",
   "mimetype": "text/x-python",
   "name": "python",
   "nbconvert_exporter": "python",
   "pygments_lexer": "ipython3",
   "version": "3.13.4"
  }
 },
 "nbformat": 4,
 "nbformat_minor": 5
}
