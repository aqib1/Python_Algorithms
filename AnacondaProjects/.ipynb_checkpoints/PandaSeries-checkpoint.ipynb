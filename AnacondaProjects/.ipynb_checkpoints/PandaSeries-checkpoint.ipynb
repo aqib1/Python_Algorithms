{
 "cells": [
  {
   "cell_type": "code",
   "execution_count": 1,
   "id": "1cd1d086-43e6-460b-bd70-c5a0f95cdbd3",
   "metadata": {},
   "outputs": [],
   "source": [
    "import pandas as pd\n",
    "\n",
    "### A pandas Series is one-dimentional labelled array"
   ]
  },
  {
   "cell_type": "code",
   "execution_count": 2,
   "id": "c5294a08-9574-4f4f-9802-c33045688ebc",
   "metadata": {},
   "outputs": [
    {
     "data": {
      "text/plain": [
       "key2    2\n",
       "dtype: int64"
      ]
     },
     "execution_count": 2,
     "metadata": {},
     "output_type": "execute_result"
    }
   ],
   "source": [
    "pd.Series({'key1': 1, 'key2':2}, index={'key2'})"
   ]
  },
  {
   "cell_type": "code",
   "execution_count": 3,
   "id": "ab54289c-7261-4562-957e-835893b5bf10",
   "metadata": {},
   "outputs": [],
   "source": [
    "ice_cream = ['Chocolate', 'Vanilla', 'Strawberry']"
   ]
  },
  {
   "cell_type": "code",
   "execution_count": 4,
   "id": "56a19502-0fb4-44a8-ae88-42dfe6bfe35e",
   "metadata": {},
   "outputs": [
    {
     "data": {
      "text/plain": [
       "0     Chocolate\n",
       "1       Vanilla\n",
       "2    Strawberry\n",
       "dtype: object"
      ]
     },
     "execution_count": 4,
     "metadata": {},
     "output_type": "execute_result"
    }
   ],
   "source": [
    "pd.Series(ice_cream)"
   ]
  },
  {
   "cell_type": "code",
   "execution_count": 5,
   "id": "cdc7895b-9c43-4940-bc46-06f3a19c0bf4",
   "metadata": {},
   "outputs": [],
   "source": [
    "person = {'name': 'Aqib', 'id': 0, 'createdAt': '2022-05-01'}"
   ]
  },
  {
   "cell_type": "code",
   "execution_count": 8,
   "id": "fb6790f2-e2ab-405b-b1da-a17bd9aff085",
   "metadata": {},
   "outputs": [
    {
     "name": "stdout",
     "output_type": "stream",
     "text": [
      "Aqib\n"
     ]
    }
   ],
   "source": [
    "ser = pd.Series(person)\n",
    "print(ser.iloc[0])"
   ]
  },
  {
   "cell_type": "code",
   "execution_count": 9,
   "id": "c0de9f9b-7bc6-4d4c-a66f-8da9a2590f4d",
   "metadata": {},
   "outputs": [],
   "source": [
    "sushi = {\n",
    "    \"Salmon\": \"Orange\",\n",
    "    \"Tuna\": \"Red\",\n",
    "    \"Eel\": \"Brown\"\n",
    "}"
   ]
  },
  {
   "cell_type": "code",
   "execution_count": 10,
   "id": "fc08eec3-aeec-4955-aa9f-d197cfa5b0cb",
   "metadata": {},
   "outputs": [
    {
     "data": {
      "text/plain": [
       "Salmon    Orange\n",
       "Tuna         Red\n",
       "Eel        Brown\n",
       "dtype: object"
      ]
     },
     "execution_count": 10,
     "metadata": {},
     "output_type": "execute_result"
    }
   ],
   "source": [
    "pd.Series(sushi)"
   ]
  },
  {
   "cell_type": "code",
   "execution_count": 11,
   "id": "4fba8c1b-b449-4126-9ffb-342631aaa95b",
   "metadata": {},
   "outputs": [
    {
     "data": {
      "text/plain": [
       "0    12.330\n",
       "1    88.120\n",
       "2     4.350\n",
       "3     1.356\n",
       "dtype: float64"
      ]
     },
     "execution_count": 11,
     "metadata": {},
     "output_type": "execute_result"
    }
   ],
   "source": [
    "prices = pd.Series([12.33, 88.12, 4.35, 1.356])\n",
    "prices.abs()"
   ]
  },
  {
   "cell_type": "code",
   "execution_count": 12,
   "id": "f57ecc53-efb5-4369-b45c-f3619bc1a435",
   "metadata": {},
   "outputs": [
    {
     "data": {
      "text/plain": [
       "0    14.330\n",
       "1    90.120\n",
       "2     6.350\n",
       "3     3.356\n",
       "dtype: float64"
      ]
     },
     "execution_count": 12,
     "metadata": {},
     "output_type": "execute_result"
    }
   ],
   "source": [
    "prices.add(2)"
   ]
  },
  {
   "cell_type": "code",
   "execution_count": 13,
   "id": "19da3e8e-6636-40ff-b244-6ceab5fcd685",
   "metadata": {},
   "outputs": [
    {
     "data": {
      "text/plain": [
       "0    12.330\n",
       "1    88.120\n",
       "2     4.350\n",
       "3     1.356\n",
       "dtype: float64"
      ]
     },
     "execution_count": 13,
     "metadata": {},
     "output_type": "execute_result"
    }
   ],
   "source": [
    "prices"
   ]
  },
  {
   "cell_type": "code",
   "execution_count": 14,
   "id": "5c0864bf-ddfc-42d5-bb4a-1f3b601886af",
   "metadata": {},
   "outputs": [
    {
     "data": {
      "text/plain": [
       "np.float64(106.15599999999999)"
      ]
     },
     "execution_count": 14,
     "metadata": {},
     "output_type": "execute_result"
    }
   ],
   "source": [
    "prices.sum()"
   ]
  },
  {
   "cell_type": "code",
   "execution_count": 15,
   "id": "342c5a10-575c-49cf-bd08-1f274f6f3e3f",
   "metadata": {},
   "outputs": [
    {
     "data": {
      "text/plain": [
       "np.float64(6408.944512560001)"
      ]
     },
     "execution_count": 15,
     "metadata": {},
     "output_type": "execute_result"
    }
   ],
   "source": [
    "prices.product()"
   ]
  },
  {
   "cell_type": "code",
   "execution_count": 16,
   "id": "c5bdb105-9329-4cf4-bf03-d5130a7013d5",
   "metadata": {},
   "outputs": [
    {
     "data": {
      "text/plain": [
       "np.float64(26.538999999999998)"
      ]
     },
     "execution_count": 16,
     "metadata": {},
     "output_type": "execute_result"
    }
   ],
   "source": [
    "prices.mean() ## Average"
   ]
  },
  {
   "cell_type": "code",
   "execution_count": 17,
   "id": "b2c7ca1c-fd6c-47ad-94ba-4ea56aaa2c56",
   "metadata": {},
   "outputs": [
    {
     "data": {
      "text/plain": [
       "41.31444643221061"
      ]
     },
     "execution_count": 17,
     "metadata": {},
     "output_type": "execute_result"
    }
   ],
   "source": [
    "prices.std() ## standard deviation"
   ]
  },
  {
   "cell_type": "code",
   "execution_count": null,
   "id": "20225a25-d556-4a23-86a6-a443dfe73241",
   "metadata": {},
   "outputs": [],
   "source": []
  }
 ],
 "metadata": {
  "kernelspec": {
   "display_name": "Python 3 (ipykernel)",
   "language": "python",
   "name": "python3"
  },
  "language_info": {
   "codemirror_mode": {
    "name": "ipython",
    "version": 3
   },
   "file_extension": ".py",
   "mimetype": "text/x-python",
   "name": "python",
   "nbconvert_exporter": "python",
   "pygments_lexer": "ipython3",
   "version": "3.13.4"
  }
 },
 "nbformat": 4,
 "nbformat_minor": 5
}
