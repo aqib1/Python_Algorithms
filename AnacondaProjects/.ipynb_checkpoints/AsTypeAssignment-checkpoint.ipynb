{
 "cells": [
  {
   "cell_type": "raw",
   "id": "702000d6-495d-4083-a4e1-bf7b4d0eaf25",
   "metadata": {},
   "source": [
    "# If you see a test failure when checking your solution,\n",
    "# note that [left] refers to YOUR code while [right]\n",
    "# refers to the correct code that the computer is comparing\n",
    "# to your work\n",
    "\n",
    "# Import the pandas library and assign it an alias of 'pd'.\n",
    "\n",
    "import pandas as pd\n",
    "# Import the health.csv file and assign it to a 'health' variable.\n",
    "# The resulting DataFrame will have 3 columns: Weight, Height, and Blood Type\n",
    "# Convert the values in the Weight Series to strings and overwrite the original column\n",
    "# Convert the values in the Height Series to integers and overwrite the original column\n",
    "# Convert the values in the Blood Type Series to categories and overwrite the original column\n",
    "health = pd.read_csv(\"health.csv\")\n",
    "health[\"Weight\"] = health[\"Weight\"].dropna(how=\"all\")\n",
    "health[\"Weight\"] = health[\"Weight\"].fillna(0)\n",
    "health[\"Weight\"] = health[\"Weight\"].astype(str)\n",
    "\n",
    "health[\"Height\"] = health[\"Height\"].dropna(how=\"all\")\n",
    "health[\"Height\"] = health[\"Height\"].fillna(0)\n",
    "health[\"Height\"] = health[\"Height\"].astype(int)\n",
    "\n",
    "health[\"Blood Type\"] = health[\"Blood Type\"].dropna(how=\"all\")\n",
    "health[\"Blood Type\"] = health[\"Blood Type\"].fillna(\"Unknown\")\n",
    "health[\"Blood Type\"] = health[\"Blood Type\"].astype(\"category\")"
   ]
  },
  {
   "cell_type": "code",
   "execution_count": null,
   "id": "3a8697ab-263e-4975-8d41-2991c90657da",
   "metadata": {},
   "outputs": [],
   "source": []
  }
 ],
 "metadata": {
  "kernelspec": {
   "display_name": "Python 3 (ipykernel)",
   "language": "python",
   "name": "python3"
  },
  "language_info": {
   "codemirror_mode": {
    "name": "ipython",
    "version": 3
   },
   "file_extension": ".py",
   "mimetype": "text/x-python",
   "name": "python",
   "nbconvert_exporter": "python",
   "pygments_lexer": "ipython3",
   "version": "3.13.4"
  }
 },
 "nbformat": 4,
 "nbformat_minor": 5
}
