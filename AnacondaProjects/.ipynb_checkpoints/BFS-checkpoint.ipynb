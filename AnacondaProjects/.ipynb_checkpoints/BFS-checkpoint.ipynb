{
 "cells": [
  {
   "cell_type": "code",
   "execution_count": 12,
   "id": "91e8208f-970a-40c5-9d55-1f69bd872e80",
   "metadata": {},
   "outputs": [
    {
     "name": "stdout",
     "output_type": "stream",
     "text": [
      "[0, 1, 2]\n"
     ]
    }
   ],
   "source": [
    "from collections import deque\n",
    "class UninformedSearch:\n",
    "    def bfs(self, graph, root):\n",
    "        bfs = []\n",
    "        visited, queue = set(), deque([root])\n",
    "        visited.add(root)\n",
    "        while queue:\n",
    "            node = queue.popleft()\n",
    "            bfs.append(node)\n",
    "\n",
    "            for neighbour in graph[node]:\n",
    "                if neighbour not in visited:\n",
    "                    visited.add(neighbour)\n",
    "                    bfs.append(neighbour)\n",
    "                \n",
    "        return bfs\n",
    "\n",
    "if __name__ == '__main__':\n",
    "    graph = {0: [1, 2], 1: [2], 2: [3], 3: [1, 2], 4: [], 5: []}\n",
    "    uninformedSearch = UninformedSearch()\n",
    "    print(uninformedSearch.bfs(graph, 0))\n",
    "        "
   ]
  },
  {
   "cell_type": "code",
   "execution_count": null,
   "id": "cbd0aa74-28e9-4bef-995c-14b041009cf2",
   "metadata": {},
   "outputs": [],
   "source": []
  }
 ],
 "metadata": {
  "kernelspec": {
   "display_name": "Python 3 (ipykernel)",
   "language": "python",
   "name": "python3"
  },
  "language_info": {
   "codemirror_mode": {
    "name": "ipython",
    "version": 3
   },
   "file_extension": ".py",
   "mimetype": "text/x-python",
   "name": "python",
   "nbconvert_exporter": "python",
   "pygments_lexer": "ipython3",
   "version": "3.13.4"
  }
 },
 "nbformat": 4,
 "nbformat_minor": 5
}
