{
 "cells": [
  {
   "cell_type": "code",
   "execution_count": 2,
   "id": "91e8208f-970a-40c5-9d55-1f69bd872e80",
   "metadata": {},
   "outputs": [
    {
     "ename": "KeyError",
     "evalue": "7",
     "output_type": "error",
     "traceback": [
      "\u001b[31m---------------------------------------------------------------------------\u001b[39m",
      "\u001b[31mKeyError\u001b[39m                                  Traceback (most recent call last)",
      "\u001b[36mCell\u001b[39m\u001b[36m \u001b[39m\u001b[32mIn[2]\u001b[39m\u001b[32m, line 21\u001b[39m\n\u001b[32m     19\u001b[39m graph = {\u001b[32m0\u001b[39m: [\u001b[32m1\u001b[39m, \u001b[32m2\u001b[39m], \u001b[32m1\u001b[39m: [\u001b[32m2\u001b[39m], \u001b[32m2\u001b[39m: [\u001b[32m3\u001b[39m], \u001b[32m3\u001b[39m: [\u001b[32m1\u001b[39m, \u001b[32m2\u001b[39m, \u001b[32m5\u001b[39m], \u001b[32m5\u001b[39m: [\u001b[32m7\u001b[39m]}\n\u001b[32m     20\u001b[39m uninformedSearch = UninformedSearch()\n\u001b[32m---> \u001b[39m\u001b[32m21\u001b[39m \u001b[38;5;28mprint\u001b[39m(uninformedSearch.bfs(graph, \u001b[32m0\u001b[39m))\n",
      "\u001b[36mCell\u001b[39m\u001b[36m \u001b[39m\u001b[32mIn[2]\u001b[39m\u001b[32m, line 11\u001b[39m, in \u001b[36mUninformedSearch.bfs\u001b[39m\u001b[34m(self, graph, root)\u001b[39m\n\u001b[32m      8\u001b[39m node = queue.popleft()\n\u001b[32m      9\u001b[39m bfs.append(node)\n\u001b[32m---> \u001b[39m\u001b[32m11\u001b[39m \u001b[38;5;28;01mfor\u001b[39;00m neighbour \u001b[38;5;129;01min\u001b[39;00m graph[node]:\n\u001b[32m     12\u001b[39m     \u001b[38;5;28;01mif\u001b[39;00m neighbour \u001b[38;5;129;01mnot\u001b[39;00m \u001b[38;5;129;01min\u001b[39;00m visited:\n\u001b[32m     13\u001b[39m         visited.add(neighbour)\n",
      "\u001b[31mKeyError\u001b[39m: 7"
     ]
    }
   ],
   "source": [
    "from collections import deque\n",
    "class UninformedSearch:\n",
    "    def bfs(self, graph, root):\n",
    "        bfs = []\n",
    "        visited, queue = set(), deque([root])\n",
    "        visited.add(root)\n",
    "        while queue:\n",
    "            node = queue.popleft()\n",
    "            bfs.append(node)\n",
    "\n",
    "            for neighbour in graph[node]:\n",
    "                if neighbour not in visited:\n",
    "                    visited.add(neighbour)\n",
    "                    queue.append(neighbour)\n",
    "                \n",
    "        return bfs\n",
    "\n",
    "if __name__ == '__main__':\n",
    "    graph = {0: [1, 2], 1: [2], 2: [3], 3: [1, 2, 5], 5: [3]}\n",
    "    uninformedSearch = UninformedSearch()\n",
    "    print(uninformedSearch.bfs(graph, 0))\n",
    "        "
   ]
  },
  {
   "cell_type": "code",
   "execution_count": null,
   "id": "cbd0aa74-28e9-4bef-995c-14b041009cf2",
   "metadata": {},
   "outputs": [],
   "source": []
  }
 ],
 "metadata": {
  "kernelspec": {
   "display_name": "Python 3 (ipykernel)",
   "language": "python",
   "name": "python3"
  },
  "language_info": {
   "codemirror_mode": {
    "name": "ipython",
    "version": 3
   },
   "file_extension": ".py",
   "mimetype": "text/x-python",
   "name": "python",
   "nbconvert_exporter": "python",
   "pygments_lexer": "ipython3",
   "version": "3.13.4"
  }
 },
 "nbformat": 4,
 "nbformat_minor": 5
}
