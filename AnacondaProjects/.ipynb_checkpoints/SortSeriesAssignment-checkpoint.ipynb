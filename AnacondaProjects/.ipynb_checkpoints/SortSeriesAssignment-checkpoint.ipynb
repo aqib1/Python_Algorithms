{
 "cells": [
  {
   "cell_type": "code",
   "execution_count": 2,
   "id": "abbb1c04-1d57-465c-ad99-c5b2734cc324",
   "metadata": {},
   "outputs": [],
   "source": [
    "# If you see a test failure when checking your solution,\n",
    "# note that [left] refers to YOUR code while [right]\n",
    "# refers to the correct code that the computer is comparing\n",
    "# to your work\n",
    "\n",
    "import pandas as pd\n",
    "\n",
    "# Below, we have a list of delicious tortilla chip flavors\n",
    "flavors = [\"Spicy Sweet Chili\", \"Cool Ranch\", \"Nacho Cheese\", \"Salsa Verde\"]\n",
    "\n",
    "# Create a new Series object, passing in the flavors list defined above\n",
    "# Assign it to a 'doritos' variable. The resulting Series should look like this:\n",
    "#\n",
    "#\n",
    "#   0    Spicy Sweet Chili\n",
    "#   1           Cool Ranch\n",
    "#   2         Nacho Cheese\n",
    "#   3          Salsa Verde\n",
    "#   dtype: object\n",
    "doritos = pd.Series(flavors)\n",
    "\n",
    "\n",
    "# Below, sort the doritos Series in descending order.\n",
    "# Assign the sorted a Series to a 'sorted_doritos' variable.\n",
    "# The sorted Series should like this:\n",
    "#\n",
    "#   0    Spicy Sweet Chili\n",
    "#   3          Salsa Verde\n",
    "#   2         Nacho Cheese\n",
    "#   1           Cool Ranch\n",
    "#   dtype: object\n",
    "sorted_doritos = doritos.sort_values(ascending=False)"
   ]
  },
  {
   "cell_type": "code",
   "execution_count": 7,
   "id": "1b8ad2a7-b4b6-41b7-b317-c5c5a9299240",
   "metadata": {},
   "outputs": [
    {
     "data": {
      "text/plain": [
       "Name\n",
       "Abomasnow      Grass, Ice\n",
       "Abra              Psychic\n",
       "Absol                Dark\n",
       "Accelgor              Bug\n",
       "Aegislash    Steel, Ghost\n",
       "Name: Type, dtype: object"
      ]
     },
     "execution_count": 7,
     "metadata": {},
     "output_type": "execute_result"
    }
   ],
   "source": [
    "pokemon = pd.read_csv(\"pokemon.csv\", index_col=\"Name\").squeeze(\"columns\")\n",
    "pokemon.sort_index().head()"
   ]
  },
  {
   "cell_type": "code",
   "execution_count": 8,
   "id": "0f1d9a41-9782-49e6-83de-657fa0c1c62c",
   "metadata": {},
   "outputs": [
    {
     "data": {
      "text/plain": [
       "Name\n",
       "Zygarde     Dragon, Ground\n",
       "Zweilous      Dark, Dragon\n",
       "Zubat       Poison, Flying\n",
       "Zorua                 Dark\n",
       "Zoroark               Dark\n",
       "Name: Type, dtype: object"
      ]
     },
     "execution_count": 8,
     "metadata": {},
     "output_type": "execute_result"
    }
   ],
   "source": [
    "pokemon.sort_index(ascending=False).head()"
   ]
  },
  {
   "cell_type": "code",
   "execution_count": 9,
   "id": "7b45df80-c53e-4770-bced-e648c847b789",
   "metadata": {},
   "outputs": [],
   "source": [
    "# If you see a test failure when checking your solution,\n",
    "# note that [left] refers to YOUR code while [right]\n",
    "# refers to the correct code that the computer is comparing\n",
    "# to your work\n",
    "import pandas as pd\n",
    "\n",
    "# Below, we have a list of delicious drink flavors\n",
    "# We create a sorted Series of strings and assign it to a 'gatorade' variable\n",
    "flavors = [\"Red\", \"Blue\", \"Green\", \"Orange\"]\n",
    "gatorade = pd.Series(flavors).sort_values()\n",
    "\n",
    "# I'd like to return the Series to its original order \n",
    "# (sorted by the numeric index in ascending order). \n",
    "# Sort the gatorade Series by index.\n",
    "# Assign the result to an 'original' variable.\n",
    "original = gatorade.sort_index()"
   ]
  },
  {
   "cell_type": "raw",
   "id": "99e0b360-e41e-429a-a83d-fe57d855315e",
   "metadata": {},
   "source": [
    "# If you see a test failure when checking your solution,\n",
    "# note that [left] refers to YOUR code while [right]\n",
    "# refers to the correct code that the computer is comparing\n",
    "# to your work\n",
    "\n",
    "import pandas as pd\n",
    "\n",
    "# This challenge includes a coffee.csv with 2 columns: \n",
    "# Coffee and Calories. Import the CSV. Assign the Coffee\n",
    "# column to be the index and the Calories column to be the\n",
    "# Series' values. Assign the Series to a 'coffee' variable.\n",
    "\n",
    "coffee = pd.read_csv(\"coffee.csv\", index_col=\"Coffee\").squeeze(\"columns\")\n",
    "\n",
    "# Check whether the coffee 'Flat White' is present in the data.\n",
    "# Assign the result to a `flat_white` variable\n",
    "flat_white = \"Flat White\" in coffee\n",
    "\n",
    "# Check whether the coffee 'Cortado' is present in the data.\n",
    "# Assign the result to a `cortado` variable\n",
    "cortado = \"Cortado\" in coffee\n",
    "\n",
    "# Check whether the coffee 'Blackberry Mocha' is present in the data.\n",
    "# Assign the result to a `blackberry_mocha` variable\n",
    "blackberry_mocha = \"Blackberry Mocha\" in coffee\n",
    "\n",
    "# Check whether the value 221 is present in the data.\n",
    "# Assign the result to a 'high_calorie' variable.\n",
    "high_calorie = 221 in coffee.values\n",
    "\n",
    "# Check whether the value 400 is present in the data.\n",
    "# Assign the result to a 'super_high_calorie' variable.\n",
    "super_high_calorie = 400 in coffee.values\n"
   ]
  }
 ],
 "metadata": {
  "kernelspec": {
   "display_name": "Python 3 (ipykernel)",
   "language": "python",
   "name": "python3"
  },
  "language_info": {
   "codemirror_mode": {
    "name": "ipython",
    "version": 3
   },
   "file_extension": ".py",
   "mimetype": "text/x-python",
   "name": "python",
   "nbconvert_exporter": "python",
   "pygments_lexer": "ipython3",
   "version": "3.13.4"
  }
 },
 "nbformat": 4,
 "nbformat_minor": 5
}
