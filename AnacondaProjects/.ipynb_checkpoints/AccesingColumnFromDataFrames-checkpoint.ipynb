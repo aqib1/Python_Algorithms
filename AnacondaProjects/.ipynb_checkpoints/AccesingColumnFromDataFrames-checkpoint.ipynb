{
 "cells": [
  {
   "cell_type": "code",
   "execution_count": 1,
   "id": "0bf6d8da-075d-4c29-9a75-279e2a7a36a4",
   "metadata": {},
   "outputs": [
    {
     "data": {
      "text/html": [
       "<div>\n",
       "<style scoped>\n",
       "    .dataframe tbody tr th:only-of-type {\n",
       "        vertical-align: middle;\n",
       "    }\n",
       "\n",
       "    .dataframe tbody tr th {\n",
       "        vertical-align: top;\n",
       "    }\n",
       "\n",
       "    .dataframe thead th {\n",
       "        text-align: right;\n",
       "    }\n",
       "</style>\n",
       "<table border=\"1\" class=\"dataframe\">\n",
       "  <thead>\n",
       "    <tr style=\"text-align: right;\">\n",
       "      <th></th>\n",
       "      <th>Name</th>\n",
       "      <th>Team</th>\n",
       "      <th>Position</th>\n",
       "      <th>Height</th>\n",
       "      <th>Weight</th>\n",
       "      <th>College</th>\n",
       "      <th>Salary</th>\n",
       "    </tr>\n",
       "  </thead>\n",
       "  <tbody>\n",
       "    <tr>\n",
       "      <th>0</th>\n",
       "      <td>Saddiq Bey</td>\n",
       "      <td>Atlanta Hawks</td>\n",
       "      <td>F</td>\n",
       "      <td>6-7</td>\n",
       "      <td>215.0</td>\n",
       "      <td>Villanova</td>\n",
       "      <td>4556983.0</td>\n",
       "    </tr>\n",
       "    <tr>\n",
       "      <th>1</th>\n",
       "      <td>Bogdan Bogdanovic</td>\n",
       "      <td>Atlanta Hawks</td>\n",
       "      <td>G</td>\n",
       "      <td>6-5</td>\n",
       "      <td>225.0</td>\n",
       "      <td>Fenerbahce</td>\n",
       "      <td>18700000.0</td>\n",
       "    </tr>\n",
       "    <tr>\n",
       "      <th>2</th>\n",
       "      <td>Kobe Bufkin</td>\n",
       "      <td>Atlanta Hawks</td>\n",
       "      <td>G</td>\n",
       "      <td>6-5</td>\n",
       "      <td>195.0</td>\n",
       "      <td>Michigan</td>\n",
       "      <td>4094244.0</td>\n",
       "    </tr>\n",
       "    <tr>\n",
       "      <th>3</th>\n",
       "      <td>Clint Capela</td>\n",
       "      <td>Atlanta Hawks</td>\n",
       "      <td>C</td>\n",
       "      <td>6-10</td>\n",
       "      <td>256.0</td>\n",
       "      <td>Elan Chalon</td>\n",
       "      <td>20616000.0</td>\n",
       "    </tr>\n",
       "    <tr>\n",
       "      <th>4</th>\n",
       "      <td>Bruno Fernando</td>\n",
       "      <td>Atlanta Hawks</td>\n",
       "      <td>F-C</td>\n",
       "      <td>6-10</td>\n",
       "      <td>240.0</td>\n",
       "      <td>Maryland</td>\n",
       "      <td>2581522.0</td>\n",
       "    </tr>\n",
       "  </tbody>\n",
       "</table>\n",
       "</div>"
      ],
      "text/plain": [
       "                Name           Team Position Height  Weight      College  \\\n",
       "0         Saddiq Bey  Atlanta Hawks        F    6-7   215.0    Villanova   \n",
       "1  Bogdan Bogdanovic  Atlanta Hawks        G    6-5   225.0   Fenerbahce   \n",
       "2        Kobe Bufkin  Atlanta Hawks        G    6-5   195.0     Michigan   \n",
       "3       Clint Capela  Atlanta Hawks        C   6-10   256.0  Elan Chalon   \n",
       "4     Bruno Fernando  Atlanta Hawks      F-C   6-10   240.0     Maryland   \n",
       "\n",
       "       Salary  \n",
       "0   4556983.0  \n",
       "1  18700000.0  \n",
       "2   4094244.0  \n",
       "3  20616000.0  \n",
       "4   2581522.0  "
      ]
     },
     "execution_count": 1,
     "metadata": {},
     "output_type": "execute_result"
    }
   ],
   "source": [
    "import pandas as pd\n",
    "nba = pd.read_csv(\"nba.csv\")\n",
    "nba.head()"
   ]
  },
  {
   "cell_type": "code",
   "execution_count": 4,
   "id": "5085e970-32c1-4795-b0fe-a533b023c623",
   "metadata": {},
   "outputs": [
    {
     "data": {
      "text/plain": [
       "0       6-7\n",
       "1       6-5\n",
       "2       6-5\n",
       "3      6-10\n",
       "4      6-10\n",
       "       ... \n",
       "587     6-3\n",
       "588     6-4\n",
       "589    6-10\n",
       "590     6-5\n",
       "591     NaN\n",
       "Name: Height, Length: 592, dtype: object"
      ]
     },
     "execution_count": 4,
     "metadata": {},
     "output_type": "execute_result"
    }
   ],
   "source": [
    "nba.Name\n",
    "nba.Team\n",
    "nba.Position\n",
    "nba.Height ## This approach will not work if column names have a space, like 'Current Score'"
   ]
  },
  {
   "cell_type": "code",
   "execution_count": 5,
   "id": "2a5089b8-28b0-4699-96f9-efa454392d1f",
   "metadata": {},
   "outputs": [
    {
     "data": {
      "text/plain": [
       "0             Saddiq Bey\n",
       "1      Bogdan Bogdanovic\n",
       "2            Kobe Bufkin\n",
       "3           Clint Capela\n",
       "4         Bruno Fernando\n",
       "             ...        \n",
       "587         Ryan Rollins\n",
       "588        Landry Shamet\n",
       "589     Tristan Vukcevic\n",
       "590         Delon Wright\n",
       "591                  NaN\n",
       "Name: Name, Length: 592, dtype: object"
      ]
     },
     "execution_count": 5,
     "metadata": {},
     "output_type": "execute_result"
    }
   ],
   "source": [
    "nba[\"Name\"] ## This approch will work for column names with spaces"
   ]
  }
 ],
 "metadata": {
  "kernelspec": {
   "display_name": "Python 3 (ipykernel)",
   "language": "python",
   "name": "python3"
  },
  "language_info": {
   "codemirror_mode": {
    "name": "ipython",
    "version": 3
   },
   "file_extension": ".py",
   "mimetype": "text/x-python",
   "name": "python",
   "nbconvert_exporter": "python",
   "pygments_lexer": "ipython3",
   "version": "3.13.4"
  }
 },
 "nbformat": 4,
 "nbformat_minor": 5
}
