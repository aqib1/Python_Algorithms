{
 "cells": [
  {
   "cell_type": "code",
   "execution_count": 1,
   "id": "aa2f33de-84a6-409f-820b-23ea4097b3f2",
   "metadata": {},
   "outputs": [
    {
     "name": "stdout",
     "output_type": "stream",
     "text": [
      "0\n",
      "1\n",
      "2\n",
      "3\n",
      "4\n",
      "5\n",
      "6\n",
      "7\n"
     ]
    }
   ],
   "source": [
    "for i in range(8):\n",
    "    print(i)"
   ]
  },
  {
   "cell_type": "code",
   "execution_count": 2,
   "id": "f4f981e7-b296-48a8-bfc3-f4c847661550",
   "metadata": {},
   "outputs": [
    {
     "name": "stdout",
     "output_type": "stream",
     "text": [
      "3\n",
      "2\n",
      "1\n",
      "3\n",
      "1\n",
      "2\n",
      "3\n",
      "4\n"
     ]
    }
   ],
   "source": [
    "list1 = [3,2,1,3,1,2,3,4]\n",
    "for i in list1:\n",
    "    print(i)"
   ]
  },
  {
   "cell_type": "code",
   "execution_count": 4,
   "id": "fcb84683-cd0a-4068-809c-fe02979d30c2",
   "metadata": {},
   "outputs": [
    {
     "name": "stdout",
     "output_type": "stream",
     "text": [
      "T\n",
      "h\n",
      "i\n",
      "s\n",
      " \n",
      "i\n",
      "s\n",
      " \n",
      "a\n",
      " \n",
      "i\n",
      "t\n",
      "e\n",
      "r\n",
      "a\n",
      "b\n",
      "l\n",
      "e\n",
      " \n",
      "i\n",
      "t\n",
      "e\n",
      "m\n"
     ]
    }
   ],
   "source": [
    "st = \"This is a iterable item\"\n",
    "for i in st:\n",
    "    print(i)"
   ]
  },
  {
   "cell_type": "code",
   "execution_count": 7,
   "id": "aeb9d463-e0c8-4419-9a9e-677a425d4aba",
   "metadata": {},
   "outputs": [
    {
     "name": "stdout",
     "output_type": "stream",
     "text": [
      "index 0 : value T\n",
      "index 1 : value h\n",
      "index 2 : value i\n",
      "index 3 : value s\n",
      "index 4 : value  \n",
      "index 5 : value i\n",
      "index 6 : value s\n",
      "index 7 : value  \n",
      "index 8 : value a\n",
      "index 9 : value  \n",
      "index 10 : value i\n",
      "index 11 : value t\n",
      "index 12 : value e\n",
      "index 13 : value r\n",
      "index 14 : value a\n",
      "index 15 : value b\n",
      "index 16 : value l\n",
      "index 17 : value e\n",
      "index 18 : value  \n",
      "index 19 : value i\n",
      "index 20 : value t\n",
      "index 21 : value e\n",
      "index 22 : value m\n"
     ]
    }
   ],
   "source": [
    "for index, value in enumerate(st):\n",
    "    print(f\"index {index} : value {value}\")"
   ]
  },
  {
   "cell_type": "code",
   "execution_count": 9,
   "id": "9d150834-41ed-462d-bba3-88ad8bc1be50",
   "metadata": {},
   "outputs": [
    {
     "name": "stdout",
     "output_type": "stream",
     "text": [
      "1\n",
      "2\n",
      "3\n"
     ]
    }
   ],
   "source": [
    "for _,item in enumerate((1,2,3)):\n",
    "    print(item)"
   ]
  },
  {
   "cell_type": "code",
   "execution_count": 10,
   "id": "be4d836d-ae2d-42fa-a266-6e46cdbb19d6",
   "metadata": {},
   "outputs": [
    {
     "name": "stdout",
     "output_type": "stream",
     "text": [
      "(1, 2)\n",
      "(3, 4)\n",
      "(5, 6)\n",
      "(7, 8)\n"
     ]
    }
   ],
   "source": [
    "mylist = [(1,2), (3,4), (5,6), (7,8)]\n",
    "\n",
    "for item in mylist:\n",
    "    print(item)"
   ]
  },
  {
   "cell_type": "code",
   "execution_count": 13,
   "id": "9309f9d3-01f9-4333-8fef-4dee9f27da55",
   "metadata": {},
   "outputs": [
    {
     "name": "stdout",
     "output_type": "stream",
     "text": [
      "first double 2 and second 2\n",
      "first double 6 and second 4\n",
      "first double 10 and second 6\n",
      "first double 14 and second 8\n"
     ]
    }
   ],
   "source": [
    "for a,b in mylist: ## tuple unpacking\n",
    "    print(f\"first double {a*2} and second {b}\")"
   ]
  },
  {
   "cell_type": "code",
   "execution_count": 15,
   "id": "928d8918-9751-4eea-9a3f-cf27e453f48e",
   "metadata": {},
   "outputs": [
    {
     "name": "stdout",
     "output_type": "stream",
     "text": [
      "2\n",
      "5\n",
      "8\n",
      "11\n"
     ]
    }
   ],
   "source": [
    "mylist = [(1,2,3), (4,5,6), (7,8,9), (10,11,12)]\n",
    "for a,b,c in mylist:\n",
    "    print(b)"
   ]
  },
  {
   "cell_type": "code",
   "execution_count": 17,
   "id": "30f6aab6-f222-4f39-9f32-4989841bb35b",
   "metadata": {},
   "outputs": [
    {
     "name": "stdout",
     "output_type": "stream",
     "text": [
      "key k1: item 1\n",
      "key k2: item 2\n",
      "key k3: item 3\n"
     ]
    }
   ],
   "source": [
    "d = {'k1':1, 'k2':2, 'k3':3}\n",
    "\n",
    "for key,value in d.items():\n",
    "    print(f\"key {key}: item {value}\")"
   ]
  },
  {
   "cell_type": "code",
   "execution_count": 21,
   "id": "a6ca761b-9af6-4824-8b1a-df7cc7f73a36",
   "metadata": {},
   "outputs": [
    {
     "name": "stdout",
     "output_type": "stream",
     "text": [
      "Current value of x is 0\n",
      "Current value of x is 1\n",
      "Current value of x is 2\n",
      "Current value of x is 3\n",
      "Current value of x is 4\n",
      "x is not less than 5 anymore\n"
     ]
    }
   ],
   "source": [
    "x = 0\n",
    "\n",
    "while x < 5:\n",
    "    print(f'Current value of x is {x}')\n",
    "    x += 1\n",
    "else:\n",
    "    print(\"x is not less than 5 anymore\")"
   ]
  },
  {
   "cell_type": "code",
   "execution_count": 22,
   "id": "27a4ff0a-2ec5-485c-9959-3c2e4aad5bda",
   "metadata": {},
   "outputs": [
    {
     "name": "stdout",
     "output_type": "stream",
     "text": [
      "end of my script\n"
     ]
    }
   ],
   "source": [
    "x = [1,2,3]\n",
    "\n",
    "for item in x:\n",
    "    # comment\n",
    "    pass ## passing empty for loop\n",
    "print('end of my script')"
   ]
  },
  {
   "cell_type": "code",
   "execution_count": 24,
   "id": "1dddfaee-d496-4620-8ec3-e1f5665a494c",
   "metadata": {},
   "outputs": [
    {
     "name": "stdout",
     "output_type": "stream",
     "text": [
      " \n",
      "a\n",
      "m\n",
      " \n",
      "a\n",
      "q\n"
     ]
    }
   ],
   "source": [
    "mystring = \"I am aqib\"\n",
    "\n",
    "for i in mystring:\n",
    "    if i == 'I':\n",
    "        continue\n",
    "    if i == 'i':\n",
    "        break\n",
    "    print(i)    "
   ]
  },
  {
   "cell_type": "code",
   "execution_count": null,
   "id": "43551a8b-28d4-4b2b-bf39-71429cabbcd4",
   "metadata": {},
   "outputs": [],
   "source": []
  }
 ],
 "metadata": {
  "kernelspec": {
   "display_name": "Python [conda env:base] *",
   "language": "python",
   "name": "conda-base-py"
  },
  "language_info": {
   "codemirror_mode": {
    "name": "ipython",
    "version": 3
   },
   "file_extension": ".py",
   "mimetype": "text/x-python",
   "name": "python",
   "nbconvert_exporter": "python",
   "pygments_lexer": "ipython3",
   "version": "3.12.7"
  }
 },
 "nbformat": 4,
 "nbformat_minor": 5
}
