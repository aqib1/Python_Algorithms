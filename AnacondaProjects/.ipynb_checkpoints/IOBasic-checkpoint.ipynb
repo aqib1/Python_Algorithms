{
 "cells": [
  {
   "cell_type": "code",
   "execution_count": 1,
   "id": "5785d381-c5e5-4d11-b6f0-d2fce5a4bcdf",
   "metadata": {},
   "outputs": [
    {
     "name": "stdout",
     "output_type": "stream",
     "text": [
      "Writing myfile.txt\n"
     ]
    }
   ],
   "source": [
    "%%writefile myfile.txt\n",
    "Hello this is a text file "
   ]
  },
  {
   "cell_type": "code",
   "execution_count": 5,
   "id": "2c8ee503-69c0-4648-bef5-7c76d35941f3",
   "metadata": {},
   "outputs": [],
   "source": [
    "myfile = open('myfile.txt')"
   ]
  },
  {
   "cell_type": "code",
   "execution_count": 3,
   "id": "79142bb9-4d36-43fa-b32f-1d5e08860356",
   "metadata": {},
   "outputs": [
    {
     "data": {
      "text/plain": [
       "'/Users/aqibjaved/PycharmProjects/PythonAlgorithms/AnacondaProjects'"
      ]
     },
     "execution_count": 3,
     "metadata": {},
     "output_type": "execute_result"
    }
   ],
   "source": [
    "pwd"
   ]
  },
  {
   "cell_type": "code",
   "execution_count": 7,
   "id": "a4cbdddb-93a5-4227-8640-594bc1ac339f",
   "metadata": {},
   "outputs": [
    {
     "data": {
      "text/plain": [
       "'Hello this is a text file \\nThis is my file\\nIts a test file\\nworking test file\\nwe will do some work here\\n'"
      ]
     },
     "execution_count": 7,
     "metadata": {},
     "output_type": "execute_result"
    }
   ],
   "source": [
    "myfile.read()"
   ]
  },
  {
   "cell_type": "code",
   "execution_count": 8,
   "id": "e58d6657-7ef8-422e-abeb-1c11d226a836",
   "metadata": {},
   "outputs": [],
   "source": [
    "myfile.close()"
   ]
  },
  {
   "cell_type": "code",
   "execution_count": 10,
   "id": "dc2bb9ea-67c2-47cb-828e-669d00a916df",
   "metadata": {},
   "outputs": [],
   "source": [
    "myfile = open('myfile.txt')"
   ]
  },
  {
   "cell_type": "code",
   "execution_count": 11,
   "id": "4a5b22e8-cf3e-4552-a725-5190d1b72bb2",
   "metadata": {},
   "outputs": [
    {
     "data": {
      "text/plain": [
       "'Hello this is a text file \\nThis is my file\\nIts a test file\\nworking test file\\nwe will do some work here\\n'"
      ]
     },
     "execution_count": 11,
     "metadata": {},
     "output_type": "execute_result"
    }
   ],
   "source": [
    "myfile.read()"
   ]
  },
  {
   "cell_type": "code",
   "execution_count": 12,
   "id": "393294e2-fa19-4648-9ddd-ea66f3f7f5df",
   "metadata": {},
   "outputs": [
    {
     "data": {
      "text/plain": [
       "''"
      ]
     },
     "execution_count": 12,
     "metadata": {},
     "output_type": "execute_result"
    }
   ],
   "source": [
    "myfile.read()"
   ]
  },
  {
   "cell_type": "code",
   "execution_count": 13,
   "id": "f2c7b9fe-1c7e-40b4-8aef-58c80fef66e7",
   "metadata": {},
   "outputs": [
    {
     "data": {
      "text/plain": [
       "0"
      ]
     },
     "execution_count": 13,
     "metadata": {},
     "output_type": "execute_result"
    }
   ],
   "source": [
    "myfile.seek(0)"
   ]
  },
  {
   "cell_type": "code",
   "execution_count": 14,
   "id": "79f75d88-5641-4cf8-a027-a70a6358b5d5",
   "metadata": {},
   "outputs": [
    {
     "data": {
      "text/plain": [
       "'Hello this is a text file \\nThis is my file\\nIts a test file\\nworking test file\\nwe will do some work here\\n'"
      ]
     },
     "execution_count": 14,
     "metadata": {},
     "output_type": "execute_result"
    }
   ],
   "source": [
    "myfile.read()"
   ]
  },
  {
   "cell_type": "code",
   "execution_count": 15,
   "id": "0a2ba90b-5c50-42bc-8e9a-fe2b9b19813c",
   "metadata": {},
   "outputs": [],
   "source": [
    "myfile.close()"
   ]
  },
  {
   "cell_type": "code",
   "execution_count": 16,
   "id": "bc65a784-7524-4c54-bc5a-62eec01894fc",
   "metadata": {},
   "outputs": [],
   "source": [
    "myfile = open('myfile.txt')"
   ]
  },
  {
   "cell_type": "code",
   "execution_count": 18,
   "id": "25b29012-24da-4024-bbc9-39307c47c07a",
   "metadata": {},
   "outputs": [
    {
     "data": {
      "text/plain": [
       "['Hello this is a text file \\n',\n",
       " 'This is my file\\n',\n",
       " 'Its a test file\\n',\n",
       " 'working test file\\n',\n",
       " 'we will do some work here\\n']"
      ]
     },
     "execution_count": 18,
     "metadata": {},
     "output_type": "execute_result"
    }
   ],
   "source": [
    "myfile.readlines()"
   ]
  },
  {
   "cell_type": "code",
   "execution_count": 19,
   "id": "4576606a-fe12-41c1-b353-31f3b2f6ea0d",
   "metadata": {},
   "outputs": [
    {
     "data": {
      "text/plain": [
       "0"
      ]
     },
     "execution_count": 19,
     "metadata": {},
     "output_type": "execute_result"
    }
   ],
   "source": [
    "myfile.seek(0)"
   ]
  },
  {
   "cell_type": "code",
   "execution_count": 25,
   "id": "f37d5485-d9e1-4848-b0ab-c9409b80ca3f",
   "metadata": {},
   "outputs": [
    {
     "data": {
      "text/plain": [
       "''"
      ]
     },
     "execution_count": 25,
     "metadata": {},
     "output_type": "execute_result"
    }
   ],
   "source": [
    "myfile.readline()"
   ]
  },
  {
   "cell_type": "code",
   "execution_count": 26,
   "id": "91e5f20a-34db-48f3-802c-1412f8012c81",
   "metadata": {},
   "outputs": [],
   "source": [
    "myfile.close()"
   ]
  },
  {
   "cell_type": "code",
   "execution_count": 27,
   "id": "12d1a94f-69ab-4803-939c-b28bf0c6d735",
   "metadata": {},
   "outputs": [
    {
     "name": "stdout",
     "output_type": "stream",
     "text": [
      "Hello this is a text file \n",
      "This is my file\n",
      "Its a test file\n",
      "working test file\n",
      "we will do some work here\n",
      "\n"
     ]
    }
   ],
   "source": [
    "with open('myfile.txt') as myfile: ## this is auto-closeable\n",
    "    content = myfile.read()\n",
    "    print(content)"
   ]
  },
  {
   "cell_type": "code",
   "execution_count": 29,
   "id": "16e7fadf-2558-4e17-8081-aa19be8c560b",
   "metadata": {},
   "outputs": [],
   "source": [
    "with open('myfile.txt', 'a') as myfile:\n",
    "    myfile.write(\"This is new appended message\")"
   ]
  },
  {
   "cell_type": "code",
   "execution_count": 30,
   "id": "ff9c9a35-f219-4774-939c-79071f80c625",
   "metadata": {},
   "outputs": [
    {
     "name": "stdout",
     "output_type": "stream",
     "text": [
      "Hello this is a text file \n",
      "This is my file\n",
      "Its a test file\n",
      "working test file\n",
      "we will do some work here\n",
      "This is new appended message\n"
     ]
    }
   ],
   "source": [
    "with open('myfile.txt') as myfile: ## this is auto-closeable\n",
    "    content = myfile.read()\n",
    "    print(content)"
   ]
  },
  {
   "cell_type": "code",
   "execution_count": 31,
   "id": "e7815275-7f04-404a-863b-ee1e928d4de3",
   "metadata": {},
   "outputs": [],
   "source": [
    "with open('myfile.txt', 'w') as myfile:\n",
    "    myfile.write(\"This is new replace message\")"
   ]
  },
  {
   "cell_type": "code",
   "execution_count": 32,
   "id": "a9afc0e7-8812-4a7d-9153-24ebe2490b36",
   "metadata": {},
   "outputs": [
    {
     "name": "stdout",
     "output_type": "stream",
     "text": [
      "This is new replace message\n"
     ]
    }
   ],
   "source": [
    "with open('myfile.txt') as myfile: ## this is auto-closeable\n",
    "    content = myfile.read()\n",
    "    print(content)"
   ]
  },
  {
   "cell_type": "code",
   "execution_count": null,
   "id": "6972364a-7995-43e5-b107-7c77c910bdf2",
   "metadata": {},
   "outputs": [],
   "source": []
  }
 ],
 "metadata": {
  "kernelspec": {
   "display_name": "Python [conda env:base] *",
   "language": "python",
   "name": "conda-base-py"
  },
  "language_info": {
   "codemirror_mode": {
    "name": "ipython",
    "version": 3
   },
   "file_extension": ".py",
   "mimetype": "text/x-python",
   "name": "python",
   "nbconvert_exporter": "python",
   "pygments_lexer": "ipython3",
   "version": "3.12.7"
  }
 },
 "nbformat": 4,
 "nbformat_minor": 5
}
