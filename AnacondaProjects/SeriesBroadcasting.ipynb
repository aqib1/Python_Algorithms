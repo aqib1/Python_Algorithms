{
 "cells": [
  {
   "cell_type": "code",
   "execution_count": 1,
   "id": "f097b372-060e-466c-96e7-6152257cadc7",
   "metadata": {},
   "outputs": [
    {
     "data": {
      "text/plain": [
       "0    2.490664\n",
       "1    2.515820\n",
       "2    2.758411\n",
       "3    2.770615\n",
       "4    2.614201\n",
       "Name: Price, dtype: float64"
      ]
     },
     "execution_count": 1,
     "metadata": {},
     "output_type": "execute_result"
    }
   ],
   "source": [
    "import pandas as pd\n",
    "google = pd.read_csv(\"google_stock_price.csv\", usecols=[\"Price\"]).squeeze(\"columns\")\n",
    "google.head()"
   ]
  },
  {
   "cell_type": "code",
   "execution_count": 2,
   "id": "c7ce92c8-1d9a-4d18-92bb-fb54dc195551",
   "metadata": {},
   "outputs": [
    {
     "data": {
      "text/plain": [
       "0    7.490664\n",
       "1    7.515820\n",
       "2    7.758411\n",
       "3    7.770615\n",
       "4    7.614201\n",
       "Name: Price, dtype: float64"
      ]
     },
     "execution_count": 2,
     "metadata": {},
     "output_type": "execute_result"
    }
   ],
   "source": [
    "google.add(5).head()"
   ]
  },
  {
   "cell_type": "code",
   "execution_count": 3,
   "id": "8832d12a-603f-42b6-a009-44fbc9e60286",
   "metadata": {},
   "outputs": [
    {
     "data": {
      "text/plain": [
       "0         7.490664\n",
       "1         7.515820\n",
       "2         7.758411\n",
       "3         7.770615\n",
       "4         7.614201\n",
       "           ...    \n",
       "4789    137.998001\n",
       "4790    140.570007\n",
       "4791    142.050003\n",
       "4792    143.429993\n",
       "4793           NaN\n",
       "Name: Price, Length: 4794, dtype: float64"
      ]
     },
     "execution_count": 3,
     "metadata": {},
     "output_type": "execute_result"
    }
   ],
   "source": [
    "google + 5"
   ]
  },
  {
   "cell_type": "code",
   "execution_count": 4,
   "id": "5f94ab82-0d21-4433-a823-9997fbac1e68",
   "metadata": {},
   "outputs": [
    {
     "data": {
      "text/plain": [
       "0   -0.509336\n",
       "1   -0.484180\n",
       "2   -0.241589\n",
       "3   -0.229385\n",
       "4   -0.385799\n",
       "Name: Price, dtype: float64"
      ]
     },
     "execution_count": 4,
     "metadata": {},
     "output_type": "execute_result"
    }
   ],
   "source": [
    "google.sub(3).head()"
   ]
  },
  {
   "cell_type": "code",
   "execution_count": 5,
   "id": "63f4fe04-d388-465b-aa36-f4e50d99411a",
   "metadata": {},
   "outputs": [
    {
     "data": {
      "text/plain": [
       "0         9.490664\n",
       "1         9.515820\n",
       "2         9.758411\n",
       "3         9.770615\n",
       "4         9.614201\n",
       "           ...    \n",
       "4789    139.998001\n",
       "4790    142.570007\n",
       "4791    144.050003\n",
       "4792    145.429993\n",
       "4793           NaN\n",
       "Name: Price, Length: 4794, dtype: float64"
      ]
     },
     "execution_count": 5,
     "metadata": {},
     "output_type": "execute_result"
    }
   ],
   "source": [
    "(google + 10) - 3"
   ]
  },
  {
   "cell_type": "code",
   "execution_count": 6,
   "id": "6cf842e7-ed8b-432d-b2ac-c89ca48fd640",
   "metadata": {},
   "outputs": [
    {
     "data": {
      "text/plain": [
       "0         24.90664\n",
       "1         25.15820\n",
       "2         27.58411\n",
       "3         27.70615\n",
       "4         26.14201\n",
       "           ...    \n",
       "4789    1329.98001\n",
       "4790    1355.70007\n",
       "4791    1370.50003\n",
       "4792    1384.29993\n",
       "4793           NaN\n",
       "Name: Price, Length: 4794, dtype: float64"
      ]
     },
     "execution_count": 6,
     "metadata": {},
     "output_type": "execute_result"
    }
   ],
   "source": [
    "google.mul(10)"
   ]
  },
  {
   "cell_type": "code",
   "execution_count": 7,
   "id": "8deba81c-3486-4512-a197-d61b3841d7d8",
   "metadata": {},
   "outputs": [
    {
     "data": {
      "text/plain": [
       "0        1.245332\n",
       "1        1.257910\n",
       "2        1.379206\n",
       "3        1.385307\n",
       "4        1.307100\n",
       "          ...    \n",
       "4789    66.499000\n",
       "4790    67.785004\n",
       "4791    68.525002\n",
       "4792    69.214996\n",
       "4793          NaN\n",
       "Name: Price, Length: 4794, dtype: float64"
      ]
     },
     "execution_count": 7,
     "metadata": {},
     "output_type": "execute_result"
    }
   ],
   "source": [
    "google.div(2)"
   ]
  },
  {
   "cell_type": "code",
   "execution_count": 8,
   "id": "398baf38-cc27-4857-9781-cdc32a6d2055",
   "metadata": {},
   "outputs": [
    {
     "data": {
      "text/plain": [
       "0        1.245332\n",
       "1        1.257910\n",
       "2        1.379206\n",
       "3        1.385307\n",
       "4        1.307100\n",
       "          ...    \n",
       "4789    66.499000\n",
       "4790    67.785004\n",
       "4791    68.525002\n",
       "4792    69.214996\n",
       "4793          NaN\n",
       "Name: Price, Length: 4794, dtype: float64"
      ]
     },
     "execution_count": 8,
     "metadata": {},
     "output_type": "execute_result"
    }
   ],
   "source": [
    "google / 2"
   ]
  },
  {
   "cell_type": "code",
   "execution_count": null,
   "id": "ce029789-0f93-4228-9b8a-466557cdbff0",
   "metadata": {},
   "outputs": [],
   "source": []
  }
 ],
 "metadata": {
  "kernelspec": {
   "display_name": "Python 3 (ipykernel)",
   "language": "python",
   "name": "python3"
  },
  "language_info": {
   "codemirror_mode": {
    "name": "ipython",
    "version": 3
   },
   "file_extension": ".py",
   "mimetype": "text/x-python",
   "name": "python",
   "nbconvert_exporter": "python",
   "pygments_lexer": "ipython3",
   "version": "3.13.4"
  }
 },
 "nbformat": 4,
 "nbformat_minor": 5
}
