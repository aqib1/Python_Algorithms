{
 "cells": [
  {
   "cell_type": "code",
   "execution_count": 1,
   "id": "2d9ba923-d183-4ec2-afa2-39b1b28182aa",
   "metadata": {},
   "outputs": [],
   "source": [
    "import pandas as pd"
   ]
  },
  {
   "cell_type": "code",
   "execution_count": 27,
   "id": "dc928e6e-35f1-424c-9d0f-4b85a877dca7",
   "metadata": {},
   "outputs": [
    {
     "data": {
      "text/plain": [
       "pandas.core.series.Series"
      ]
     },
     "execution_count": 27,
     "metadata": {},
     "output_type": "execute_result"
    }
   ],
   "source": [
    "student = pd.read_csv('student_scores2.csv', usecols=['IQ']).squeeze('columns')\n",
    "type(student)"
   ]
  },
  {
   "cell_type": "code",
   "execution_count": 29,
   "id": "ec8902c5-f934-4601-ac6c-d39fe38d6412",
   "metadata": {},
   "outputs": [
    {
     "data": {
      "text/plain": [
       "np.float64(97.41935483870968)"
      ]
     },
     "execution_count": 29,
     "metadata": {},
     "output_type": "execute_result"
    }
   ],
   "source": [
    "student.mean()"
   ]
  },
  {
   "cell_type": "code",
   "execution_count": 30,
   "id": "899597c8-f96b-481e-aca7-b1aadb1cc049",
   "metadata": {},
   "outputs": [
    {
     "data": {
      "text/plain": [
       "239.7849462365592"
      ]
     },
     "execution_count": 30,
     "metadata": {},
     "output_type": "execute_result"
    }
   ],
   "source": [
    "student.var()"
   ]
  },
  {
   "cell_type": "code",
   "execution_count": 32,
   "id": "398f1113-da3a-4a74-8d33-f62cbb48accd",
   "metadata": {},
   "outputs": [
    {
     "data": {
      "text/plain": [
       "15.484990998917603"
      ]
     },
     "execution_count": 32,
     "metadata": {},
     "output_type": "execute_result"
    }
   ],
   "source": [
    "student.std()"
   ]
  }
 ],
 "metadata": {
  "kernelspec": {
   "display_name": "Python 3 (ipykernel)",
   "language": "python",
   "name": "python3"
  },
  "language_info": {
   "codemirror_mode": {
    "name": "ipython",
    "version": 3
   },
   "file_extension": ".py",
   "mimetype": "text/x-python",
   "name": "python",
   "nbconvert_exporter": "python",
   "pygments_lexer": "ipython3",
   "version": "3.13.4"
  }
 },
 "nbformat": 4,
 "nbformat_minor": 5
}
