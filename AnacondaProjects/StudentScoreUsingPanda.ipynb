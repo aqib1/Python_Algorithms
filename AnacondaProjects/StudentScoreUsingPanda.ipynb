{
 "cells": [
  {
   "cell_type": "code",
   "execution_count": 1,
   "id": "2d9ba923-d183-4ec2-afa2-39b1b28182aa",
   "metadata": {},
   "outputs": [],
   "source": [
    "import pandas as pd"
   ]
  },
  {
   "cell_type": "code",
   "execution_count": 27,
   "id": "dc928e6e-35f1-424c-9d0f-4b85a877dca7",
   "metadata": {},
   "outputs": [
    {
     "data": {
      "text/plain": [
       "pandas.core.series.Series"
      ]
     },
     "execution_count": 27,
     "metadata": {},
     "output_type": "execute_result"
    }
   ],
   "source": [
    "student = pd.read_csv('student_scores2.csv', usecols=['IQ']).squeeze('columns')\n",
    "type(student)"
   ]
  },
  {
   "cell_type": "code",
   "execution_count": 29,
   "id": "ec8902c5-f934-4601-ac6c-d39fe38d6412",
   "metadata": {},
   "outputs": [
    {
     "data": {
      "text/plain": [
       "np.float64(97.41935483870968)"
      ]
     },
     "execution_count": 29,
     "metadata": {},
     "output_type": "execute_result"
    }
   ],
   "source": [
    "student.mean()"
   ]
  },
  {
   "cell_type": "code",
   "execution_count": 30,
   "id": "899597c8-f96b-481e-aca7-b1aadb1cc049",
   "metadata": {},
   "outputs": [
    {
     "data": {
      "text/plain": [
       "239.7849462365592"
      ]
     },
     "execution_count": 30,
     "metadata": {},
     "output_type": "execute_result"
    }
   ],
   "source": [
    "student.var()"
   ]
  },
  {
   "cell_type": "code",
   "execution_count": 33,
   "id": "398f1113-da3a-4a74-8d33-f62cbb48accd",
   "metadata": {},
   "outputs": [
    {
     "data": {
      "text/plain": [
       "15.484990998917603"
      ]
     },
     "execution_count": 33,
     "metadata": {},
     "output_type": "execute_result"
    }
   ],
   "source": [
    "student.std()"
   ]
  },
  {
   "cell_type": "code",
   "execution_count": 34,
   "id": "fa4a3b2b-fcd7-4ebd-bca9-3c17d5afe50c",
   "metadata": {},
   "outputs": [
    {
     "data": {
      "text/plain": [
       "0    80\n",
       "1    80\n",
       "2    70\n",
       "3    90\n",
       "4    70\n",
       "Name: IQ, dtype: int64"
      ]
     },
     "execution_count": 34,
     "metadata": {},
     "output_type": "execute_result"
    }
   ],
   "source": [
    "student.head() ## default is 5"
   ]
  },
  {
   "cell_type": "code",
   "execution_count": 35,
   "id": "4c128d1b-8f7b-4e2d-a14c-14653ef329d1",
   "metadata": {},
   "outputs": [
    {
     "data": {
      "text/plain": [
       "0    80\n",
       "1    80\n",
       "2    70\n",
       "3    90\n",
       "4    70\n",
       "5    80\n",
       "Name: IQ, dtype: int64"
      ]
     },
     "execution_count": 35,
     "metadata": {},
     "output_type": "execute_result"
    }
   ],
   "source": [
    "student.head(6)"
   ]
  },
  {
   "cell_type": "code",
   "execution_count": 36,
   "id": "4035237a-a2b4-4c3c-b898-d84b934e1f6a",
   "metadata": {},
   "outputs": [
    {
     "data": {
      "text/plain": [
       "26    110\n",
       "27     90\n",
       "28    110\n",
       "29    130\n",
       "30    120\n",
       "Name: IQ, dtype: int64"
      ]
     },
     "execution_count": 36,
     "metadata": {},
     "output_type": "execute_result"
    }
   ],
   "source": [
    "student.tail() ## last 5 numbers"
   ]
  },
  {
   "cell_type": "code",
   "execution_count": 37,
   "id": "11b45871-7df1-4f36-b626-4427d51a3b1f",
   "metadata": {},
   "outputs": [
    {
     "data": {
      "text/plain": [
       "28    110\n",
       "29    130\n",
       "30    120\n",
       "Name: IQ, dtype: int64"
      ]
     },
     "execution_count": 37,
     "metadata": {},
     "output_type": "execute_result"
    }
   ],
   "source": [
    "student.tail(3)"
   ]
  },
  {
   "cell_type": "code",
   "execution_count": 38,
   "id": "5d148340-fee1-4203-87d1-14fb0cbc28b2",
   "metadata": {},
   "outputs": [
    {
     "data": {
      "text/plain": [
       "31"
      ]
     },
     "execution_count": 38,
     "metadata": {},
     "output_type": "execute_result"
    }
   ],
   "source": [
    "len(student)"
   ]
  },
  {
   "cell_type": "code",
   "execution_count": 40,
   "id": "5654c943-567e-4fd9-98f6-f6f337e53d0f",
   "metadata": {},
   "outputs": [
    {
     "data": {
      "text/plain": [
       "pandas.core.series.Series"
      ]
     },
     "execution_count": 40,
     "metadata": {},
     "output_type": "execute_result"
    }
   ],
   "source": [
    "type(student)"
   ]
  },
  {
   "cell_type": "code",
   "execution_count": 41,
   "id": "7cca66a6-66f9-4b41-aa65-dba5a8e564c7",
   "metadata": {},
   "outputs": [
    {
     "data": {
      "text/plain": [
       "[80,\n",
       " 80,\n",
       " 70,\n",
       " 90,\n",
       " 70,\n",
       " 80,\n",
       " 100,\n",
       " 90,\n",
       " 100,\n",
       " 90,\n",
       " 110,\n",
       " 100,\n",
       " 120,\n",
       " 100,\n",
       " 100,\n",
       " 120,\n",
       " 100,\n",
       " 90,\n",
       " 90,\n",
       " 100,\n",
       " 80,\n",
       " 90,\n",
       " 80,\n",
       " 110,\n",
       " 100,\n",
       " 120,\n",
       " 110,\n",
       " 90,\n",
       " 110,\n",
       " 130,\n",
       " 120]"
      ]
     },
     "execution_count": 41,
     "metadata": {},
     "output_type": "execute_result"
    }
   ],
   "source": [
    "list(student)"
   ]
  },
  {
   "cell_type": "code",
   "execution_count": 42,
   "id": "b1d794c1-aaa4-4bec-b173-37187d2bffad",
   "metadata": {},
   "outputs": [
    {
     "data": {
      "text/plain": [
       "[70,\n",
       " 70,\n",
       " 80,\n",
       " 80,\n",
       " 80,\n",
       " 80,\n",
       " 80,\n",
       " 90,\n",
       " 90,\n",
       " 90,\n",
       " 90,\n",
       " 90,\n",
       " 90,\n",
       " 90,\n",
       " 100,\n",
       " 100,\n",
       " 100,\n",
       " 100,\n",
       " 100,\n",
       " 100,\n",
       " 100,\n",
       " 100,\n",
       " 110,\n",
       " 110,\n",
       " 110,\n",
       " 110,\n",
       " 120,\n",
       " 120,\n",
       " 120,\n",
       " 120,\n",
       " 130]"
      ]
     },
     "execution_count": 42,
     "metadata": {},
     "output_type": "execute_result"
    }
   ],
   "source": [
    "sorted(student)"
   ]
  },
  {
   "cell_type": "code",
   "execution_count": 43,
   "id": "3434a816-5364-4350-8ba4-bc697ae9e6bf",
   "metadata": {},
   "outputs": [
    {
     "data": {
      "text/plain": [
       "{0: np.int64(80),\n",
       " 1: np.int64(80),\n",
       " 2: np.int64(70),\n",
       " 3: np.int64(90),\n",
       " 4: np.int64(70),\n",
       " 5: np.int64(80),\n",
       " 6: np.int64(100),\n",
       " 7: np.int64(90),\n",
       " 8: np.int64(100),\n",
       " 9: np.int64(90),\n",
       " 10: np.int64(110),\n",
       " 11: np.int64(100),\n",
       " 12: np.int64(120),\n",
       " 13: np.int64(100),\n",
       " 14: np.int64(100),\n",
       " 15: np.int64(120),\n",
       " 16: np.int64(100),\n",
       " 17: np.int64(90),\n",
       " 18: np.int64(90),\n",
       " 19: np.int64(100),\n",
       " 20: np.int64(80),\n",
       " 21: np.int64(90),\n",
       " 22: np.int64(80),\n",
       " 23: np.int64(110),\n",
       " 24: np.int64(100),\n",
       " 25: np.int64(120),\n",
       " 26: np.int64(110),\n",
       " 27: np.int64(90),\n",
       " 28: np.int64(110),\n",
       " 29: np.int64(130),\n",
       " 30: np.int64(120)}"
      ]
     },
     "execution_count": 43,
     "metadata": {},
     "output_type": "execute_result"
    }
   ],
   "source": [
    "dict(student)"
   ]
  },
  {
   "cell_type": "code",
   "execution_count": 44,
   "id": "c58c7454-7da9-459d-b7c3-ee13eb9c7019",
   "metadata": {},
   "outputs": [
    {
     "data": {
      "text/plain": [
       "130"
      ]
     },
     "execution_count": 44,
     "metadata": {},
     "output_type": "execute_result"
    }
   ],
   "source": [
    "max(student)"
   ]
  },
  {
   "cell_type": "code",
   "execution_count": 45,
   "id": "bef70c0e-d020-4f82-997b-dc2de8135df1",
   "metadata": {},
   "outputs": [
    {
     "data": {
      "text/plain": [
       "70"
      ]
     },
     "execution_count": 45,
     "metadata": {},
     "output_type": "execute_result"
    }
   ],
   "source": [
    "min(student)"
   ]
  },
  {
   "cell_type": "code",
   "execution_count": 46,
   "id": "62a0b5fe-f105-4650-8c3c-b198f98e0409",
   "metadata": {},
   "outputs": [
    {
     "data": {
      "text/plain": [
       "False"
      ]
     },
     "execution_count": 46,
     "metadata": {},
     "output_type": "execute_result"
    }
   ],
   "source": [
    "70 in student"
   ]
  },
  {
   "cell_type": "code",
   "execution_count": 47,
   "id": "c06e5895-d8c9-47df-b9fa-658869c7f332",
   "metadata": {},
   "outputs": [
    {
     "data": {
      "text/plain": [
       "True"
      ]
     },
     "execution_count": 47,
     "metadata": {},
     "output_type": "execute_result"
    }
   ],
   "source": [
    "70 in list(student)"
   ]
  },
  {
   "cell_type": "code",
   "execution_count": 48,
   "id": "8f4fa0ba-2eed-42af-b0f4-9ba1d0b5c68e",
   "metadata": {},
   "outputs": [
    {
     "data": {
      "text/plain": [
       "RangeIndex(start=0, stop=31, step=1)"
      ]
     },
     "execution_count": 48,
     "metadata": {},
     "output_type": "execute_result"
    }
   ],
   "source": [
    "student.index"
   ]
  },
  {
   "cell_type": "code",
   "execution_count": 49,
   "id": "dcc7aab6-90fb-45b7-a3b8-0986a7a609b5",
   "metadata": {},
   "outputs": [
    {
     "data": {
      "text/plain": [
       "False"
      ]
     },
     "execution_count": 49,
     "metadata": {},
     "output_type": "execute_result"
    }
   ],
   "source": [
    "32 in student.index"
   ]
  },
  {
   "cell_type": "code",
   "execution_count": 50,
   "id": "d5538ae5-9df0-41f7-ab4a-57520b36223f",
   "metadata": {},
   "outputs": [
    {
     "data": {
      "text/plain": [
       "True"
      ]
     },
     "execution_count": 50,
     "metadata": {},
     "output_type": "execute_result"
    }
   ],
   "source": [
    "70 in student.values"
   ]
  },
  {
   "cell_type": "code",
   "execution_count": 51,
   "id": "1bbaca8e-f964-48c8-85b6-b1730d28d4c6",
   "metadata": {},
   "outputs": [
    {
     "data": {
      "text/plain": [
       "False"
      ]
     },
     "execution_count": 51,
     "metadata": {},
     "output_type": "execute_result"
    }
   ],
   "source": [
    "100000 in student.values"
   ]
  },
  {
   "cell_type": "code",
   "execution_count": 52,
   "id": "807c0a05-2a5b-41e3-b986-f66248d629fd",
   "metadata": {},
   "outputs": [
    {
     "data": {
      "text/plain": [
       "numpy.ndarray"
      ]
     },
     "execution_count": 52,
     "metadata": {},
     "output_type": "execute_result"
    }
   ],
   "source": [
    "type(student.values)"
   ]
  },
  {
   "cell_type": "code",
   "execution_count": 53,
   "id": "4ca1dd2e-a0c9-4d95-ae35-ce12fd816f08",
   "metadata": {},
   "outputs": [
    {
     "data": {
      "text/plain": [
       "0    80\n",
       "1    80\n",
       "2    70\n",
       "3    90\n",
       "4    70\n",
       "Name: IQ, dtype: int64"
      ]
     },
     "execution_count": 53,
     "metadata": {},
     "output_type": "execute_result"
    }
   ],
   "source": [
    "student.head()"
   ]
  },
  {
   "cell_type": "code",
   "execution_count": 54,
   "id": "b65da14e-7f5c-4d99-bac1-84876edb6c53",
   "metadata": {},
   "outputs": [
    {
     "data": {
      "text/plain": [
       "2      70\n",
       "4      70\n",
       "0      80\n",
       "20     80\n",
       "5      80\n",
       "22     80\n",
       "1      80\n",
       "7      90\n",
       "9      90\n",
       "21     90\n",
       "18     90\n",
       "17     90\n",
       "3      90\n",
       "27     90\n",
       "6     100\n",
       "19    100\n",
       "14    100\n",
       "13    100\n",
       "24    100\n",
       "8     100\n",
       "16    100\n",
       "11    100\n",
       "23    110\n",
       "28    110\n",
       "10    110\n",
       "26    110\n",
       "15    120\n",
       "12    120\n",
       "25    120\n",
       "30    120\n",
       "29    130\n",
       "Name: IQ, dtype: int64"
      ]
     },
     "execution_count": 54,
     "metadata": {},
     "output_type": "execute_result"
    }
   ],
   "source": [
    "student.sort_values()"
   ]
  },
  {
   "cell_type": "code",
   "execution_count": 55,
   "id": "9bccbf26-3af0-4e30-942e-5271ecd87f8b",
   "metadata": {},
   "outputs": [
    {
     "data": {
      "text/plain": [
       "0      80\n",
       "1      80\n",
       "2      70\n",
       "3      90\n",
       "4      70\n",
       "5      80\n",
       "6     100\n",
       "7      90\n",
       "8     100\n",
       "9      90\n",
       "10    110\n",
       "11    100\n",
       "12    120\n",
       "13    100\n",
       "14    100\n",
       "15    120\n",
       "16    100\n",
       "17     90\n",
       "18     90\n",
       "19    100\n",
       "20     80\n",
       "21     90\n",
       "22     80\n",
       "23    110\n",
       "24    100\n",
       "25    120\n",
       "26    110\n",
       "27     90\n",
       "28    110\n",
       "29    130\n",
       "30    120\n",
       "Name: IQ, dtype: int64"
      ]
     },
     "execution_count": 55,
     "metadata": {},
     "output_type": "execute_result"
    }
   ],
   "source": [
    "student"
   ]
  },
  {
   "cell_type": "code",
   "execution_count": 56,
   "id": "13941e18-8af6-44c0-bf28-207d024dc3ac",
   "metadata": {},
   "outputs": [
    {
     "data": {
      "text/plain": [
       "29    130\n",
       "15    120\n",
       "12    120\n",
       "25    120\n",
       "30    120\n",
       "23    110\n",
       "26    110\n",
       "10    110\n",
       "28    110\n",
       "24    100\n",
       "19    100\n",
       "6     100\n",
       "16    100\n",
       "14    100\n",
       "13    100\n",
       "11    100\n",
       "8     100\n",
       "27     90\n",
       "17     90\n",
       "9      90\n",
       "7      90\n",
       "21     90\n",
       "3      90\n",
       "18     90\n",
       "5      80\n",
       "22     80\n",
       "20     80\n",
       "1      80\n",
       "0      80\n",
       "4      70\n",
       "2      70\n",
       "Name: IQ, dtype: int64"
      ]
     },
     "execution_count": 56,
     "metadata": {},
     "output_type": "execute_result"
    }
   ],
   "source": [
    "student.sort_values(ascending=False)"
   ]
  },
  {
   "cell_type": "code",
   "execution_count": null,
   "id": "a4a4fccb-9220-4fd6-bd8b-6e31b65de170",
   "metadata": {},
   "outputs": [],
   "source": []
  }
 ],
 "metadata": {
  "kernelspec": {
   "display_name": "Python 3 (ipykernel)",
   "language": "python",
   "name": "python3"
  },
  "language_info": {
   "codemirror_mode": {
    "name": "ipython",
    "version": 3
   },
   "file_extension": ".py",
   "mimetype": "text/x-python",
   "name": "python",
   "nbconvert_exporter": "python",
   "pygments_lexer": "ipython3",
   "version": "3.13.4"
  }
 },
 "nbformat": 4,
 "nbformat_minor": 5
}
