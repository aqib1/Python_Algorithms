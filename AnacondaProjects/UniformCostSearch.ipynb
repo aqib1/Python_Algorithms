{
 "cells": [
  {
   "cell_type": "markdown",
   "id": "0e1c2dca-ca66-40c0-b111-a79749aea0f2",
   "metadata": {},
   "source": [
    "Time complexity : O((V + E) Log V)\n",
    "Space complexity : O(V + E)"
   ]
  },
  {
   "cell_type": "code",
   "execution_count": 2,
   "id": "a540e95d-aa3c-4f18-99d0-78f3e924f4c2",
   "metadata": {},
   "outputs": [
    {
     "name": "stdout",
     "output_type": "stream",
     "text": [
      "{'A': 0, 'B': 3, 'C': 2, 'D': 8, 'E': 10, 'L': inf}\n"
     ]
    }
   ],
   "source": [
    "import heapq\n",
    "class Dijkstra:\n",
    "    def uniform_cost_search(self, graph, start):\n",
    "        distance = dict.fromkeys(graph, float('inf'))\n",
    "        distance[start] = 0\n",
    "        pq = [(0, start)] ## priority queue of cost with vertex\n",
    "\n",
    "        while pq:\n",
    "            current_cost, current_vertex = heapq.heappop(pq)\n",
    "            ## current vertex distance is already shorter\n",
    "            if current_cost > distance[current_vertex]:\n",
    "                continue\n",
    "            ## Edge relaxation\n",
    "            for neighbour, cost in graph[current_vertex]:\n",
    "                sum_cost = cost + current_cost\n",
    "\n",
    "                if sum_cost < distance[neighbour]:\n",
    "                    distance[neighbour] = sum_cost\n",
    "                    heapq.heappush(pq, (sum_cost, neighbour))\n",
    "        return distance\n",
    "        \n",
    "\n",
    "if __name__ == '__main__':\n",
    "    adjacency_list = {\n",
    "        'A': [('B', 4), ('C', 2)],\n",
    "        'B': [('A', 4), ('C', 1), ('D', 5)],\n",
    "        'C': [('A', 2), ('B', 1), ('D', 8), ('E', 10)],\n",
    "        'D': [('B', 5), ('C', 8), ('E', 2)],\n",
    "        'E': [('C', 10), ('D', 2)],\n",
    "        'L': [('Z', 100)]\n",
    "    }\n",
    "    search = Dijkstra()\n",
    "    print(search.uniform_cost_search(adjacency_list, 'A'))"
   ]
  }
 ],
 "metadata": {
  "kernelspec": {
   "display_name": "Python 3 (ipykernel)",
   "language": "python",
   "name": "python3"
  },
  "language_info": {
   "codemirror_mode": {
    "name": "ipython",
    "version": 3
   },
   "file_extension": ".py",
   "mimetype": "text/x-python",
   "name": "python",
   "nbconvert_exporter": "python",
   "pygments_lexer": "ipython3",
   "version": "3.13.4"
  }
 },
 "nbformat": 4,
 "nbformat_minor": 5
}
