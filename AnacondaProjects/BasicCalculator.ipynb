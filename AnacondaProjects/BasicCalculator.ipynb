{
 "cells": [
  {
   "cell_type": "code",
   "execution_count": 2,
   "id": "c495bf9f-5842-4c11-9417-220d8265bd0e",
   "metadata": {},
   "outputs": [
    {
     "name": "stdout",
     "output_type": "stream",
     "text": [
      "Welcome to your calculator\n",
      " your options are:\n",
      "\n",
      "1. Addition\n",
      "2. Subtraction\n",
      "3. Multiplication\n",
      "4. Division\n",
      "5. Quit calculator\n",
      "\n"
     ]
    },
    {
     "name": "stdin",
     "output_type": "stream",
     "text": [
      "Choose your option: 6\n"
     ]
    },
    {
     "name": "stdout",
     "output_type": "stream",
     "text": [
      "Invalid option, please choose from provided ones\n",
      "\n",
      "1. Addition\n",
      "2. Subtraction\n",
      "3. Multiplication\n",
      "4. Division\n",
      "5. Quit calculator\n",
      "\n"
     ]
    },
    {
     "name": "stdin",
     "output_type": "stream",
     "text": [
      "Choose your option: 1\n",
      "Enter first number:  22\n",
      "Enter second number:  11\n"
     ]
    },
    {
     "name": "stdout",
     "output_type": "stream",
     "text": [
      "Result: 33.0\n",
      "\n",
      "1. Addition\n",
      "2. Subtraction\n",
      "3. Multiplication\n",
      "4. Division\n",
      "5. Quit calculator\n",
      "\n"
     ]
    },
    {
     "name": "stdin",
     "output_type": "stream",
     "text": [
      "Choose your option: 4\n",
      "Enter first number:  34\n",
      "Enter second number:  0\n"
     ]
    },
    {
     "name": "stdout",
     "output_type": "stream",
     "text": [
      "Exception: \"float division by zero\"\n"
     ]
    }
   ],
   "source": [
    "class Calculator:\n",
    "    def get_input(self):\n",
    "        self.num1 = float(input(\"Enter first number: \"))\n",
    "        self.num2 = float(input(\"Enter second number: \"))\n",
    "\n",
    "class Addition(Calculator):\n",
    "    def calculate(self):\n",
    "        return self.num1 + self.num2\n",
    "\n",
    "class Subtraction(Calculator):\n",
    "    def calculate(self):\n",
    "        return self.num1 - self.num2\n",
    "\n",
    "class Multiply(Calculator):\n",
    "    def calculate(self):\n",
    "        return self.num1 * self.num2\n",
    "\n",
    "class Divide(Calculator):\n",
    "    def calculate(self):\n",
    "        return self.num1 / self.num2\n",
    "\n",
    "def main():\n",
    "    print(\"Welcome to your calculator\\n your options are:\\n\")\n",
    "    try:\n",
    "        while True:\n",
    "            print(\"1. Addition\\n2. Subtraction\\n3. Multiplication\\n4. Division\\n5. Quit calculator\\n\")   \n",
    "            option = input(\"Choose your option:\")\n",
    "        \n",
    "            calculate = None\n",
    "            if option == '5':\n",
    "                print(\"Thank you for using the calculator. Goodbye!\")\n",
    "                break\n",
    "            elif option == \"1\":\n",
    "                calculate = Addition()\n",
    "            elif option == \"2\":\n",
    "                calculate = Subtraction()\n",
    "            elif option == \"3\":\n",
    "                calculate = Multiply()\n",
    "            elif option == \"4\":\n",
    "                calculate = Divide()\n",
    "            else:\n",
    "                print(\"Invalid option, please choose from provided ones\\n\")\n",
    "                continue\n",
    "            \n",
    "            calculate.get_input()\n",
    "            result = calculate.calculate()\n",
    "            print(f\"Result: {result}\\n\")\n",
    "\n",
    "    except Exception as e:\n",
    "        print(f\"Exception: \\\"{e}\\\"\")\n",
    "\n",
    "if __name__ == \"__main__\":\n",
    "    main()"
   ]
  },
  {
   "cell_type": "code",
   "execution_count": null,
   "id": "41bf5ffd-bd75-4a28-9111-9eb3fac04847",
   "metadata": {},
   "outputs": [],
   "source": []
  }
 ],
 "metadata": {
  "kernelspec": {
   "display_name": "Python [conda env:base] *",
   "language": "python",
   "name": "conda-base-py"
  },
  "language_info": {
   "codemirror_mode": {
    "name": "ipython",
    "version": 3
   },
   "file_extension": ".py",
   "mimetype": "text/x-python",
   "name": "python",
   "nbconvert_exporter": "python",
   "pygments_lexer": "ipython3",
   "version": "3.12.7"
  }
 },
 "nbformat": 4,
 "nbformat_minor": 5
}
