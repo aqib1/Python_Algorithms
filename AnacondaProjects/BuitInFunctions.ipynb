{
 "cells": [
  {
   "cell_type": "code",
   "execution_count": 1,
   "id": "d7c90054-abf9-449d-907f-1b2d4906b70e",
   "metadata": {},
   "outputs": [
    {
     "data": {
      "text/plain": [
       "23"
      ]
     },
     "execution_count": 1,
     "metadata": {},
     "output_type": "execute_result"
    }
   ],
   "source": [
    "len(\"This is a python course\")"
   ]
  },
  {
   "cell_type": "code",
   "execution_count": 2,
   "id": "fb568895-9c33-4c65-abf2-c8121e2720da",
   "metadata": {},
   "outputs": [
    {
     "data": {
      "text/plain": [
       "'123.45'"
      ]
     },
     "execution_count": 2,
     "metadata": {},
     "output_type": "execute_result"
    }
   ],
   "source": [
    "str(123.45)"
   ]
  },
  {
   "cell_type": "code",
   "execution_count": 3,
   "id": "af75165f-ec11-4d25-b228-de33d43f2e33",
   "metadata": {},
   "outputs": [
    {
     "data": {
      "text/plain": [
       "124"
      ]
     },
     "execution_count": 3,
     "metadata": {},
     "output_type": "execute_result"
    }
   ],
   "source": [
    "int('124')"
   ]
  },
  {
   "cell_type": "code",
   "execution_count": 4,
   "id": "74a6566e-05f4-4d0c-8519-71bc0e2674d3",
   "metadata": {},
   "outputs": [
    {
     "data": {
      "text/plain": [
       "123.45"
      ]
     },
     "execution_count": 4,
     "metadata": {},
     "output_type": "execute_result"
    }
   ],
   "source": [
    "float('123.45')"
   ]
  },
  {
   "cell_type": "code",
   "execution_count": 5,
   "id": "205c1312-e13d-484d-bc80-e753a087d37f",
   "metadata": {},
   "outputs": [
    {
     "data": {
      "text/plain": [
       "123.0"
      ]
     },
     "execution_count": 5,
     "metadata": {},
     "output_type": "execute_result"
    }
   ],
   "source": [
    "float('123')"
   ]
  },
  {
   "cell_type": "code",
   "execution_count": 6,
   "id": "ae2c73be-ce3c-48d7-9534-164d5a2e7eda",
   "metadata": {},
   "outputs": [
    {
     "data": {
      "text/plain": [
       "float"
      ]
     },
     "execution_count": 6,
     "metadata": {},
     "output_type": "execute_result"
    }
   ],
   "source": [
    "type(123.0)"
   ]
  },
  {
   "cell_type": "code",
   "execution_count": 7,
   "id": "06f88ac3-cbfd-4bd2-9ee1-ad84d3414d51",
   "metadata": {},
   "outputs": [
    {
     "data": {
      "text/plain": [
       "bool"
      ]
     },
     "execution_count": 7,
     "metadata": {},
     "output_type": "execute_result"
    }
   ],
   "source": [
    "type(True)"
   ]
  },
  {
   "cell_type": "code",
   "execution_count": 8,
   "id": "1a0656d9-7c6e-42c6-af47-41cbc59443a9",
   "metadata": {},
   "outputs": [],
   "source": [
    "name_length = len(\"Bobby\")\n",
    "city_length = len(\"Hollywood\")\n",
    "age_as_number = int(\"31\")\n",
    "age_as_string = str(31)\n",
    "issues = str(99) + \" problems\""
   ]
  },
  {
   "cell_type": "code",
   "execution_count": 9,
   "id": "991b8cce-2d22-47f7-a667-10a81ffd0600",
   "metadata": {},
   "outputs": [],
   "source": [
    "def convert_to_fahrenheit(calsius_temp):\n",
    "    return (calsius_temp*9/5) + 32\n",
    "\n",
    "\n",
    "print(f\"{convert_to_fahrenheit(12)} C\")"
   ]
  },
  {
   "cell_type": "code",
   "execution_count": null,
   "id": "53446701-5cb7-4208-aee0-a2e52cb1ee9b",
   "metadata": {},
   "outputs": [],
   "source": []
  }
 ],
 "metadata": {
  "kernelspec": {
   "display_name": "Python 3 (ipykernel)",
   "language": "python",
   "name": "python3"
  },
  "language_info": {
   "codemirror_mode": {
    "name": "ipython",
    "version": 3
   },
   "file_extension": ".py",
   "mimetype": "text/x-python",
   "name": "python",
   "nbconvert_exporter": "python",
   "pygments_lexer": "ipython3",
   "version": "3.13.4"
  }
 },
 "nbformat": 4,
 "nbformat_minor": 5
}
