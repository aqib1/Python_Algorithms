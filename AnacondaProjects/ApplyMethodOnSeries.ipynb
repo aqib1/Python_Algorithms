{
 "cells": [
  {
   "cell_type": "code",
   "execution_count": 3,
   "id": "f107c9e5-db50-41df-9a80-4ce85495cb4f",
   "metadata": {},
   "outputs": [
    {
     "data": {
      "text/plain": [
       "0     Bulbasaur\n",
       "1       Ivysaur\n",
       "2      Venusaur\n",
       "3    Charmander\n",
       "4    Charmeleon\n",
       "Name: Name, dtype: object"
      ]
     },
     "execution_count": 3,
     "metadata": {},
     "output_type": "execute_result"
    }
   ],
   "source": [
    "import pandas as pd\n",
    "\n",
    "pokemon = pd.read_csv(\"pokemon.csv\", usecols=[\"Name\"]).squeeze(\"columns\")\n",
    "pokemon.head()"
   ]
  },
  {
   "cell_type": "code",
   "execution_count": 4,
   "id": "769f1f4d-2dd9-473a-8e3f-45c377f37b64",
   "metadata": {},
   "outputs": [
    {
     "data": {
      "text/plain": [
       "0        9\n",
       "1        7\n",
       "2        8\n",
       "3       10\n",
       "4       10\n",
       "        ..\n",
       "1005    12\n",
       "1006     8\n",
       "1007     8\n",
       "1008    12\n",
       "1009    11\n",
       "Name: Name, Length: 1010, dtype: int64"
      ]
     },
     "execution_count": 4,
     "metadata": {},
     "output_type": "execute_result"
    }
   ],
   "source": [
    "pokemon.apply(len)"
   ]
  },
  {
   "cell_type": "code",
   "execution_count": 5,
   "id": "7fc47ab8-04ac-4291-9554-0cc340083cee",
   "metadata": {},
   "outputs": [
    {
     "data": {
      "text/plain": [
       "0       2\n",
       "1       1\n",
       "2       1\n",
       "3       2\n",
       "4       1\n",
       "       ..\n",
       "1005    2\n",
       "1006    1\n",
       "1007    1\n",
       "1008    2\n",
       "1009    1\n",
       "Name: Name, Length: 1010, dtype: int64"
      ]
     },
     "execution_count": 5,
     "metadata": {},
     "output_type": "execute_result"
    }
   ],
   "source": [
    "def count_of_a(pokemon):\n",
    "    return pokemon.count(\"a\")\n",
    "\n",
    "pokemon.apply(count_of_a)"
   ]
  },
  {
   "cell_type": "code",
   "execution_count": 7,
   "id": "da36fc8f-4974-4bb5-92bd-23dba622e5e6",
   "metadata": {},
   "outputs": [
    {
     "data": {
      "text/plain": [
       "0     9\n",
       "1     7\n",
       "2     8\n",
       "3    10\n",
       "4    10\n",
       "Name: Name, dtype: int64"
      ]
     },
     "execution_count": 7,
     "metadata": {},
     "output_type": "execute_result"
    }
   ],
   "source": [
    "pokemon.apply(len).head()"
   ]
  },
  {
   "cell_type": "code",
   "execution_count": 8,
   "id": "421a1687-68cf-4ad0-af70-95eef11b764a",
   "metadata": {},
   "outputs": [
    {
     "data": {
      "text/plain": [
       "Name\n",
       "Bulbasaur     Grass, Poison\n",
       "Ivysaur       Grass, Poison\n",
       "Venusaur      Grass, Poison\n",
       "Charmander             Fire\n",
       "Charmeleon             Fire\n",
       "Name: Type, dtype: object"
      ]
     },
     "execution_count": 8,
     "metadata": {},
     "output_type": "execute_result"
    }
   ],
   "source": [
    "pokemon = pd.read_csv(\"pokemon.csv\", index_col=\"Name\").squeeze(\"columns\")\n",
    "pokemon.head()"
   ]
  },
  {
   "cell_type": "code",
   "execution_count": 14,
   "id": "7108b546-0232-4f06-aba9-85f901b72d09",
   "metadata": {},
   "outputs": [
    {
     "data": {
      "text/plain": [
       "Name\n",
       "Bulbasaur      20.0\n",
       "Ivysaur        20.0\n",
       "Venusaur       20.0\n",
       "Charmander    200.0\n",
       "Charmeleon    200.0\n",
       "Name: Type, dtype: float64"
      ]
     },
     "execution_count": 14,
     "metadata": {},
     "output_type": "execute_result"
    }
   ],
   "source": [
    "attack_powers = {\n",
    "    \"Grass\": 12,\n",
    "    \"Grass, Poison\": 20,\n",
    "    \"Fire\": 200\n",
    "}\n",
    "\n",
    "pokemon.map(attack_powers).head()"
   ]
  },
  {
   "cell_type": "code",
   "execution_count": 15,
   "id": "2b510359-7f25-4ad8-a6e7-57c7877548e7",
   "metadata": {},
   "outputs": [
    {
     "data": {
      "text/plain": [
       "Name\n",
       "Bulbasaur      20.0\n",
       "Ivysaur        20.0\n",
       "Venusaur       20.0\n",
       "Charmander    200.0\n",
       "Charmeleon    200.0\n",
       "Name: Type, dtype: float64"
      ]
     },
     "execution_count": 15,
     "metadata": {},
     "output_type": "execute_result"
    }
   ],
   "source": [
    "attack_powers_series = pd.Series({\n",
    "    \"Grass\": 12,\n",
    "    \"Grass, Poison\": 20,\n",
    "    \"Fire\": 200\n",
    "})\n",
    "\n",
    "pokemon.map(attack_powers_series).head()"
   ]
  },
  {
   "cell_type": "code",
   "execution_count": null,
   "id": "62b54511-6a8c-469b-b3bc-b6008cf1b28a",
   "metadata": {},
   "outputs": [],
   "source": []
  }
 ],
 "metadata": {
  "kernelspec": {
   "display_name": "Python 3 (ipykernel)",
   "language": "python",
   "name": "python3"
  },
  "language_info": {
   "codemirror_mode": {
    "name": "ipython",
    "version": 3
   },
   "file_extension": ".py",
   "mimetype": "text/x-python",
   "name": "python",
   "nbconvert_exporter": "python",
   "pygments_lexer": "ipython3",
   "version": "3.13.4"
  }
 },
 "nbformat": 4,
 "nbformat_minor": 5
}
