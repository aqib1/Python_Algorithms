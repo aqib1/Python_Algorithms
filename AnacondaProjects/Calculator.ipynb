{
 "cells": [
  {
   "cell_type": "code",
   "execution_count": 18,
   "id": "70145884-b472-42cd-9bc3-f0051d28ffe9",
   "metadata": {},
   "outputs": [
    {
     "name": "stdout",
     "output_type": "stream",
     "text": [
      "Welcome to your calculator\n",
      " your options are:\n",
      "\n",
      "1. Addition\n",
      "2. Subtraction\n",
      "3. Multiplication\n",
      "4. Division\n",
      "5.Quit calculator\n",
      "\n"
     ]
    },
    {
     "name": "stdin",
     "output_type": "stream",
     "text": [
      "Choose your option: 1\n",
      "Add this a\n"
     ]
    },
    {
     "name": "stdout",
     "output_type": "stream",
     "text": [
      "Exception: \"invalid literal for int() with base 10: 'a'\"\n"
     ]
    }
   ],
   "source": [
    "class Calculator:\n",
    "    def calculate(self):\n",
    "        try:\n",
    "            print(\"Welcome to your calculator\\n your options are:\\n\")\n",
    "            while True:\n",
    "                print(\"1. Addition\\n2. Subtraction\\n3. Multiplication\\n4. Division\\n5.Quit calculator\\n\")   \n",
    "                option = input(\"Choose your option:\")\n",
    "                if option == \"5\":\n",
    "                    break\n",
    "                elif option == \"1\":\n",
    "                    self.addition()\n",
    "                elif option == \"2\":\n",
    "                    self.subtraction()\n",
    "                elif option == \"3\":\n",
    "                    self.multiplication()\n",
    "                elif option == \"4\":\n",
    "                    self.divide()\n",
    "                else:\n",
    "                    print(\"Invalid option, please choose from provided ones\\n\")\n",
    "        except Exception as e:\n",
    "            print(f\"Exception: \\\"{e}\\\"\")\n",
    "    \n",
    "    def divide(self):\n",
    "        num1 = int(input(\"Divide this\"))\n",
    "        num2 = int(input(\"to this\"))\n",
    "        print(f\"{num1} / {num2} = {num1/num2}\\n\\n\") \n",
    "\n",
    "    def multiplication(self):\n",
    "        num1 = int(input(\"Multiply this\"))\n",
    "        num2 = int(input(\"to this\"))\n",
    "        print(f\"{num1} x {num2} = {num1*num2}\\n\\n\") \n",
    "\n",
    "    def substraction(self):\n",
    "        num1 = int(input(\"Subtract this\"))\n",
    "        num2 = int(input(\"to this\"))\n",
    "        print(f\"{num1} - {num2} = {num1-num2}\\n\\n\")\n",
    "    \n",
    "    def addition(self):\n",
    "        num1 = int(input(\"Add this\"))\n",
    "        num2 = int(input(\"to this\"))\n",
    "        print(f\"{num1} + {num2} = {num1+num2}\\n\\n\")\n",
    "\n",
    "calculator = Calculator()\n",
    "calculator.calculate()"
   ]
  },
  {
   "cell_type": "code",
   "execution_count": null,
   "id": "04d5916d-4e59-4a27-a3c5-6451669d8c56",
   "metadata": {},
   "outputs": [],
   "source": []
  }
 ],
 "metadata": {
  "kernelspec": {
   "display_name": "Python [conda env:base] *",
   "language": "python",
   "name": "conda-base-py"
  },
  "language_info": {
   "codemirror_mode": {
    "name": "ipython",
    "version": 3
   },
   "file_extension": ".py",
   "mimetype": "text/x-python",
   "name": "python",
   "nbconvert_exporter": "python",
   "pygments_lexer": "ipython3",
   "version": "3.12.7"
  }
 },
 "nbformat": 4,
 "nbformat_minor": 5
}
