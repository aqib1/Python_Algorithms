{
 "cells": [
  {
   "cell_type": "code",
   "execution_count": 43,
   "id": "07cdd46f-e638-4963-8711-39486b2f135d",
   "metadata": {},
   "outputs": [
    {
     "name": "stdin",
     "output_type": "stream",
     "text": [
      "Please enter expression or `e` for exit:  1+(3-2)*9/2\n"
     ]
    },
    {
     "name": "stdout",
     "output_type": "stream",
     "text": [
      "5.5\n"
     ]
    },
    {
     "name": "stdin",
     "output_type": "stream",
     "text": [
      "Please enter expression or `e` for exit:  2+2\n"
     ]
    },
    {
     "name": "stdout",
     "output_type": "stream",
     "text": [
      "4\n"
     ]
    },
    {
     "name": "stdin",
     "output_type": "stream",
     "text": [
      "Please enter expression or `e` for exit:  (1+(4+5+2)-3)+(6+8)\n"
     ]
    },
    {
     "name": "stdout",
     "output_type": "stream",
     "text": [
      "23\n"
     ]
    },
    {
     "name": "stdin",
     "output_type": "stream",
     "text": [
      "Please enter expression or `e` for exit:  24/12+1\n"
     ]
    },
    {
     "name": "stdout",
     "output_type": "stream",
     "text": [
      "3.0\n"
     ]
    },
    {
     "name": "stdin",
     "output_type": "stream",
     "text": [
      "Please enter expression or `e` for exit:  e\n"
     ]
    },
    {
     "name": "stdout",
     "output_type": "stream",
     "text": [
      "Exiting!!\n"
     ]
    }
   ],
   "source": [
    "from collections import deque\n",
    "from abc import ABC, abstractmethod\n",
    "\n",
    "class InvalidExpressionException(Exception):\n",
    "    def __init__(self, message, error_code):\n",
    "        super().__init__(message)\n",
    "        self.error_code = error_code\n",
    "\n",
    "class Node(ABC):\n",
    "    @abstractmethod\n",
    "    def evaluate(self) -> int:\n",
    "        pass\n",
    "\n",
    "    @staticmethod\n",
    "    def from_string(data: str) -> 'Node':\n",
    "        match data:\n",
    "            case \"*\":\n",
    "                return MulNode()\n",
    "            case \"/\":\n",
    "                return DivNode()\n",
    "            case \"+\":\n",
    "                return AddNode()\n",
    "            case \"-\":\n",
    "                return SubNode()\n",
    "            case _:\n",
    "                return NumericNode(data)\n",
    "\n",
    "## Abstract operator node\n",
    "class OperatorNode(Node):\n",
    "    def __init__(self):\n",
    "        self.left: Node = None\n",
    "        self.right: Node = None\n",
    "\n",
    "class NumericNode(Node):\n",
    "    def __init__(self, num: str):\n",
    "        self.number = int(num)\n",
    "    \n",
    "    def evaluate(self) -> int:\n",
    "        return self.number\n",
    "\n",
    "class MulNode(OperatorNode):\n",
    "    def evaluate(self) -> int:\n",
    "        return self.left.evaluate() * self.right.evaluate()\n",
    "\n",
    "class DivNode(OperatorNode):\n",
    "    def evaluate(self) -> int:\n",
    "        return self.left.evaluate() / self.right.evaluate()\n",
    "\n",
    "class AddNode(OperatorNode):\n",
    "    def evaluate(self) -> int:\n",
    "        return self.left.evaluate() + self.right.evaluate()\n",
    "\n",
    "class SubNode(OperatorNode):\n",
    "    def evaluate(self) -> int:\n",
    "        return self.left.evaluate() - self.right.evaluate()\n",
    "\n",
    "\n",
    "class Calculator:\n",
    "    def __init__(self, parser: PostfixParser):\n",
    "        self.parser = parser\n",
    "        \n",
    "    def calculate(self, infix: str):\n",
    "        postfix = self.parser.parse(infix)\n",
    "        stack = deque()\n",
    "        digit = \"\"\n",
    "        for ch in postfix:\n",
    "            if ch.isdigit():\n",
    "                digit += ch\n",
    "            elif ch == ';':\n",
    "                stack.append(Node.from_string(digit))\n",
    "                digit = \"\"\n",
    "            else:\n",
    "                node = Node.from_string(str(ch))\n",
    "                if isinstance(node, OperatorNode):\n",
    "                    node.right = stack.pop()\n",
    "                    node.left = stack.pop()\n",
    "                    stack.append(node)\n",
    "        return stack.pop().evaluate()\n",
    "\n",
    "class PostfixParser:\n",
    "    def isValid(self, ch: chr) -> bool:\n",
    "        return ch == '(' or ch == ')' or ch == '^' or ch == '*' or ch =='/' or ch == '+' or ch == '-' or (ch >= '0' and ch <= '9')\n",
    "        \n",
    "    def precendence(self, operator: chr) -> int:\n",
    "        if operator == '^':\n",
    "            return 3\n",
    "        elif operator == '*' or operator == '/':\n",
    "            return 2\n",
    "        elif operator == '+' or operator == '-':\n",
    "            return 1\n",
    "        else:\n",
    "            return -1\n",
    "    \n",
    "    def parse(self, infix: str) -> str:\n",
    "        buffer = \"\"\n",
    "        stack = deque()\n",
    "        digit = \"\"\n",
    "        for ch in infix:\n",
    "            if not self.isValid(ch):\n",
    "                raise InvalidExpressionException(f\"Sorry, invalid char {ch}\", 400)\n",
    "            elif ch.isdigit():\n",
    "                 digit += ch\n",
    "            else:\n",
    "                if digit:\n",
    "                    buffer += (digit + \";\")\n",
    "                digit = \"\"\n",
    "\n",
    "                if ch == '(':\n",
    "                    stack.append(ch)\n",
    "                elif ch == ')':\n",
    "                    while stack and stack[-1] != '(':\n",
    "                        buffer += stack.pop()\n",
    "                    stack.pop() ## remove '(' from expression\n",
    "                else:\n",
    "                    while stack and self.precendence(ch) <= self.precendence(stack[-1]):\n",
    "                        buffer += stack.pop()\n",
    "                    stack.append(ch)\n",
    "        if digit:\n",
    "            buffer += (digit + \";\")\n",
    "        while stack:\n",
    "            buffer += stack.pop()\n",
    "            \n",
    "        return buffer      \n",
    "\n",
    "\n",
    "if __name__ == '__main__':\n",
    "    while True:\n",
    "        expression=input(\"Please enter expression or `e` for exit: \")\n",
    "        match expression:\n",
    "            case \"e\":\n",
    "                print(\"Exiting!!\")\n",
    "                break;\n",
    "            case _:\n",
    "                try:\n",
    "                    parser = PostfixParser()\n",
    "                    calculator = Calculator(parser)\n",
    "                    print(calculator.calculate(expression))\n",
    "                except Exception as e:\n",
    "                    print(f\"Exception : \\\"{e}\\\"\")\n",
    "                    raise e"
   ]
  },
  {
   "cell_type": "code",
   "execution_count": null,
   "id": "b2b3cae9-1d34-42a7-a387-188b6098942b",
   "metadata": {},
   "outputs": [],
   "source": []
  }
 ],
 "metadata": {
  "kernelspec": {
   "display_name": "Python [conda env:base] *",
   "language": "python",
   "name": "conda-base-py"
  },
  "language_info": {
   "codemirror_mode": {
    "name": "ipython",
    "version": 3
   },
   "file_extension": ".py",
   "mimetype": "text/x-python",
   "name": "python",
   "nbconvert_exporter": "python",
   "pygments_lexer": "ipython3",
   "version": "3.12.7"
  }
 },
 "nbformat": 4,
 "nbformat_minor": 5
}
