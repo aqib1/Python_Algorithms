{
 "cells": [
  {
   "cell_type": "code",
   "execution_count": 1,
   "id": "f3f902ab-cdc1-4336-9074-48e16de45496",
   "metadata": {},
   "outputs": [],
   "source": [
    "import pandas as pd"
   ]
  },
  {
   "cell_type": "code",
   "execution_count": 2,
   "id": "526fe2ff-6b74-41fa-a45d-818845e61da5",
   "metadata": {},
   "outputs": [],
   "source": [
    "pokemon = pd.read_csv(\"pokemon.csv\", index_col=\"Name\").squeeze(\"columns\")"
   ]
  },
  {
   "cell_type": "code",
   "execution_count": 3,
   "id": "3864c296-8aab-4a5b-8866-d746b03360e6",
   "metadata": {},
   "outputs": [
    {
     "data": {
      "text/plain": [
       "Name\n",
       "Bulbasaur     Grass, Poison\n",
       "Ivysaur       Grass, Poison\n",
       "Venusaur      Grass, Poison\n",
       "Charmander             Fire\n",
       "Charmeleon             Fire\n",
       "Name: Type, dtype: object"
      ]
     },
     "execution_count": 3,
     "metadata": {},
     "output_type": "execute_result"
    }
   ],
   "source": [
    "pokemon.head()"
   ]
  },
  {
   "cell_type": "code",
   "execution_count": 4,
   "id": "11501871-e303-4394-ac1b-5f5f8b643b3b",
   "metadata": {},
   "outputs": [
    {
     "data": {
      "text/plain": [
       "'Grass, Poison'"
      ]
     },
     "execution_count": 4,
     "metadata": {},
     "output_type": "execute_result"
    }
   ],
   "source": [
    "pokemon.get('Bulbasaur')"
   ]
  },
  {
   "cell_type": "code",
   "execution_count": 5,
   "id": "e0eb36c7-4157-476a-b330-94027ae676a3",
   "metadata": {},
   "outputs": [
    {
     "data": {
      "text/plain": [
       "'Value not found'"
      ]
     },
     "execution_count": 5,
     "metadata": {},
     "output_type": "execute_result"
    }
   ],
   "source": [
    "pokemon.get('test', \"Value not found\")"
   ]
  },
  {
   "cell_type": "code",
   "execution_count": 6,
   "id": "f12c344e-b628-4fa2-accc-b56f794ee782",
   "metadata": {},
   "outputs": [
    {
     "data": {
      "text/plain": [
       "Name\n",
       "Bulbasaur    Grass, Poison\n",
       "Venusaur     Grass, Poison\n",
       "Name: Type, dtype: object"
      ]
     },
     "execution_count": 6,
     "metadata": {},
     "output_type": "execute_result"
    }
   ],
   "source": [
    "pokemon.get(['Bulbasaur', 'Venusaur'])"
   ]
  },
  {
   "cell_type": "code",
   "execution_count": 7,
   "id": "ee80333e-9d45-4830-9940-858e8d538bf8",
   "metadata": {},
   "outputs": [
    {
     "data": {
      "text/plain": [
       "'One of the value from list is not found'"
      ]
     },
     "execution_count": 7,
     "metadata": {},
     "output_type": "execute_result"
    }
   ],
   "source": [
    "pokemon.get(['Bulbasaur', 'kk'], 'One of the value from list is not found')"
   ]
  },
  {
   "cell_type": "code",
   "execution_count": 9,
   "id": "75bf448a-3dfb-4d55-8351-a5911dfebf1b",
   "metadata": {},
   "outputs": [
    {
     "name": "stderr",
     "output_type": "stream",
     "text": [
      "/var/folders/vk/p6qvytc90z38qct0h2zh9y8c0000gn/T/ipykernel_50825/1080527728.py:1: FutureWarning: Series.__getitem__ treating keys as positions is deprecated. In a future version, integer keys will always be treated as labels (consistent with DataFrame behavior). To access a value by position, use `ser.iloc[pos]`\n",
      "  pokemon.get(0) ## deprecated and soon to be removed\n"
     ]
    },
    {
     "data": {
      "text/plain": [
       "'Grass, Poison'"
      ]
     },
     "execution_count": 9,
     "metadata": {},
     "output_type": "execute_result"
    }
   ],
   "source": [
    "pokemon.get(0) ## deprecated and soon to be removed"
   ]
  },
  {
   "cell_type": "code",
   "execution_count": null,
   "id": "e4348fcd-06e4-4cb4-b44d-8cd189518bb4",
   "metadata": {},
   "outputs": [],
   "source": []
  }
 ],
 "metadata": {
  "kernelspec": {
   "display_name": "Python 3 (ipykernel)",
   "language": "python",
   "name": "python3"
  },
  "language_info": {
   "codemirror_mode": {
    "name": "ipython",
    "version": 3
   },
   "file_extension": ".py",
   "mimetype": "text/x-python",
   "name": "python",
   "nbconvert_exporter": "python",
   "pygments_lexer": "ipython3",
   "version": "3.13.4"
  }
 },
 "nbformat": 4,
 "nbformat_minor": 5
}
