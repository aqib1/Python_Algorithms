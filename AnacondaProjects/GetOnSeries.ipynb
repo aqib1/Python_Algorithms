{
 "cells": [
  {
   "cell_type": "code",
   "execution_count": 1,
   "id": "f3f902ab-cdc1-4336-9074-48e16de45496",
   "metadata": {},
   "outputs": [],
   "source": [
    "import pandas as pd"
   ]
  },
  {
   "cell_type": "code",
   "execution_count": 2,
   "id": "526fe2ff-6b74-41fa-a45d-818845e61da5",
   "metadata": {},
   "outputs": [],
   "source": [
    "pokemon = pd.read_csv(\"pokemon.csv\", index_col=\"Name\").squeeze(\"columns\")"
   ]
  },
  {
   "cell_type": "code",
   "execution_count": 3,
   "id": "3864c296-8aab-4a5b-8866-d746b03360e6",
   "metadata": {},
   "outputs": [
    {
     "data": {
      "text/plain": [
       "Name\n",
       "Bulbasaur     Grass, Poison\n",
       "Ivysaur       Grass, Poison\n",
       "Venusaur      Grass, Poison\n",
       "Charmander             Fire\n",
       "Charmeleon             Fire\n",
       "Name: Type, dtype: object"
      ]
     },
     "execution_count": 3,
     "metadata": {},
     "output_type": "execute_result"
    }
   ],
   "source": [
    "pokemon.head()"
   ]
  },
  {
   "cell_type": "code",
   "execution_count": 4,
   "id": "11501871-e303-4394-ac1b-5f5f8b643b3b",
   "metadata": {},
   "outputs": [
    {
     "data": {
      "text/plain": [
       "'Grass, Poison'"
      ]
     },
     "execution_count": 4,
     "metadata": {},
     "output_type": "execute_result"
    }
   ],
   "source": [
    "pokemon.get('Bulbasaur')"
   ]
  },
  {
   "cell_type": "code",
   "execution_count": 5,
   "id": "e0eb36c7-4157-476a-b330-94027ae676a3",
   "metadata": {},
   "outputs": [
    {
     "data": {
      "text/plain": [
       "'Value not found'"
      ]
     },
     "execution_count": 5,
     "metadata": {},
     "output_type": "execute_result"
    }
   ],
   "source": [
    "pokemon.get('test', \"Value not found\")"
   ]
  },
  {
   "cell_type": "code",
   "execution_count": 6,
   "id": "f12c344e-b628-4fa2-accc-b56f794ee782",
   "metadata": {},
   "outputs": [
    {
     "data": {
      "text/plain": [
       "Name\n",
       "Bulbasaur    Grass, Poison\n",
       "Venusaur     Grass, Poison\n",
       "Name: Type, dtype: object"
      ]
     },
     "execution_count": 6,
     "metadata": {},
     "output_type": "execute_result"
    }
   ],
   "source": [
    "pokemon.get(['Bulbasaur', 'Venusaur'])"
   ]
  },
  {
   "cell_type": "code",
   "execution_count": 7,
   "id": "ee80333e-9d45-4830-9940-858e8d538bf8",
   "metadata": {},
   "outputs": [
    {
     "data": {
      "text/plain": [
       "'One of the value from list is not found'"
      ]
     },
     "execution_count": 7,
     "metadata": {},
     "output_type": "execute_result"
    }
   ],
   "source": [
    "pokemon.get(['Bulbasaur', 'kk'], 'One of the value from list is not found')"
   ]
  },
  {
   "cell_type": "code",
   "execution_count": 9,
   "id": "75bf448a-3dfb-4d55-8351-a5911dfebf1b",
   "metadata": {},
   "outputs": [
    {
     "name": "stderr",
     "output_type": "stream",
     "text": [
      "/var/folders/vk/p6qvytc90z38qct0h2zh9y8c0000gn/T/ipykernel_50825/1080527728.py:1: FutureWarning: Series.__getitem__ treating keys as positions is deprecated. In a future version, integer keys will always be treated as labels (consistent with DataFrame behavior). To access a value by position, use `ser.iloc[pos]`\n",
      "  pokemon.get(0) ## deprecated and soon to be removed\n"
     ]
    },
    {
     "data": {
      "text/plain": [
       "'Grass, Poison'"
      ]
     },
     "execution_count": 9,
     "metadata": {},
     "output_type": "execute_result"
    }
   ],
   "source": [
    "pokemon.get(0) ## deprecated and soon to be removed"
   ]
  },
  {
   "cell_type": "code",
   "execution_count": 12,
   "id": "e4348fcd-06e4-4cb4-b44d-8cd189518bb4",
   "metadata": {},
   "outputs": [],
   "source": [
    "pokemon.iloc[0] = 'Bulbasaur'"
   ]
  },
  {
   "cell_type": "code",
   "execution_count": 13,
   "id": "5156633d-0bf2-4d60-900f-8d7ef6a8d094",
   "metadata": {},
   "outputs": [
    {
     "data": {
      "text/plain": [
       "Name\n",
       "Bulbasaur         Bulbasaur\n",
       "Ivysaur       Grass, Poison\n",
       "Venusaur      Grass, Poison\n",
       "Charmander             Fire\n",
       "Charmeleon             Fire\n",
       "Name: Type, dtype: object"
      ]
     },
     "execution_count": 13,
     "metadata": {},
     "output_type": "execute_result"
    }
   ],
   "source": [
    "pokemon.head()"
   ]
  },
  {
   "cell_type": "code",
   "execution_count": 16,
   "id": "8e98f33f-72c0-42f7-9e1b-ac5e4abe0c5b",
   "metadata": {},
   "outputs": [],
   "source": [
    "pokemon = pd.read_csv(\"pokemon.csv\", usecols=[\"Name\"]).squeeze(\"columns\")"
   ]
  },
  {
   "cell_type": "code",
   "execution_count": 17,
   "id": "e5ca4fda-ad7c-4a21-b169-f8c4ee518bbc",
   "metadata": {},
   "outputs": [
    {
     "data": {
      "text/plain": [
       "0     Bulbasaur\n",
       "1       Ivysaur\n",
       "2      Venusaur\n",
       "3    Charmander\n",
       "4    Charmeleon\n",
       "Name: Name, dtype: object"
      ]
     },
     "execution_count": 17,
     "metadata": {},
     "output_type": "execute_result"
    }
   ],
   "source": [
    "pokemon.head()"
   ]
  },
  {
   "cell_type": "code",
   "execution_count": 19,
   "id": "94b687b8-566d-46e0-819c-9b2b0627d86d",
   "metadata": {},
   "outputs": [],
   "source": [
    "pokemon.iloc[0] = 'Borisaur'"
   ]
  },
  {
   "cell_type": "code",
   "execution_count": 20,
   "id": "0702bac3-7c77-434e-a9d2-b8ae9f8496c9",
   "metadata": {},
   "outputs": [
    {
     "data": {
      "text/plain": [
       "0      Borisaur\n",
       "1       Ivysaur\n",
       "2      Venusaur\n",
       "3    Charmander\n",
       "4    Charmeleon\n",
       "Name: Name, dtype: object"
      ]
     },
     "execution_count": 20,
     "metadata": {},
     "output_type": "execute_result"
    }
   ],
   "source": [
    "pokemon.head()"
   ]
  },
  {
   "cell_type": "code",
   "execution_count": 21,
   "id": "8c18dd89-817d-421a-806f-c9f089b639a6",
   "metadata": {},
   "outputs": [],
   "source": [
    "pokemon.iloc[[0, 1, 2]] = ['Test', 'Test1', 'Test2']"
   ]
  },
  {
   "cell_type": "code",
   "execution_count": 22,
   "id": "8ed606a3-a96c-4b61-8f7a-1cc0b50666bb",
   "metadata": {},
   "outputs": [
    {
     "data": {
      "text/plain": [
       "0          Test\n",
       "1         Test1\n",
       "2         Test2\n",
       "3    Charmander\n",
       "4    Charmeleon\n",
       "Name: Name, dtype: object"
      ]
     },
     "execution_count": 22,
     "metadata": {},
     "output_type": "execute_result"
    }
   ],
   "source": [
    "pokemon.head()"
   ]
  },
  {
   "cell_type": "code",
   "execution_count": 25,
   "id": "07e73c81-0f8d-4523-8d8c-4f96a43a4f00",
   "metadata": {},
   "outputs": [],
   "source": [
    "pokemon = pd.read_csv(\"pokemon.csv\", index_col=\"Name\").squeeze(\"columns\")"
   ]
  },
  {
   "cell_type": "code",
   "execution_count": 26,
   "id": "9fb33210-3f9b-4571-b96b-d194e96a268f",
   "metadata": {},
   "outputs": [
    {
     "data": {
      "text/plain": [
       "Name\n",
       "Bulbasaur     Grass, Poison\n",
       "Ivysaur       Grass, Poison\n",
       "Venusaur      Grass, Poison\n",
       "Charmander             Fire\n",
       "Charmeleon             Fire\n",
       "Name: Type, dtype: object"
      ]
     },
     "execution_count": 26,
     "metadata": {},
     "output_type": "execute_result"
    }
   ],
   "source": [
    "pokemon.head()"
   ]
  },
  {
   "cell_type": "code",
   "execution_count": 27,
   "id": "c1fa1c94-6abe-4224-bba6-255e648c9336",
   "metadata": {},
   "outputs": [],
   "source": [
    "pokemon[\"Bulbasaur\"] = \"Something silly\""
   ]
  },
  {
   "cell_type": "code",
   "execution_count": 28,
   "id": "e5c97e28-3f18-4be7-a6d1-2d87f9555caf",
   "metadata": {},
   "outputs": [
    {
     "data": {
      "text/plain": [
       "Name\n",
       "Bulbasaur     Something silly\n",
       "Ivysaur         Grass, Poison\n",
       "Venusaur        Grass, Poison\n",
       "Charmander               Fire\n",
       "Charmeleon               Fire\n",
       "Name: Type, dtype: object"
      ]
     },
     "execution_count": 28,
     "metadata": {},
     "output_type": "execute_result"
    }
   ],
   "source": [
    "pokemon.head()"
   ]
  },
  {
   "cell_type": "code",
   "execution_count": null,
   "id": "27223e80-60e4-4ce8-a405-fc7d32307bcc",
   "metadata": {},
   "outputs": [],
   "source": []
  }
 ],
 "metadata": {
  "kernelspec": {
   "display_name": "Python 3 (ipykernel)",
   "language": "python",
   "name": "python3"
  },
  "language_info": {
   "codemirror_mode": {
    "name": "ipython",
    "version": 3
   },
   "file_extension": ".py",
   "mimetype": "text/x-python",
   "name": "python",
   "nbconvert_exporter": "python",
   "pygments_lexer": "ipython3",
   "version": "3.13.4"
  }
 },
 "nbformat": 4,
 "nbformat_minor": 5
}
