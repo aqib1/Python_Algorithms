{
 "cells": [
  {
   "cell_type": "code",
   "execution_count": 1,
   "id": "fca9cbd7-c4b4-4cb0-bce6-7b09d53f9243",
   "metadata": {},
   "outputs": [],
   "source": [
    "import pandas as pd"
   ]
  },
  {
   "cell_type": "code",
   "execution_count": 2,
   "id": "55ce5dd7-b462-4318-8ccb-fa1b35a4af62",
   "metadata": {},
   "outputs": [],
   "source": [
    "pokemon = pd.read_csv(\"pokemon.csv\", index_col=\"Name\").squeeze(\"columns\")"
   ]
  },
  {
   "cell_type": "code",
   "execution_count": 3,
   "id": "f0b6e441-8e96-4e25-a541-748968106641",
   "metadata": {},
   "outputs": [
    {
     "data": {
      "text/plain": [
       "Type\n",
       "Water               74\n",
       "Normal              74\n",
       "Grass               46\n",
       "Psychic             39\n",
       "Fire                36\n",
       "                    ..\n",
       "Fighting, Ice        1\n",
       "Fire, Dragon         1\n",
       "Normal, Dragon       1\n",
       "Psychic, Steel       1\n",
       "Fighting, Dragon     1\n",
       "Name: count, Length: 200, dtype: int64"
      ]
     },
     "execution_count": 3,
     "metadata": {},
     "output_type": "execute_result"
    }
   ],
   "source": [
    "pokemon.value_counts()"
   ]
  },
  {
   "cell_type": "code",
   "execution_count": 4,
   "id": "404acf94-6373-47fc-8f65-94e7aa4cf6ac",
   "metadata": {},
   "outputs": [
    {
     "data": {
      "text/plain": [
       "Type\n",
       "Ice, Ghost           1\n",
       "Fire, Water          1\n",
       "Fighting, Flying     1\n",
       "Normal, Ground       1\n",
       "Dragon, Electric     1\n",
       "                    ..\n",
       "Fire                36\n",
       "Psychic             39\n",
       "Grass               46\n",
       "Normal              74\n",
       "Water               74\n",
       "Name: count, Length: 200, dtype: int64"
      ]
     },
     "execution_count": 4,
     "metadata": {},
     "output_type": "execute_result"
    }
   ],
   "source": [
    "pokemon.value_counts(ascending=True)"
   ]
  },
  {
   "cell_type": "code",
   "execution_count": 5,
   "id": "723d7bb4-8a8b-41d7-b279-a6021db1006d",
   "metadata": {},
   "outputs": [
    {
     "data": {
      "text/plain": [
       "Type\n",
       "Water               0.073267\n",
       "Normal              0.073267\n",
       "Grass               0.045545\n",
       "Psychic             0.038614\n",
       "Fire                0.035644\n",
       "                      ...   \n",
       "Fighting, Ice       0.000990\n",
       "Fire, Dragon        0.000990\n",
       "Normal, Dragon      0.000990\n",
       "Psychic, Steel      0.000990\n",
       "Fighting, Dragon    0.000990\n",
       "Name: proportion, Length: 200, dtype: float64"
      ]
     },
     "execution_count": 5,
     "metadata": {},
     "output_type": "execute_result"
    }
   ],
   "source": [
    "pokemon.value_counts(normalize=True) ## give relative percentage"
   ]
  },
  {
   "cell_type": "code",
   "execution_count": 6,
   "id": "6540e57f-36e3-4117-862d-4a2c3dd08546",
   "metadata": {},
   "outputs": [
    {
     "data": {
      "text/plain": [
       "Type\n",
       "Water               7.326733\n",
       "Normal              7.326733\n",
       "Grass               4.554455\n",
       "Psychic             3.861386\n",
       "Fire                3.564356\n",
       "                      ...   \n",
       "Fighting, Ice       0.099010\n",
       "Fire, Dragon        0.099010\n",
       "Normal, Dragon      0.099010\n",
       "Psychic, Steel      0.099010\n",
       "Fighting, Dragon    0.099010\n",
       "Name: proportion, Length: 200, dtype: float64"
      ]
     },
     "execution_count": 6,
     "metadata": {},
     "output_type": "execute_result"
    }
   ],
   "source": [
    "pokemon.value_counts(normalize=True) * 100"
   ]
  },
  {
   "cell_type": "code",
   "execution_count": null,
   "id": "27c99406-872b-4cca-a181-b97e41220b18",
   "metadata": {},
   "outputs": [],
   "source": [
    "# If you see a test failure when checking your solution,\n",
    "# note that [left] refers to YOUR code while [right]\n",
    "# refers to the correct code that the computer is comparing\n",
    "# to your work\n",
    "\n",
    "import pandas as pd\n",
    "\n",
    "# We have a hot_dogs.csv CSV file with 2 columns: Year and Winner.\n",
    "# The dataset stores the winner of the world-famous Nathan's Hot Dog Eating\n",
    "# contest for each year since 1967. You can explore the data by clicking into \n",
    "# the CSV file on the left.\n",
    "#\n",
    "# Import the CSV file into a pandas Series object\n",
    "# The Series should have the standard pandas numeric index\n",
    "# The Series values should be the string values from the \"Winner\" column\n",
    "# Assign the Series object to a \"hot_dogs\" variable\n",
    "\n",
    "\n",
    "\n",
    "# I'm curious how many times each winner has won the hot dog-eating contest.\n",
    "# Create a new Series that shows each person's name (index labels) \n",
    "# and the number of times they've won (the values). What method can\n",
    "# help you generate this Series?\n",
    "# Asssign the Series to a \"names_and_wins\" variable."
   ]
  }
 ],
 "metadata": {
  "kernelspec": {
   "display_name": "Python 3 (ipykernel)",
   "language": "python",
   "name": "python3"
  },
  "language_info": {
   "codemirror_mode": {
    "name": "ipython",
    "version": 3
   },
   "file_extension": ".py",
   "mimetype": "text/x-python",
   "name": "python",
   "nbconvert_exporter": "python",
   "pygments_lexer": "ipython3",
   "version": "3.13.4"
  }
 },
 "nbformat": 4,
 "nbformat_minor": 5
}
