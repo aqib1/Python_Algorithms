{
 "cells": [
  {
   "cell_type": "code",
   "execution_count": 7,
   "id": "cd79c603-a90e-41af-bba0-df8e87377bb8",
   "metadata": {},
   "outputs": [
    {
     "name": "stdout",
     "output_type": "stream",
     "text": [
      "[0, 1, 2, 3, 5, 7]\n"
     ]
    }
   ],
   "source": [
    "from collections import deque\n",
    "class BFSUsingAdjacencyListForConnectedGraph:\n",
    "    def bfs(self, adjacencyList, root):\n",
    "        bfs = []\n",
    "        visited, queue = set([root]), deque([root])\n",
    "        while queue:\n",
    "            vertex = queue.popleft()\n",
    "            bfs.append(vertex)\n",
    "            if vertex in adjacencyList:\n",
    "                for neighbour in adjacencyList[vertex]:\n",
    "                    if neighbour not in visited:\n",
    "                        queue.append(neighbour)\n",
    "                        visited.add(neighbour)\n",
    "        return bfs\n",
    "if __name__ == \"__main__\":\n",
    "    graph = {0: [1, 2], 1: [2], 2: [3], 3: [1, 2, 5], 5: [7]}\n",
    "    bfs = BFSUsingAdjacencyListForConnectedGraph()\n",
    "    print(bfs.bfs(graph, 0))"
   ]
  },
  {
   "cell_type": "code",
   "execution_count": null,
   "id": "a8c98f05-7b83-49d2-bc6c-fa3ee115c58c",
   "metadata": {},
   "outputs": [],
   "source": []
  }
 ],
 "metadata": {
  "kernelspec": {
   "display_name": "Python 3 (ipykernel)",
   "language": "python",
   "name": "python3"
  },
  "language_info": {
   "codemirror_mode": {
    "name": "ipython",
    "version": 3
   },
   "file_extension": ".py",
   "mimetype": "text/x-python",
   "name": "python",
   "nbconvert_exporter": "python",
   "pygments_lexer": "ipython3",
   "version": "3.13.4"
  }
 },
 "nbformat": 4,
 "nbformat_minor": 5
}
