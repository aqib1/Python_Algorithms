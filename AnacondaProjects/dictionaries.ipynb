{
 "cells": [
  {
   "cell_type": "code",
   "execution_count": 1,
   "id": "b1bb7bd2-5e5c-422d-ac23-6c74911cb01e",
   "metadata": {},
   "outputs": [],
   "source": [
    "dictionary = {'a':4, 'b':5}"
   ]
  },
  {
   "cell_type": "code",
   "execution_count": 2,
   "id": "f2d922a0-1c42-4288-887a-d117381fb87a",
   "metadata": {},
   "outputs": [
    {
     "name": "stdout",
     "output_type": "stream",
     "text": [
      "4\n"
     ]
    }
   ],
   "source": [
    "print(dictionary['a'])"
   ]
  },
  {
   "cell_type": "code",
   "execution_count": 3,
   "id": "a3b2eb3b-640f-4df7-8e2a-c831bf4184d9",
   "metadata": {},
   "outputs": [],
   "source": [
    "dictionary['a'] = 14"
   ]
  },
  {
   "cell_type": "code",
   "execution_count": 4,
   "id": "7d7c102a-95ff-450e-b2a5-19e88c5e7621",
   "metadata": {},
   "outputs": [
    {
     "name": "stdout",
     "output_type": "stream",
     "text": [
      "14\n"
     ]
    }
   ],
   "source": [
    "print(dictionary['a'])"
   ]
  },
  {
   "cell_type": "code",
   "execution_count": 5,
   "id": "3b8b5e98-bf9f-406d-9a05-f8af05bfc4a1",
   "metadata": {},
   "outputs": [],
   "source": [
    "dictionary = {'a':4, 'b':5, 'a':55}"
   ]
  },
  {
   "cell_type": "code",
   "execution_count": 6,
   "id": "3531d3a1-4b9c-43d4-bf7a-0f8fbc50543b",
   "metadata": {},
   "outputs": [
    {
     "data": {
      "text/plain": [
       "{'a': 55, 'b': 5}"
      ]
     },
     "execution_count": 6,
     "metadata": {},
     "output_type": "execute_result"
    }
   ],
   "source": [
    "dictionary"
   ]
  },
  {
   "cell_type": "code",
   "execution_count": 7,
   "id": "f90802a7-6c21-4f28-b2a1-6a6dbcaccbf7",
   "metadata": {},
   "outputs": [],
   "source": [
    "dictionary['c'] = 890"
   ]
  },
  {
   "cell_type": "code",
   "execution_count": 8,
   "id": "a42aa137-d575-4b89-8653-ceb2d8779ad5",
   "metadata": {},
   "outputs": [
    {
     "data": {
      "text/plain": [
       "{'a': 55, 'b': 5, 'c': 890}"
      ]
     },
     "execution_count": 8,
     "metadata": {},
     "output_type": "execute_result"
    }
   ],
   "source": [
    "dictionary"
   ]
  },
  {
   "cell_type": "code",
   "execution_count": 9,
   "id": "d616e806-a728-4853-b9fb-8bfe3375f767",
   "metadata": {},
   "outputs": [],
   "source": [
    "dictionary['e'] = [1, 2, 3, 4, 5, 6]"
   ]
  },
  {
   "cell_type": "code",
   "execution_count": 10,
   "id": "e8ee05d4-c4a4-484e-b685-f7c45e758088",
   "metadata": {},
   "outputs": [
    {
     "data": {
      "text/plain": [
       "{'a': 55, 'b': 5, 'c': 890, 'e': [1, 2, 3, 4, 5, 6]}"
      ]
     },
     "execution_count": 10,
     "metadata": {},
     "output_type": "execute_result"
    }
   ],
   "source": [
    "dictionary"
   ]
  },
  {
   "cell_type": "code",
   "execution_count": 11,
   "id": "0561ee3c-ea5c-47c5-b353-9d61372489cd",
   "metadata": {},
   "outputs": [
    {
     "data": {
      "text/plain": [
       "4"
      ]
     },
     "execution_count": 11,
     "metadata": {},
     "output_type": "execute_result"
    }
   ],
   "source": [
    "dictionary['e'][3]"
   ]
  },
  {
   "cell_type": "code",
   "execution_count": 12,
   "id": "7562cb6e-7252-4d49-bb2c-751391dc6fba",
   "metadata": {},
   "outputs": [],
   "source": [
    "dictionary['f'] = {1,4,5,5}"
   ]
  },
  {
   "cell_type": "code",
   "execution_count": 13,
   "id": "3a7f6946-79d8-4e50-bb41-1f15b5702169",
   "metadata": {},
   "outputs": [
    {
     "data": {
      "text/plain": [
       "{'a': 55, 'b': 5, 'c': 890, 'e': [1, 2, 3, 4, 5, 6], 'f': {1, 4, 5}}"
      ]
     },
     "execution_count": 13,
     "metadata": {},
     "output_type": "execute_result"
    }
   ],
   "source": [
    "dictionary"
   ]
  },
  {
   "cell_type": "code",
   "execution_count": 14,
   "id": "1445dfd7-1b86-49bc-888e-7716e8f5ab11",
   "metadata": {},
   "outputs": [],
   "source": [
    "dictionary['g'] = {'pass': 'dkj', 'key':'e267'}"
   ]
  },
  {
   "cell_type": "code",
   "execution_count": 15,
   "id": "b1c89bf9-ce6c-4e34-8dd4-fc466e518e43",
   "metadata": {},
   "outputs": [
    {
     "data": {
      "text/plain": [
       "{'a': 55,\n",
       " 'b': 5,\n",
       " 'c': 890,\n",
       " 'e': [1, 2, 3, 4, 5, 6],\n",
       " 'f': {1, 4, 5},\n",
       " 'g': {'pass': 'dkj', 'key': 'e267'}}"
      ]
     },
     "execution_count": 15,
     "metadata": {},
     "output_type": "execute_result"
    }
   ],
   "source": [
    "dictionary"
   ]
  },
  {
   "cell_type": "code",
   "execution_count": 16,
   "id": "83bfe059-4531-4328-9463-50b612e287bb",
   "metadata": {},
   "outputs": [
    {
     "data": {
      "text/plain": [
       "'E267'"
      ]
     },
     "execution_count": 16,
     "metadata": {},
     "output_type": "execute_result"
    }
   ],
   "source": [
    "dictionary['g']['key'].upper()"
   ]
  },
  {
   "cell_type": "code",
   "execution_count": 17,
   "id": "ed26078b-2f88-402a-bed3-52c9db033815",
   "metadata": {},
   "outputs": [
    {
     "data": {
      "text/plain": [
       "dict_keys(['a', 'b', 'c', 'e', 'f', 'g'])"
      ]
     },
     "execution_count": 17,
     "metadata": {},
     "output_type": "execute_result"
    }
   ],
   "source": [
    "dictionary.keys()"
   ]
  },
  {
   "cell_type": "code",
   "execution_count": 21,
   "id": "78f56608-acd6-45e6-a3ae-5aa2a4790876",
   "metadata": {},
   "outputs": [
    {
     "name": "stdout",
     "output_type": "stream",
     "text": [
      "key a = value 55\n",
      "key b = value 5\n",
      "key c = value 890\n",
      "key e = value [1, 2, 3, 4, 5, 6]\n",
      "key f = value {1, 4, 5}\n",
      "key g = value {'pass': 'dkj', 'key': 'e267'}\n"
     ]
    }
   ],
   "source": [
    "for key in dictionary.keys():\n",
    "    print(f\"key {key} = value {dictionary[key]}\")"
   ]
  },
  {
   "cell_type": "code",
   "execution_count": 19,
   "id": "072d93b1-c483-4c54-aa12-9fe87345bd7d",
   "metadata": {},
   "outputs": [
    {
     "data": {
      "text/plain": [
       "dict_values([55, 5, 890, [1, 2, 3, 4, 5, 6], {1, 4, 5}, {'pass': 'dkj', 'key': 'e267'}])"
      ]
     },
     "execution_count": 19,
     "metadata": {},
     "output_type": "execute_result"
    }
   ],
   "source": [
    "dictionary.values()"
   ]
  },
  {
   "cell_type": "code",
   "execution_count": 20,
   "id": "f675f5eb-0d87-43a6-b2a1-dc61394d40bd",
   "metadata": {},
   "outputs": [
    {
     "name": "stdout",
     "output_type": "stream",
     "text": [
      "55\n",
      "5\n",
      "890\n",
      "[1, 2, 3, 4, 5, 6]\n",
      "{1, 4, 5}\n",
      "{'pass': 'dkj', 'key': 'e267'}\n"
     ]
    }
   ],
   "source": [
    "for value in dictionary.values():\n",
    "    print(value)"
   ]
  },
  {
   "cell_type": "code",
   "execution_count": 22,
   "id": "6693fc62-1218-4b9a-a334-834e303335cd",
   "metadata": {},
   "outputs": [
    {
     "data": {
      "text/plain": [
       "dict_items([('a', 55), ('b', 5), ('c', 890), ('e', [1, 2, 3, 4, 5, 6]), ('f', {1, 4, 5}), ('g', {'pass': 'dkj', 'key': 'e267'})])"
      ]
     },
     "execution_count": 22,
     "metadata": {},
     "output_type": "execute_result"
    }
   ],
   "source": [
    "dictionary.items()"
   ]
  },
  {
   "cell_type": "code",
   "execution_count": 23,
   "id": "2d514f8b-2a43-4f77-96d2-d1ba942a5f1d",
   "metadata": {},
   "outputs": [
    {
     "name": "stdout",
     "output_type": "stream",
     "text": [
      "('a', 55)\n",
      "('b', 5)\n",
      "('c', 890)\n",
      "('e', [1, 2, 3, 4, 5, 6])\n",
      "('f', {1, 4, 5})\n",
      "('g', {'pass': 'dkj', 'key': 'e267'})\n"
     ]
    }
   ],
   "source": [
    "for item in dictionary.items():\n",
    "    print(item)"
   ]
  },
  {
   "cell_type": "code",
   "execution_count": null,
   "id": "638a6677-7840-4ee2-8235-4e2dd720a7e3",
   "metadata": {},
   "outputs": [],
   "source": [
    "empty = {}\n",
    "my_dict = {'key1' : 1, 'key2' : 2, 'key3' : 3}"
   ]
  }
 ],
 "metadata": {
  "kernelspec": {
   "display_name": "Python 3 (ipykernel)",
   "language": "python",
   "name": "python3"
  },
  "language_info": {
   "codemirror_mode": {
    "name": "ipython",
    "version": 3
   },
   "file_extension": ".py",
   "mimetype": "text/x-python",
   "name": "python",
   "nbconvert_exporter": "python",
   "pygments_lexer": "ipython3",
   "version": "3.13.4"
  }
 },
 "nbformat": 4,
 "nbformat_minor": 5
}
