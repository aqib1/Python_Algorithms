{
 "cells": [
  {
   "cell_type": "code",
   "execution_count": 5,
   "id": "51c3da89-adfd-4565-8ccf-846ab56d5976",
   "metadata": {},
   "outputs": [
    {
     "name": "stdout",
     "output_type": "stream",
     "text": [
      "abcd^e-fgh*+^*+i-\n"
     ]
    }
   ],
   "source": [
    "from collections import deque\n",
    "\n",
    "class Calculator:\n",
    "    def precedence(self, ch):\n",
    "        if ch == '^':\n",
    "            return 3\n",
    "        elif ch == '*' or ch == '/':\n",
    "            return 2\n",
    "        elif ch == '+' or ch == '-':\n",
    "            return 1\n",
    "        else:\n",
    "            return -1\n",
    "\n",
    "    def infix_to_postfix(self, query: str):\n",
    "        buffer = ''\n",
    "        stack = deque()\n",
    "\n",
    "        for ch in query:\n",
    "            if ch.isalnum():\n",
    "                buffer += ch\n",
    "            elif ch == '(':\n",
    "                stack.append(ch)\n",
    "            elif ch == ')':\n",
    "                while stack and stack[-1] != '(':\n",
    "                    buffer += stack.pop()\n",
    "                stack.pop()\n",
    "            else:\n",
    "                while stack and self.precedence(ch) <= self.precedence(stack[-1]):\n",
    "                    buffer += stack.pop()\n",
    "                stack.append(ch)\n",
    "        \n",
    "        while stack:\n",
    "            buffer += stack.pop()\n",
    "        return buffer\n",
    "\n",
    "if __name__ == '__main__':\n",
    "    cal = Calculator()\n",
    "    exp = 'a+b*(c^d-e)^(f+g*h)-i'\n",
    "    print(cal.infix_to_postfix(exp))"
   ]
  },
  {
   "cell_type": "code",
   "execution_count": null,
   "id": "4af23247-0236-492a-bf40-eb2f4d28802a",
   "metadata": {},
   "outputs": [],
   "source": []
  }
 ],
 "metadata": {
  "kernelspec": {
   "display_name": "Python [conda env:base] *",
   "language": "python",
   "name": "conda-base-py"
  },
  "language_info": {
   "codemirror_mode": {
    "name": "ipython",
    "version": 3
   },
   "file_extension": ".py",
   "mimetype": "text/x-python",
   "name": "python",
   "nbconvert_exporter": "python",
   "pygments_lexer": "ipython3",
   "version": "3.12.7"
  }
 },
 "nbformat": 4,
 "nbformat_minor": 5
}
