{
 "cells": [
  {
   "cell_type": "code",
   "execution_count": 1,
   "id": "1f18b827-a200-4b67-90f9-32baa174f5df",
   "metadata": {},
   "outputs": [],
   "source": [
    "name = \"Aqib\""
   ]
  },
  {
   "cell_type": "code",
   "execution_count": 3,
   "id": "4afa7564-a378-4234-94ac-6fb4d2b60ba6",
   "metadata": {},
   "outputs": [],
   "source": [
    "# name[0] = 'P' this will not work as strings are immutables"
   ]
  },
  {
   "cell_type": "code",
   "execution_count": 4,
   "id": "ffd3f16e-606e-490f-8629-b0b2fee5bc1c",
   "metadata": {},
   "outputs": [],
   "source": [
    "updatedName = 'T' + name[1:]"
   ]
  },
  {
   "cell_type": "code",
   "execution_count": 5,
   "id": "d7410c71-e348-4866-b367-64769ccf4f5d",
   "metadata": {},
   "outputs": [
    {
     "name": "stdout",
     "output_type": "stream",
     "text": [
      "Tqib\n"
     ]
    }
   ],
   "source": [
    "print(updatedName)"
   ]
  },
  {
   "cell_type": "code",
   "execution_count": 6,
   "id": "d7b3d8e0-a6a6-4222-8084-0a7f42fc477b",
   "metadata": {},
   "outputs": [
    {
     "name": "stdout",
     "output_type": "stream",
     "text": [
      "TqibTqibTqibTqibTqib\n"
     ]
    }
   ],
   "source": [
    "print(updatedName * 5) ## str in python support multiplications"
   ]
  },
  {
   "cell_type": "code",
   "execution_count": 7,
   "id": "46ab8170-310c-4da5-acdb-67edd5d98ab7",
   "metadata": {},
   "outputs": [],
   "source": [
    "x = \"Hello World\""
   ]
  },
  {
   "cell_type": "code",
   "execution_count": 9,
   "id": "7017666b-29b3-4499-b8a7-d2e6354dd8f3",
   "metadata": {},
   "outputs": [
    {
     "data": {
      "text/plain": [
       "'Hello world'"
      ]
     },
     "execution_count": 9,
     "metadata": {},
     "output_type": "execute_result"
    }
   ],
   "source": [
    "x.capitalize()"
   ]
  },
  {
   "cell_type": "code",
   "execution_count": 10,
   "id": "3d7b3ae0-c2ae-429a-84e0-a326681eb909",
   "metadata": {},
   "outputs": [
    {
     "data": {
      "text/plain": [
       "'HELLO WORLD'"
      ]
     },
     "execution_count": 10,
     "metadata": {},
     "output_type": "execute_result"
    }
   ],
   "source": [
    "x.upper()"
   ]
  },
  {
   "cell_type": "code",
   "execution_count": 13,
   "id": "6d39ef6e-2f58-4848-a49a-0d8a3b8b7138",
   "metadata": {},
   "outputs": [],
   "source": [
    "list1 = x.split(\" \")"
   ]
  },
  {
   "cell_type": "code",
   "execution_count": 14,
   "id": "0ff352b6-aa6d-4b07-b189-ebe205c78583",
   "metadata": {},
   "outputs": [
    {
     "name": "stdout",
     "output_type": "stream",
     "text": [
      "Hello\n"
     ]
    }
   ],
   "source": [
    "print(list1[0])"
   ]
  },
  {
   "cell_type": "code",
   "execution_count": 15,
   "id": "c0ea6a37-f053-4498-a2f9-5f92fa1ace76",
   "metadata": {},
   "outputs": [
    {
     "name": "stdout",
     "output_type": "stream",
     "text": [
      "This is a string test1 which is a name of test2\n"
     ]
    }
   ],
   "source": [
    "print('This is a string {} which is a name of {}'.format('test1', 'test2'))"
   ]
  },
  {
   "cell_type": "code",
   "execution_count": 18,
   "id": "1322f4e2-8a64-42ea-84fa-e4a710aaa268",
   "metadata": {},
   "outputs": [
    {
     "name": "stdout",
     "output_type": "stream",
     "text": [
      "The cow cat fox\n"
     ]
    }
   ],
   "source": [
    "print('The {2} {1} {0}'.format('fox', 'cat', 'cow'))"
   ]
  },
  {
   "cell_type": "code",
   "execution_count": 19,
   "id": "de7951fa-69eb-4baa-b5f8-b0db55bfe2a0",
   "metadata": {},
   "outputs": [
    {
     "name": "stdout",
     "output_type": "stream",
     "text": [
      "The cat fox monkey\n"
     ]
    }
   ],
   "source": [
    "print('The {c} {f} {m}'.format(f='fox', c='cat', m='monkey'))"
   ]
  },
  {
   "cell_type": "markdown",
   "id": "17929cd2-8f3b-4b6e-b743-5a654fb7afc3",
   "metadata": {},
   "source": [
    "Float Formatting method \"{value:width.precision f}\""
   ]
  },
  {
   "cell_type": "code",
   "execution_count": 20,
   "id": "c36a9c78-b89a-47b8-bf3c-297e535f95c0",
   "metadata": {},
   "outputs": [],
   "source": [
    "result = 100/777"
   ]
  },
  {
   "cell_type": "code",
   "execution_count": 21,
   "id": "41321845-e34b-400b-8c8c-f96dcaf69985",
   "metadata": {},
   "outputs": [
    {
     "data": {
      "text/plain": [
       "0.1287001287001287"
      ]
     },
     "execution_count": 21,
     "metadata": {},
     "output_type": "execute_result"
    }
   ],
   "source": [
    "result"
   ]
  },
  {
   "cell_type": "code",
   "execution_count": 27,
   "id": "5effec56-5d80-4a54-a8e9-30928fe21db3",
   "metadata": {},
   "outputs": [
    {
     "name": "stdout",
     "output_type": "stream",
     "text": [
      "The result was 0.129\n"
     ]
    }
   ],
   "source": [
    "print(\"The result was {r:1.3f}\".format(r=result))"
   ]
  },
  {
   "cell_type": "code",
   "execution_count": 28,
   "id": "4592be37-4dff-49e8-b164-a7db4429f6a5",
   "metadata": {},
   "outputs": [],
   "source": [
    "name = \"Aqib\""
   ]
  },
  {
   "cell_type": "code",
   "execution_count": 30,
   "id": "fd4819bb-6d43-45b6-97c7-176ad638e032",
   "metadata": {},
   "outputs": [
    {
     "name": "stdout",
     "output_type": "stream",
     "text": [
      "Hello my name is Aqib\n"
     ]
    }
   ],
   "source": [
    "print(\"Hello my name is {}\".format(name))"
   ]
  },
  {
   "cell_type": "code",
   "execution_count": 32,
   "id": "8f0d3f3a-10d1-48a7-a791-9ffee4fd5c87",
   "metadata": {},
   "outputs": [
    {
     "name": "stdout",
     "output_type": "stream",
     "text": [
      "Hello my name is Aqib\n"
     ]
    }
   ],
   "source": [
    "print(f\"Hello my name is {name}\")"
   ]
  },
  {
   "cell_type": "code",
   "execution_count": 33,
   "id": "8be7e88e-0b86-4484-8433-e9d65804d54c",
   "metadata": {},
   "outputs": [],
   "source": [
    "age = 32"
   ]
  },
  {
   "cell_type": "code",
   "execution_count": 34,
   "id": "acd59705-ffff-4eac-9f86-45347887a1e2",
   "metadata": {},
   "outputs": [
    {
     "name": "stdout",
     "output_type": "stream",
     "text": [
      "My name is Aqib and i am 32 years old\n"
     ]
    }
   ],
   "source": [
    "print(f\"My name is {name} and i am {age} years old\")"
   ]
  },
  {
   "cell_type": "code",
   "execution_count": 7,
   "id": "335c5d71-e463-433f-9fd2-be83d8b7f25d",
   "metadata": {},
   "outputs": [
    {
     "name": "stdout",
     "output_type": "stream",
     "text": [
      "HI THKRK IS A TABLK\n"
     ]
    }
   ],
   "source": [
    "st = \"      Hi there is a table       \"\n",
    "st = st.lstrip().rstrip().upper().replace(\"E\", \"K\")\n",
    "print(st)"
   ]
  },
  {
   "cell_type": "code",
   "execution_count": 12,
   "id": "e9d06883-4efd-4f73-9e5b-48d65f2ec121",
   "metadata": {},
   "outputs": [
    {
     "name": "stdout",
     "output_type": "stream",
     "text": [
      "Albert Einstein\n",
      "Hello\n"
     ]
    }
   ],
   "source": [
    "scientist = \"albert einstein\"\n",
    "proper_name = scientist.title()\n",
    "wasteful_string = \"     9:00PM     \"\n",
    "unwasteful_string = wasteful_string.lstrip().rstrip()\n",
    "party_attendees = \"Sharon, James, Ron, Blake\"\n",
    "is_attending = \"Ron\" in party_attendees\n",
    "\n",
    "\n",
    "def cleanup(rawInput: str) -> str:\n",
    "    return rawInput.lstrip().rstrip().capitalize()\n",
    "\n",
    "print(cleanup('  hello  '))"
   ]
  },
  {
   "cell_type": "code",
   "execution_count": null,
   "id": "6e539424-b49d-4c88-aebd-14def1ccffb1",
   "metadata": {},
   "outputs": [],
   "source": []
  }
 ],
 "metadata": {
  "kernelspec": {
   "display_name": "Python 3 (ipykernel)",
   "language": "python",
   "name": "python3"
  },
  "language_info": {
   "codemirror_mode": {
    "name": "ipython",
    "version": 3
   },
   "file_extension": ".py",
   "mimetype": "text/x-python",
   "name": "python",
   "nbconvert_exporter": "python",
   "pygments_lexer": "ipython3",
   "version": "3.13.4"
  }
 },
 "nbformat": 4,
 "nbformat_minor": 5
}
