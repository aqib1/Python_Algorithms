{
 "cells": [
  {
   "cell_type": "code",
   "execution_count": 2,
   "id": "6fad0c6a-70fc-465d-85ce-c3a09ae03614",
   "metadata": {},
   "outputs": [
    {
     "name": "stdout",
     "output_type": "stream",
     "text": [
      "tensorflow version: 2.16.2\n"
     ]
    }
   ],
   "source": [
    "import tensorflow as tf\n",
    "\n",
    "print(\"tensorflow version:\", tf.__version__)"
   ]
  },
  {
   "cell_type": "code",
   "execution_count": 4,
   "id": "1d68900a-e439-4854-8133-7d53a240568c",
   "metadata": {},
   "outputs": [
    {
     "name": "stdout",
     "output_type": "stream",
     "text": [
      "\n",
      "Available devices:\n",
      "PhysicalDevice(name='/physical_device:CPU:0', device_type='CPU')\n",
      "PhysicalDevice(name='/physical_device:GPU:0', device_type='GPU')\n"
     ]
    }
   ],
   "source": [
    "print(\"\\nAvailable devices:\")\n",
    "for device in tf.config.list_physical_devices():\n",
    "    print(device)"
   ]
  },
  {
   "cell_type": "code",
   "execution_count": 5,
   "id": "dedd9165-1cb6-4a9f-8759-d0076fb09c6c",
   "metadata": {},
   "outputs": [
    {
     "name": "stdout",
     "output_type": "stream",
     "text": [
      "Downloading data from https://storage.googleapis.com/tensorflow/tf-keras-datasets/mnist.npz\n",
      "\u001b[1m11490434/11490434\u001b[0m \u001b[32m━━━━━━━━━━━━━━━━━━━━\u001b[0m\u001b[37m\u001b[0m \u001b[1m1s\u001b[0m 0us/step\n"
     ]
    }
   ],
   "source": [
    "from tensorflow.keras.datasets import mnist\n",
    "\n",
    "(x_train, y_train), (x_valid, y_valid) = mnist.load_data()\n"
   ]
  },
  {
   "cell_type": "code",
   "execution_count": 6,
   "id": "2664cc43-0be1-4e7d-a22c-64cd590c815c",
   "metadata": {},
   "outputs": [
    {
     "data": {
      "text/plain": [
       "(60000, 28, 28)"
      ]
     },
     "execution_count": 6,
     "metadata": {},
     "output_type": "execute_result"
    }
   ],
   "source": [
    "x_train.shape"
   ]
  },
  {
   "cell_type": "code",
   "execution_count": 7,
   "id": "3b836bd6-9de5-43cf-b04b-0755aa29ea2b",
   "metadata": {},
   "outputs": [
    {
     "data": {
      "text/plain": [
       "(60000,)"
      ]
     },
     "execution_count": 7,
     "metadata": {},
     "output_type": "execute_result"
    }
   ],
   "source": [
    "y_train.shape"
   ]
  },
  {
   "cell_type": "code",
   "execution_count": 8,
   "id": "2ac1a6ce-b526-43a9-bb6a-bbf2bec8d319",
   "metadata": {},
   "outputs": [
    {
     "data": {
      "text/plain": [
       "(10000, 28, 28)"
      ]
     },
     "execution_count": 8,
     "metadata": {},
     "output_type": "execute_result"
    }
   ],
   "source": [
    "x_valid.shape"
   ]
  },
  {
   "cell_type": "code",
   "execution_count": 9,
   "id": "be048cdc-9864-4403-a862-be7cdf6e1ccb",
   "metadata": {},
   "outputs": [
    {
     "data": {
      "text/plain": [
       "(10000,)"
      ]
     },
     "execution_count": 9,
     "metadata": {},
     "output_type": "execute_result"
    }
   ],
   "source": [
    "y_valid.shape"
   ]
  },
  {
   "cell_type": "code",
   "execution_count": 10,
   "id": "ab5f3a58-f07b-4c4f-ab87-830e95e65da7",
   "metadata": {},
   "outputs": [],
   "source": [
    "import matplotlib.pyplot as plt\n"
   ]
  },
  {
   "cell_type": "code",
   "execution_count": 12,
   "id": "e4fb3920-5e4f-4151-a076-7ea2543404e2",
   "metadata": {},
   "outputs": [
    {
     "data": {
      "image/png": "[encoded data removed]",
      "text/plain": [
       "<Figure size 640x480 with 1 Axes>"
      ]
     },
     "metadata": {},
     "output_type": "display_data"
    }
   ],
   "source": [
    "plt.imshow(x_valid[0], cmap='gray')\n",
    "plt.title(f\"Label: {y_valid[0]}\")\n",
    "plt.show()\n"
   ]
  },
  {
   "cell_type": "code",
   "execution_count": 13,
   "id": "21ad70d2-546e-49d3-9924-a16bb9599987",
   "metadata": {},
   "outputs": [
    {
     "data": {
      "text/plain": [
       "0"
      ]
     },
     "execution_count": 13,
     "metadata": {},
     "output_type": "execute_result"
    }
   ],
   "source": [
    "x_train.min()"
   ]
  },
  {
   "cell_type": "code",
   "execution_count": 14,
   "id": "bf55e5ea-4c9b-4ff0-a53d-a333fb22db4b",
   "metadata": {},
   "outputs": [
    {
     "data": {
      "text/plain": [
       "255"
      ]
     },
     "execution_count": 14,
     "metadata": {},
     "output_type": "execute_result"
    }
   ],
   "source": [
    "x_train.max()"
   ]
  },
  {
   "cell_type": "code",
   "execution_count": 15,
   "id": "7b18ca8f-5437-4215-b881-22e31c8ca292",
   "metadata": {},
   "outputs": [
    {
     "data": {
      "text/plain": [
       "0"
      ]
     },
     "execution_count": 15,
     "metadata": {},
     "output_type": "execute_result"
    }
   ],
   "source": [
    "y_train.min()"
   ]
  },
  {
   "cell_type": "code",
   "execution_count": 16,
   "id": "c4659ec2-da9a-41d2-aac1-588e37f74187",
   "metadata": {},
   "outputs": [
    {
     "data": {
      "text/plain": [
       "9"
      ]
     },
     "execution_count": 16,
     "metadata": {},
     "output_type": "execute_result"
    }
   ],
   "source": [
    "y_train.max()"
   ]
  },
  {
   "cell_type": "code",
   "execution_count": 29,
   "id": "c5d168cd-c2dd-4823-9999-b23d414cd6b0",
   "metadata": {},
   "outputs": [
    {
     "data": {
      "text/plain": [
       "0"
      ]
     },
     "execution_count": 29,
     "metadata": {},
     "output_type": "execute_result"
    }
   ],
   "source": [
    "x_train[0][1]"
   ]
  },
  {
   "cell_type": "code",
   "execution_count": 30,
   "id": "a835a0b8-3f69-4640-85d8-98590118bd1f",
   "metadata": {},
   "outputs": [],
   "source": [
    "x_train = x_train.reshape(60000, 28*28)"
   ]
  },
  {
   "cell_type": "code",
   "execution_count": 31,
   "id": "09f3a2b7-1c42-498f-9466-60878e0cc422",
   "metadata": {},
   "outputs": [],
   "source": [
    "x_valid = x_valid.reshape(10000, 28*28)"
   ]
  },
  {
   "cell_type": "code",
   "execution_count": 32,
   "id": "5cb16b13-0024-41e7-8166-ac0b3e65f967",
   "metadata": {},
   "outputs": [
    {
     "data": {
      "text/plain": [
       "(60000, 784)"
      ]
     },
     "execution_count": 32,
     "metadata": {},
     "output_type": "execute_result"
    }
   ],
   "source": [
    "x_train.shape"
   ]
  },
  {
   "cell_type": "code",
   "execution_count": 33,
   "id": "d1cefe84-d779-4062-bbef-da1143a2da64",
   "metadata": {},
   "outputs": [
    {
     "data": {
      "text/plain": [
       "(10000, 784)"
      ]
     },
     "execution_count": 33,
     "metadata": {},
     "output_type": "execute_result"
    }
   ],
   "source": [
    "x_valid.shape"
   ]
  },
  {
   "cell_type": "code",
   "execution_count": 34,
   "id": "4cbd723b-e5d4-422a-893a-010d7db460e3",
   "metadata": {},
   "outputs": [],
   "source": [
    "x_train = x_train / x_train.max()"
   ]
  },
  {
   "cell_type": "code",
   "execution_count": 35,
   "id": "7041e119-68f2-4505-9d20-5ca46f39fe25",
   "metadata": {},
   "outputs": [
    {
     "data": {
      "text/plain": [
       "array([0.        , 0.        , 0.        , 0.        , 0.        ,\n",
       "       0.        , 0.        , 0.        , 0.        , 0.        ,\n",
       "       0.        , 0.        , 0.        , 0.        , 0.        ,\n",
       "       0.        , 0.        , 0.        , 0.        , 0.        ,\n",
       "       0.        , 0.        , 0.        , 0.        , 0.        ,\n",
       "       0.        , 0.        , 0.        , 0.        , 0.        ,\n",
       "       0.        , 0.        , 0.        , 0.        , 0.        ,\n",
       "       0.        , 0.        , 0.        , 0.        , 0.        ,\n",
       "       0.        , 0.        , 0.        , 0.        , 0.        ,\n",
       "       0.        , 0.        , 0.        , 0.        , 0.        ,\n",
       "       0.        , 0.        , 0.        , 0.        , 0.        ,\n",
       "       0.        , 0.        , 0.        , 0.        , 0.        ,\n",
       "       0.        , 0.        , 0.        , 0.        , 0.        ,\n",
       "       0.        , 0.        , 0.        , 0.        , 0.        ,\n",
       "       0.        , 0.        , 0.        , 0.        , 0.        ,\n",
       "       0.        , 0.        , 0.        , 0.        , 0.        ,\n",
       "       0.        , 0.        , 0.        , 0.        , 0.        ,\n",
       "       0.        , 0.        , 0.        , 0.        , 0.        ,\n",
       "       0.        , 0.        , 0.        , 0.        , 0.        ,\n",
       "       0.        , 0.        , 0.        , 0.        , 0.        ,\n",
       "       0.        , 0.        , 0.        , 0.        , 0.        ,\n",
       "       0.        , 0.        , 0.        , 0.        , 0.        ,\n",
       "       0.        , 0.        , 0.        , 0.        , 0.        ,\n",
       "       0.        , 0.        , 0.        , 0.        , 0.        ,\n",
       "       0.        , 0.        , 0.        , 0.        , 0.        ,\n",
       "       0.        , 0.        , 0.        , 0.        , 0.        ,\n",
       "       0.        , 0.        , 0.        , 0.        , 0.        ,\n",
       "       0.        , 0.        , 0.        , 0.        , 0.        ,\n",
       "       0.        , 0.        , 0.        , 0.        , 0.        ,\n",
       "       0.        , 0.        , 0.        , 0.        , 0.        ,\n",
       "       0.        , 0.        , 0.01176471, 0.07058824, 0.07058824,\n",
       "       0.07058824, 0.49411765, 0.53333333, 0.68627451, 0.10196078,\n",
       "       0.65098039, 1.        , 0.96862745, 0.49803922, 0.        ,\n",
       "       0.        , 0.        , 0.        , 0.        , 0.        ,\n",
       "       0.        , 0.        , 0.        , 0.        , 0.        ,\n",
       "       0.        , 0.11764706, 0.14117647, 0.36862745, 0.60392157,\n",
       "       0.66666667, 0.99215686, 0.99215686, 0.99215686, 0.99215686,\n",
       "       0.99215686, 0.88235294, 0.6745098 , 0.99215686, 0.94901961,\n",
       "       0.76470588, 0.25098039, 0.        , 0.        , 0.        ,\n",
       "       0.        , 0.        , 0.        , 0.        , 0.        ,\n",
       "       0.        , 0.        , 0.        , 0.19215686, 0.93333333,\n",
       "       0.99215686, 0.99215686, 0.99215686, 0.99215686, 0.99215686,\n",
       "       0.99215686, 0.99215686, 0.99215686, 0.98431373, 0.36470588,\n",
       "       0.32156863, 0.32156863, 0.21960784, 0.15294118, 0.        ,\n",
       "       0.        , 0.        , 0.        , 0.        , 0.        ,\n",
       "       0.        , 0.        , 0.        , 0.        , 0.        ,\n",
       "       0.        , 0.07058824, 0.85882353, 0.99215686, 0.99215686,\n",
       "       0.99215686, 0.99215686, 0.99215686, 0.77647059, 0.71372549,\n",
       "       0.96862745, 0.94509804, 0.        , 0.        , 0.        ,\n",
       "       0.        , 0.        , 0.        , 0.        , 0.        ,\n",
       "       0.        , 0.        , 0.        , 0.        , 0.        ,\n",
       "       0.        , 0.        , 0.        , 0.        , 0.        ,\n",
       "       0.31372549, 0.61176471, 0.41960784, 0.99215686, 0.99215686,\n",
       "       0.80392157, 0.04313725, 0.        , 0.16862745, 0.60392157,\n",
       "       0.        , 0.        , 0.        , 0.        , 0.        ,\n",
       "       0.        , 0.        , 0.        , 0.        , 0.        ,\n",
       "       0.        , 0.        , 0.        , 0.        , 0.        ,\n",
       "       0.        , 0.        , 0.        , 0.        , 0.05490196,\n",
       "       0.00392157, 0.60392157, 0.99215686, 0.35294118, 0.        ,\n",
       "       0.        , 0.        , 0.        , 0.        , 0.        ,\n",
       "       0.        , 0.        , 0.        , 0.        , 0.        ,\n",
       "       0.        , 0.        , 0.        , 0.        , 0.        ,\n",
       "       0.        , 0.        , 0.        , 0.        , 0.        ,\n",
       "       0.        , 0.        , 0.        , 0.        , 0.54509804,\n",
       "       0.99215686, 0.74509804, 0.00784314, 0.        , 0.        ,\n",
       "       0.        , 0.        , 0.        , 0.        , 0.        ,\n",
       "       0.        , 0.        , 0.        , 0.        , 0.        ,\n",
       "       0.        , 0.        , 0.        , 0.        , 0.        ,\n",
       "       0.        , 0.        , 0.        , 0.        , 0.        ,\n",
       "       0.        , 0.        , 0.04313725, 0.74509804, 0.99215686,\n",
       "       0.2745098 , 0.        , 0.        , 0.        , 0.        ,\n",
       "       0.        , 0.        , 0.        , 0.        , 0.        ,\n",
       "       0.        , 0.        , 0.        , 0.        , 0.        ,\n",
       "       0.        , 0.        , 0.        , 0.        , 0.        ,\n",
       "       0.        , 0.        , 0.        , 0.        , 0.        ,\n",
       "       0.        , 0.1372549 , 0.94509804, 0.88235294, 0.62745098,\n",
       "       0.42352941, 0.00392157, 0.        , 0.        , 0.        ,\n",
       "       0.        , 0.        , 0.        , 0.        , 0.        ,\n",
       "       0.        , 0.        , 0.        , 0.        , 0.        ,\n",
       "       0.        , 0.        , 0.        , 0.        , 0.        ,\n",
       "       0.        , 0.        , 0.        , 0.        , 0.        ,\n",
       "       0.31764706, 0.94117647, 0.99215686, 0.99215686, 0.46666667,\n",
       "       0.09803922, 0.        , 0.        , 0.        , 0.        ,\n",
       "       0.        , 0.        , 0.        , 0.        , 0.        ,\n",
       "       0.        , 0.        , 0.        , 0.        , 0.        ,\n",
       "       0.        , 0.        , 0.        , 0.        , 0.        ,\n",
       "       0.        , 0.        , 0.        , 0.        , 0.17647059,\n",
       "       0.72941176, 0.99215686, 0.99215686, 0.58823529, 0.10588235,\n",
       "       0.        , 0.        , 0.        , 0.        , 0.        ,\n",
       "       0.        , 0.        , 0.        , 0.        , 0.        ,\n",
       "       0.        , 0.        , 0.        , 0.        , 0.        ,\n",
       "       0.        , 0.        , 0.        , 0.        , 0.        ,\n",
       "       0.        , 0.        , 0.        , 0.0627451 , 0.36470588,\n",
       "       0.98823529, 0.99215686, 0.73333333, 0.        , 0.        ,\n",
       "       0.        , 0.        , 0.        , 0.        , 0.        ,\n",
       "       0.        , 0.        , 0.        , 0.        , 0.        ,\n",
       "       0.        , 0.        , 0.        , 0.        , 0.        ,\n",
       "       0.        , 0.        , 0.        , 0.        , 0.        ,\n",
       "       0.        , 0.        , 0.        , 0.97647059, 0.99215686,\n",
       "       0.97647059, 0.25098039, 0.        , 0.        , 0.        ,\n",
       "       0.        , 0.        , 0.        , 0.        , 0.        ,\n",
       "       0.        , 0.        , 0.        , 0.        , 0.        ,\n",
       "       0.        , 0.        , 0.        , 0.        , 0.        ,\n",
       "       0.        , 0.        , 0.        , 0.18039216, 0.50980392,\n",
       "       0.71764706, 0.99215686, 0.99215686, 0.81176471, 0.00784314,\n",
       "       0.        , 0.        , 0.        , 0.        , 0.        ,\n",
       "       0.        , 0.        , 0.        , 0.        , 0.        ,\n",
       "       0.        , 0.        , 0.        , 0.        , 0.        ,\n",
       "       0.        , 0.        , 0.        , 0.        , 0.15294118,\n",
       "       0.58039216, 0.89803922, 0.99215686, 0.99215686, 0.99215686,\n",
       "       0.98039216, 0.71372549, 0.        , 0.        , 0.        ,\n",
       "       0.        , 0.        , 0.        , 0.        , 0.        ,\n",
       "       0.        , 0.        , 0.        , 0.        , 0.        ,\n",
       "       0.        , 0.        , 0.        , 0.        , 0.        ,\n",
       "       0.09411765, 0.44705882, 0.86666667, 0.99215686, 0.99215686,\n",
       "       0.99215686, 0.99215686, 0.78823529, 0.30588235, 0.        ,\n",
       "       0.        , 0.        , 0.        , 0.        , 0.        ,\n",
       "       0.        , 0.        , 0.        , 0.        , 0.        ,\n",
       "       0.        , 0.        , 0.        , 0.        , 0.        ,\n",
       "       0.        , 0.09019608, 0.25882353, 0.83529412, 0.99215686,\n",
       "       0.99215686, 0.99215686, 0.99215686, 0.77647059, 0.31764706,\n",
       "       0.00784314, 0.        , 0.        , 0.        , 0.        ,\n",
       "       0.        , 0.        , 0.        , 0.        , 0.        ,\n",
       "       0.        , 0.        , 0.        , 0.        , 0.        ,\n",
       "       0.        , 0.        , 0.07058824, 0.67058824, 0.85882353,\n",
       "       0.99215686, 0.99215686, 0.99215686, 0.99215686, 0.76470588,\n",
       "       0.31372549, 0.03529412, 0.        , 0.        , 0.        ,\n",
       "       0.        , 0.        , 0.        , 0.        , 0.        ,\n",
       "       0.        , 0.        , 0.        , 0.        , 0.        ,\n",
       "       0.        , 0.        , 0.        , 0.21568627, 0.6745098 ,\n",
       "       0.88627451, 0.99215686, 0.99215686, 0.99215686, 0.99215686,\n",
       "       0.95686275, 0.52156863, 0.04313725, 0.        , 0.        ,\n",
       "       0.        , 0.        , 0.        , 0.        , 0.        ,\n",
       "       0.        , 0.        , 0.        , 0.        , 0.        ,\n",
       "       0.        , 0.        , 0.        , 0.        , 0.        ,\n",
       "       0.        , 0.53333333, 0.99215686, 0.99215686, 0.99215686,\n",
       "       0.83137255, 0.52941176, 0.51764706, 0.0627451 , 0.        ,\n",
       "       0.        , 0.        , 0.        , 0.        , 0.        ,\n",
       "       0.        , 0.        , 0.        , 0.        , 0.        ,\n",
       "       0.        , 0.        , 0.        , 0.        , 0.        ,\n",
       "       0.        , 0.        , 0.        , 0.        , 0.        ,\n",
       "       0.        , 0.        , 0.        , 0.        , 0.        ,\n",
       "       0.        , 0.        , 0.        , 0.        , 0.        ,\n",
       "       0.        , 0.        , 0.        , 0.        , 0.        ,\n",
       "       0.        , 0.        , 0.        , 0.        , 0.        ,\n",
       "       0.        , 0.        , 0.        , 0.        , 0.        ,\n",
       "       0.        , 0.        , 0.        , 0.        , 0.        ,\n",
       "       0.        , 0.        , 0.        , 0.        , 0.        ,\n",
       "       0.        , 0.        , 0.        , 0.        , 0.        ,\n",
       "       0.        , 0.        , 0.        , 0.        , 0.        ,\n",
       "       0.        , 0.        , 0.        , 0.        , 0.        ,\n",
       "       0.        , 0.        , 0.        , 0.        , 0.        ,\n",
       "       0.        , 0.        , 0.        , 0.        , 0.        ,\n",
       "       0.        , 0.        , 0.        , 0.        , 0.        ,\n",
       "       0.        , 0.        , 0.        , 0.        , 0.        ,\n",
       "       0.        , 0.        , 0.        , 0.        , 0.        ,\n",
       "       0.        , 0.        , 0.        , 0.        ])"
      ]
     },
     "execution_count": 35,
     "metadata": {},
     "output_type": "execute_result"
    }
   ],
   "source": [
    "x_train[0]"
   ]
  },
  {
   "cell_type": "code",
   "execution_count": 36,
   "id": "543385c7-5c38-4160-8f30-a0b05d270c89",
   "metadata": {},
   "outputs": [],
   "source": [
    "x_valid = x_valid / x_valid.max()"
   ]
  },
  {
   "cell_type": "code",
   "execution_count": 37,
   "id": "4a6b216d-8a96-4b8d-8214-a097febe2de7",
   "metadata": {},
   "outputs": [
    {
     "data": {
      "text/plain": [
       "array([0.        , 0.        , 0.        , 0.        , 0.        ,\n",
       "       0.        , 0.        , 0.        , 0.        , 0.        ,\n",
       "       0.        , 0.        , 0.        , 0.        , 0.        ,\n",
       "       0.        , 0.        , 0.        , 0.        , 0.        ,\n",
       "       0.        , 0.        , 0.        , 0.        , 0.        ,\n",
       "       0.        , 0.        , 0.        , 0.        , 0.        ,\n",
       "       0.        , 0.        , 0.        , 0.        , 0.        ,\n",
       "       0.        , 0.        , 0.        , 0.        , 0.        ,\n",
       "       0.        , 0.        , 0.        , 0.        , 0.        ,\n",
       "       0.        , 0.        , 0.        , 0.        , 0.        ,\n",
       "       0.        , 0.        , 0.        , 0.        , 0.        ,\n",
       "       0.        , 0.        , 0.        , 0.        , 0.        ,\n",
       "       0.        , 0.        , 0.        , 0.        , 0.        ,\n",
       "       0.        , 0.        , 0.        , 0.        , 0.        ,\n",
       "       0.        , 0.        , 0.        , 0.        , 0.        ,\n",
       "       0.        , 0.        , 0.        , 0.        , 0.        ,\n",
       "       0.        , 0.        , 0.        , 0.        , 0.        ,\n",
       "       0.        , 0.        , 0.        , 0.        , 0.        ,\n",
       "       0.        , 0.        , 0.        , 0.        , 0.        ,\n",
       "       0.        , 0.        , 0.        , 0.        , 0.        ,\n",
       "       0.        , 0.        , 0.        , 0.        , 0.        ,\n",
       "       0.        , 0.        , 0.        , 0.        , 0.        ,\n",
       "       0.        , 0.        , 0.        , 0.        , 0.        ,\n",
       "       0.        , 0.        , 0.        , 0.        , 0.        ,\n",
       "       0.        , 0.        , 0.        , 0.        , 0.        ,\n",
       "       0.        , 0.        , 0.        , 0.        , 0.        ,\n",
       "       0.        , 0.        , 0.        , 0.        , 0.        ,\n",
       "       0.        , 0.        , 0.        , 0.        , 0.        ,\n",
       "       0.        , 0.        , 0.        , 0.        , 0.        ,\n",
       "       0.        , 0.        , 0.        , 0.        , 0.        ,\n",
       "       0.        , 0.        , 0.        , 0.        , 0.        ,\n",
       "       0.        , 0.        , 0.        , 0.        , 0.        ,\n",
       "       0.        , 0.        , 0.        , 0.        , 0.        ,\n",
       "       0.        , 0.        , 0.        , 0.        , 0.        ,\n",
       "       0.        , 0.        , 0.        , 0.        , 0.        ,\n",
       "       0.        , 0.        , 0.        , 0.        , 0.        ,\n",
       "       0.        , 0.        , 0.        , 0.        , 0.        ,\n",
       "       0.        , 0.        , 0.        , 0.        , 0.        ,\n",
       "       0.        , 0.        , 0.        , 0.        , 0.        ,\n",
       "       0.        , 0.        , 0.        , 0.        , 0.        ,\n",
       "       0.        , 0.        , 0.32941176, 0.7254902 , 0.62352941,\n",
       "       0.59215686, 0.23529412, 0.14117647, 0.        , 0.        ,\n",
       "       0.        , 0.        , 0.        , 0.        , 0.        ,\n",
       "       0.        , 0.        , 0.        , 0.        , 0.        ,\n",
       "       0.        , 0.        , 0.        , 0.        , 0.        ,\n",
       "       0.        , 0.        , 0.        , 0.        , 0.        ,\n",
       "       0.87058824, 0.99607843, 0.99607843, 0.99607843, 0.99607843,\n",
       "       0.94509804, 0.77647059, 0.77647059, 0.77647059, 0.77647059,\n",
       "       0.77647059, 0.77647059, 0.77647059, 0.77647059, 0.66666667,\n",
       "       0.20392157, 0.        , 0.        , 0.        , 0.        ,\n",
       "       0.        , 0.        , 0.        , 0.        , 0.        ,\n",
       "       0.        , 0.        , 0.        , 0.2627451 , 0.44705882,\n",
       "       0.28235294, 0.44705882, 0.63921569, 0.89019608, 0.99607843,\n",
       "       0.88235294, 0.99607843, 0.99607843, 0.99607843, 0.98039216,\n",
       "       0.89803922, 0.99607843, 0.99607843, 0.54901961, 0.        ,\n",
       "       0.        , 0.        , 0.        , 0.        , 0.        ,\n",
       "       0.        , 0.        , 0.        , 0.        , 0.        ,\n",
       "       0.        , 0.        , 0.        , 0.        , 0.        ,\n",
       "       0.        , 0.06666667, 0.25882353, 0.05490196, 0.2627451 ,\n",
       "       0.2627451 , 0.2627451 , 0.23137255, 0.08235294, 0.9254902 ,\n",
       "       0.99607843, 0.41568627, 0.        , 0.        , 0.        ,\n",
       "       0.        , 0.        , 0.        , 0.        , 0.        ,\n",
       "       0.        , 0.        , 0.        , 0.        , 0.        ,\n",
       "       0.        , 0.        , 0.        , 0.        , 0.        ,\n",
       "       0.        , 0.        , 0.        , 0.        , 0.        ,\n",
       "       0.        , 0.3254902 , 0.99215686, 0.81960784, 0.07058824,\n",
       "       0.        , 0.        , 0.        , 0.        , 0.        ,\n",
       "       0.        , 0.        , 0.        , 0.        , 0.        ,\n",
       "       0.        , 0.        , 0.        , 0.        , 0.        ,\n",
       "       0.        , 0.        , 0.        , 0.        , 0.        ,\n",
       "       0.        , 0.        , 0.        , 0.08627451, 0.91372549,\n",
       "       1.        , 0.3254902 , 0.        , 0.        , 0.        ,\n",
       "       0.        , 0.        , 0.        , 0.        , 0.        ,\n",
       "       0.        , 0.        , 0.        , 0.        , 0.        ,\n",
       "       0.        , 0.        , 0.        , 0.        , 0.        ,\n",
       "       0.        , 0.        , 0.        , 0.        , 0.        ,\n",
       "       0.        , 0.50588235, 0.99607843, 0.93333333, 0.17254902,\n",
       "       0.        , 0.        , 0.        , 0.        , 0.        ,\n",
       "       0.        , 0.        , 0.        , 0.        , 0.        ,\n",
       "       0.        , 0.        , 0.        , 0.        , 0.        ,\n",
       "       0.        , 0.        , 0.        , 0.        , 0.        ,\n",
       "       0.        , 0.        , 0.        , 0.23137255, 0.97647059,\n",
       "       0.99607843, 0.24313725, 0.        , 0.        , 0.        ,\n",
       "       0.        , 0.        , 0.        , 0.        , 0.        ,\n",
       "       0.        , 0.        , 0.        , 0.        , 0.        ,\n",
       "       0.        , 0.        , 0.        , 0.        , 0.        ,\n",
       "       0.        , 0.        , 0.        , 0.        , 0.        ,\n",
       "       0.        , 0.52156863, 0.99607843, 0.73333333, 0.01960784,\n",
       "       0.        , 0.        , 0.        , 0.        , 0.        ,\n",
       "       0.        , 0.        , 0.        , 0.        , 0.        ,\n",
       "       0.        , 0.        , 0.        , 0.        , 0.        ,\n",
       "       0.        , 0.        , 0.        , 0.        , 0.        ,\n",
       "       0.        , 0.        , 0.        , 0.03529412, 0.80392157,\n",
       "       0.97254902, 0.22745098, 0.        , 0.        , 0.        ,\n",
       "       0.        , 0.        , 0.        , 0.        , 0.        ,\n",
       "       0.        , 0.        , 0.        , 0.        , 0.        ,\n",
       "       0.        , 0.        , 0.        , 0.        , 0.        ,\n",
       "       0.        , 0.        , 0.        , 0.        , 0.        ,\n",
       "       0.        , 0.49411765, 0.99607843, 0.71372549, 0.        ,\n",
       "       0.        , 0.        , 0.        , 0.        , 0.        ,\n",
       "       0.        , 0.        , 0.        , 0.        , 0.        ,\n",
       "       0.        , 0.        , 0.        , 0.        , 0.        ,\n",
       "       0.        , 0.        , 0.        , 0.        , 0.        ,\n",
       "       0.        , 0.        , 0.        , 0.29411765, 0.98431373,\n",
       "       0.94117647, 0.22352941, 0.        , 0.        , 0.        ,\n",
       "       0.        , 0.        , 0.        , 0.        , 0.        ,\n",
       "       0.        , 0.        , 0.        , 0.        , 0.        ,\n",
       "       0.        , 0.        , 0.        , 0.        , 0.        ,\n",
       "       0.        , 0.        , 0.        , 0.        , 0.        ,\n",
       "       0.0745098 , 0.86666667, 0.99607843, 0.65098039, 0.        ,\n",
       "       0.        , 0.        , 0.        , 0.        , 0.        ,\n",
       "       0.        , 0.        , 0.        , 0.        , 0.        ,\n",
       "       0.        , 0.        , 0.        , 0.        , 0.        ,\n",
       "       0.        , 0.        , 0.        , 0.        , 0.        ,\n",
       "       0.        , 0.        , 0.01176471, 0.79607843, 0.99607843,\n",
       "       0.85882353, 0.1372549 , 0.        , 0.        , 0.        ,\n",
       "       0.        , 0.        , 0.        , 0.        , 0.        ,\n",
       "       0.        , 0.        , 0.        , 0.        , 0.        ,\n",
       "       0.        , 0.        , 0.        , 0.        , 0.        ,\n",
       "       0.        , 0.        , 0.        , 0.        , 0.        ,\n",
       "       0.14901961, 0.99607843, 0.99607843, 0.30196078, 0.        ,\n",
       "       0.        , 0.        , 0.        , 0.        , 0.        ,\n",
       "       0.        , 0.        , 0.        , 0.        , 0.        ,\n",
       "       0.        , 0.        , 0.        , 0.        , 0.        ,\n",
       "       0.        , 0.        , 0.        , 0.        , 0.        ,\n",
       "       0.        , 0.        , 0.12156863, 0.87843137, 0.99607843,\n",
       "       0.45098039, 0.00392157, 0.        , 0.        , 0.        ,\n",
       "       0.        , 0.        , 0.        , 0.        , 0.        ,\n",
       "       0.        , 0.        , 0.        , 0.        , 0.        ,\n",
       "       0.        , 0.        , 0.        , 0.        , 0.        ,\n",
       "       0.        , 0.        , 0.        , 0.        , 0.        ,\n",
       "       0.52156863, 0.99607843, 0.99607843, 0.20392157, 0.        ,\n",
       "       0.        , 0.        , 0.        , 0.        , 0.        ,\n",
       "       0.        , 0.        , 0.        , 0.        , 0.        ,\n",
       "       0.        , 0.        , 0.        , 0.        , 0.        ,\n",
       "       0.        , 0.        , 0.        , 0.        , 0.        ,\n",
       "       0.        , 0.        , 0.23921569, 0.94901961, 0.99607843,\n",
       "       0.99607843, 0.20392157, 0.        , 0.        , 0.        ,\n",
       "       0.        , 0.        , 0.        , 0.        , 0.        ,\n",
       "       0.        , 0.        , 0.        , 0.        , 0.        ,\n",
       "       0.        , 0.        , 0.        , 0.        , 0.        ,\n",
       "       0.        , 0.        , 0.        , 0.        , 0.        ,\n",
       "       0.4745098 , 0.99607843, 0.99607843, 0.85882353, 0.15686275,\n",
       "       0.        , 0.        , 0.        , 0.        , 0.        ,\n",
       "       0.        , 0.        , 0.        , 0.        , 0.        ,\n",
       "       0.        , 0.        , 0.        , 0.        , 0.        ,\n",
       "       0.        , 0.        , 0.        , 0.        , 0.        ,\n",
       "       0.        , 0.        , 0.        , 0.4745098 , 0.99607843,\n",
       "       0.81176471, 0.07058824, 0.        , 0.        , 0.        ,\n",
       "       0.        , 0.        , 0.        , 0.        , 0.        ,\n",
       "       0.        , 0.        , 0.        , 0.        , 0.        ,\n",
       "       0.        , 0.        , 0.        , 0.        , 0.        ,\n",
       "       0.        , 0.        , 0.        , 0.        , 0.        ,\n",
       "       0.        , 0.        , 0.        , 0.        , 0.        ,\n",
       "       0.        , 0.        , 0.        , 0.        , 0.        ,\n",
       "       0.        , 0.        , 0.        , 0.        , 0.        ,\n",
       "       0.        , 0.        , 0.        , 0.        ])"
      ]
     },
     "execution_count": 37,
     "metadata": {},
     "output_type": "execute_result"
    }
   ],
   "source": [
    "x_valid[0]"
   ]
  },
  {
   "cell_type": "code",
   "execution_count": 38,
   "id": "436fe595-6d0e-4b2c-80ed-4ddc7457f7da",
   "metadata": {},
   "outputs": [
    {
     "data": {
      "text/plain": [
       "dtype('float64')"
      ]
     },
     "execution_count": 38,
     "metadata": {},
     "output_type": "execute_result"
    }
   ],
   "source": [
    "x_valid.dtype"
   ]
  },
  {
   "cell_type": "code",
   "execution_count": 39,
   "id": "29df1fb4-7e33-4f98-af60-f837b3da14ce",
   "metadata": {},
   "outputs": [
    {
     "data": {
      "text/plain": [
       "5"
      ]
     },
     "execution_count": 39,
     "metadata": {},
     "output_type": "execute_result"
    }
   ],
   "source": [
    "y_train[0]"
   ]
  },
  {
   "cell_type": "code",
   "execution_count": 40,
   "id": "7c8c5ad5-18e6-428c-8181-3c4be2591607",
   "metadata": {},
   "outputs": [],
   "source": [
    "import tensorflow.keras as keras\n",
    "num_cat = 10\n",
    "\n",
    "y_train = keras.utils.to_categorical(y_train, num_cat)\n",
    "y_valid = keras.utils.to_categorical(y_valid, num_cat)"
   ]
  },
  {
   "cell_type": "code",
   "execution_count": 41,
   "id": "f4f3d325-299e-412f-a87f-cc05376537e1",
   "metadata": {},
   "outputs": [
    {
     "data": {
      "text/plain": [
       "array([0., 0., 0., 0., 0., 1., 0., 0., 0., 0.])"
      ]
     },
     "execution_count": 41,
     "metadata": {},
     "output_type": "execute_result"
    }
   ],
   "source": [
    "y_train[0]"
   ]
  },
  {
   "cell_type": "code",
   "execution_count": 45,
   "id": "9c511896-8f7b-4641-8fa6-f4333b21b47e",
   "metadata": {},
   "outputs": [],
   "source": [
    "from tensorflow.keras.models import Sequential\n",
    "from tensorflow.keras.layers import Dense, Input\n",
    "\n",
    "model = Sequential()\n",
    "model.add(Input(shape=(784,))) ## Input layer\n",
    "model.add(Dense(units=512, activation='relu'))  ## Hidden layer"
   ]
  },
  {
   "cell_type": "code",
   "execution_count": 46,
   "id": "01eb1d2f-1018-45b1-8592-e0f763307c7a",
   "metadata": {},
   "outputs": [],
   "source": [
    "model.add(Dense(units=512, activation='relu'))  ## 2nd Hidden layer"
   ]
  },
  {
   "cell_type": "code",
   "execution_count": 47,
   "id": "8a6a0e21-43bf-4f4e-a39c-df323312b021",
   "metadata": {},
   "outputs": [],
   "source": [
    "model.add(Dense(units=10, activation='softmax')) ## Output layer"
   ]
  },
  {
   "cell_type": "code",
   "execution_count": 48,
   "id": "2e85f533-9de2-4de3-bb9c-7b297c5656fa",
   "metadata": {},
   "outputs": [
    {
     "data": {
      "text/html": [
       "<pre style=\"white-space:pre;overflow-x:auto;line-height:normal;font-family:Menlo,'DejaVu Sans Mono',consolas,'Courier New',monospace\"><span style=\"font-weight: bold\">Model: \"sequential_2\"</span>\n",
       "</pre>\n"
      ],
      "text/plain": [
       "\u001b[1mModel: \"sequential_2\"\u001b[0m\n"
      ]
     },
     "metadata": {},
     "output_type": "display_data"
    },
    {
     "data": {
      "text/html": [
       "<pre style=\"white-space:pre;overflow-x:auto;line-height:normal;font-family:Menlo,'DejaVu Sans Mono',consolas,'Courier New',monospace\">┏━━━━━━━━━━━━━━━━━━━━━━━━━━━━━━━━━┳━━━━━━━━━━━━━━━━━━━━━━━━┳━━━━━━━━━━━━━━━┓\n",
       "┃<span style=\"font-weight: bold\"> Layer (type)                    </span>┃<span style=\"font-weight: bold\"> Output Shape           </span>┃<span style=\"font-weight: bold\">       Param # </span>┃\n",
       "┡━━━━━━━━━━━━━━━━━━━━━━━━━━━━━━━━━╇━━━━━━━━━━━━━━━━━━━━━━━━╇━━━━━━━━━━━━━━━┩\n",
       "│ dense_1 (<span style=\"color: #0087ff; text-decoration-color: #0087ff\">Dense</span>)                 │ (<span style=\"color: #00d7ff; text-decoration-color: #00d7ff\">None</span>, <span style=\"color: #00af00; text-decoration-color: #00af00\">512</span>)            │       <span style=\"color: #00af00; text-decoration-color: #00af00\">401,920</span> │\n",
       "├─────────────────────────────────┼────────────────────────┼───────────────┤\n",
       "│ dense_2 (<span style=\"color: #0087ff; text-decoration-color: #0087ff\">Dense</span>)                 │ (<span style=\"color: #00d7ff; text-decoration-color: #00d7ff\">None</span>, <span style=\"color: #00af00; text-decoration-color: #00af00\">512</span>)            │       <span style=\"color: #00af00; text-decoration-color: #00af00\">262,656</span> │\n",
       "├─────────────────────────────────┼────────────────────────┼───────────────┤\n",
       "│ dense_3 (<span style=\"color: #0087ff; text-decoration-color: #0087ff\">Dense</span>)                 │ (<span style=\"color: #00d7ff; text-decoration-color: #00d7ff\">None</span>, <span style=\"color: #00af00; text-decoration-color: #00af00\">10</span>)             │         <span style=\"color: #00af00; text-decoration-color: #00af00\">5,130</span> │\n",
       "└─────────────────────────────────┴────────────────────────┴───────────────┘\n",
       "</pre>\n"
      ],
      "text/plain": [
       "┏━━━━━━━━━━━━━━━━━━━━━━━━━━━━━━━━━┳━━━━━━━━━━━━━━━━━━━━━━━━┳━━━━━━━━━━━━━━━┓\n",
       "┃\u001b[1m \u001b[0m\u001b[1mLayer (type)                   \u001b[0m\u001b[1m \u001b[0m┃\u001b[1m \u001b[0m\u001b[1mOutput Shape          \u001b[0m\u001b[1m \u001b[0m┃\u001b[1m \u001b[0m\u001b[1m      Param #\u001b[0m\u001b[1m \u001b[0m┃\n",
       "┡━━━━━━━━━━━━━━━━━━━━━━━━━━━━━━━━━╇━━━━━━━━━━━━━━━━━━━━━━━━╇━━━━━━━━━━━━━━━┩\n",
       "│ dense_1 (\u001b[38;5;33mDense\u001b[0m)                 │ (\u001b[38;5;45mNone\u001b[0m, \u001b[38;5;34m512\u001b[0m)            │       \u001b[38;5;34m401,920\u001b[0m │\n",
       "├─────────────────────────────────┼────────────────────────┼───────────────┤\n",
       "│ dense_2 (\u001b[38;5;33mDense\u001b[0m)                 │ (\u001b[38;5;45mNone\u001b[0m, \u001b[38;5;34m512\u001b[0m)            │       \u001b[38;5;34m262,656\u001b[0m │\n",
       "├─────────────────────────────────┼────────────────────────┼───────────────┤\n",
       "│ dense_3 (\u001b[38;5;33mDense\u001b[0m)                 │ (\u001b[38;5;45mNone\u001b[0m, \u001b[38;5;34m10\u001b[0m)             │         \u001b[38;5;34m5,130\u001b[0m │\n",
       "└─────────────────────────────────┴────────────────────────┴───────────────┘\n"
      ]
     },
     "metadata": {},
     "output_type": "display_data"
    },
    {
     "data": {
      "text/html": [
       "<pre style=\"white-space:pre;overflow-x:auto;line-height:normal;font-family:Menlo,'DejaVu Sans Mono',consolas,'Courier New',monospace\"><span style=\"font-weight: bold\"> Total params: </span><span style=\"color: #00af00; text-decoration-color: #00af00\">669,706</span> (2.55 MB)\n",
       "</pre>\n"
      ],
      "text/plain": [
       "\u001b[1m Total params: \u001b[0m\u001b[38;5;34m669,706\u001b[0m (2.55 MB)\n"
      ]
     },
     "metadata": {},
     "output_type": "display_data"
    },
    {
     "data": {
      "text/html": [
       "<pre style=\"white-space:pre;overflow-x:auto;line-height:normal;font-family:Menlo,'DejaVu Sans Mono',consolas,'Courier New',monospace\"><span style=\"font-weight: bold\"> Trainable params: </span><span style=\"color: #00af00; text-decoration-color: #00af00\">669,706</span> (2.55 MB)\n",
       "</pre>\n"
      ],
      "text/plain": [
       "\u001b[1m Trainable params: \u001b[0m\u001b[38;5;34m669,706\u001b[0m (2.55 MB)\n"
      ]
     },
     "metadata": {},
     "output_type": "display_data"
    },
    {
     "data": {
      "text/html": [
       "<pre style=\"white-space:pre;overflow-x:auto;line-height:normal;font-family:Menlo,'DejaVu Sans Mono',consolas,'Courier New',monospace\"><span style=\"font-weight: bold\"> Non-trainable params: </span><span style=\"color: #00af00; text-decoration-color: #00af00\">0</span> (0.00 B)\n",
       "</pre>\n"
      ],
      "text/plain": [
       "\u001b[1m Non-trainable params: \u001b[0m\u001b[38;5;34m0\u001b[0m (0.00 B)\n"
      ]
     },
     "metadata": {},
     "output_type": "display_data"
    }
   ],
   "source": [
    "model.summary()"
   ]
  },
  {
   "cell_type": "code",
   "execution_count": 49,
   "id": "5bfa9778-c9e6-4463-803a-d1d61f3d2040",
   "metadata": {},
   "outputs": [],
   "source": [
    "model.compile(loss='categorical_crossentropy', metrics=['accuracy'])"
   ]
  },
  {
   "cell_type": "code",
   "execution_count": 50,
   "id": "81853b00-2ca6-4710-84e5-899f5aa78b06",
   "metadata": {},
   "outputs": [
    {
     "name": "stdout",
     "output_type": "stream",
     "text": [
      "Epoch 1/5\n"
     ]
    },
    {
     "name": "stderr",
     "output_type": "stream",
     "text": [
      "2025-08-26 04:42:02.482261: I tensorflow/core/grappler/optimizers/custom_graph_optimizer_registry.cc:117] Plugin optimizer for device_type GPU is enabled.\n",
      "2025-08-26 04:42:02.485390: E tensorflow/core/grappler/optimizers/meta_optimizer.cc:961] PluggableGraphOptimizer failed: INVALID_ARGUMENT: Failed to deserialize the `graph_buf`.\n"
     ]
    },
    {
     "name": "stdout",
     "output_type": "stream",
     "text": [
      "\u001b[1m1875/1875\u001b[0m \u001b[32m━━━━━━━━━━━━━━━━━━━━\u001b[0m\u001b[37m\u001b[0m \u001b[1m23s\u001b[0m 11ms/step - accuracy: 0.9438 - loss: 0.1865 - val_accuracy: 0.9726 - val_loss: 0.0910\n",
      "Epoch 2/5\n",
      "\u001b[1m1875/1875\u001b[0m \u001b[32m━━━━━━━━━━━━━━━━━━━━\u001b[0m\u001b[37m\u001b[0m \u001b[1m20s\u001b[0m 11ms/step - accuracy: 0.9760 - loss: 0.0854 - val_accuracy: 0.9757 - val_loss: 0.0915\n",
      "Epoch 3/5\n",
      "\u001b[1m1875/1875\u001b[0m \u001b[32m━━━━━━━━━━━━━━━━━━━━\u001b[0m\u001b[37m\u001b[0m \u001b[1m20s\u001b[0m 10ms/step - accuracy: 0.9825 - loss: 0.0621 - val_accuracy: 0.9760 - val_loss: 0.0965\n",
      "Epoch 4/5\n",
      "\u001b[1m1875/1875\u001b[0m \u001b[32m━━━━━━━━━━━━━━━━━━━━\u001b[0m\u001b[37m\u001b[0m \u001b[1m20s\u001b[0m 11ms/step - accuracy: 0.9862 - loss: 0.0487 - val_accuracy: 0.9778 - val_loss: 0.0939\n",
      "Epoch 5/5\n",
      "\u001b[1m1875/1875\u001b[0m \u001b[32m━━━━━━━━━━━━━━━━━━━━\u001b[0m\u001b[37m\u001b[0m \u001b[1m20s\u001b[0m 11ms/step - accuracy: 0.9895 - loss: 0.0371 - val_accuracy: 0.9811 - val_loss: 0.0841\n"
     ]
    }
   ],
   "source": [
    "history = model.fit(x_train, y_train, epochs=5, verbose=1, validation_data=(x_valid, y_valid))"
   ]
  },
  {
   "cell_type": "code",
   "execution_count": 52,
   "id": "3b2c735f-21b6-4a2a-8062-7f230ab5da2d",
   "metadata": {},
   "outputs": [],
   "source": [
    "model.save(\"predict_number.keras\")"
   ]
  },
  {
   "cell_type": "code",
   "execution_count": 59,
   "id": "b9f2768c-c7f4-4ff4-86b4-c226d3dd900a",
   "metadata": {},
   "outputs": [
    {
     "data": {
      "text/plain": [
       "array([[0.07058824, 0.07058824, 0.06666667, 0.07843137, 0.07843137,\n",
       "        0.07843137, 0.07843137, 0.07843137, 0.07058824, 0.08235294,\n",
       "        0.0745098 , 0.07843137, 0.07058824, 0.06666667, 0.07058824,\n",
       "        0.07843137, 0.07843137, 0.0745098 , 0.08235294, 0.07843137,\n",
       "        0.07058824, 0.06666667, 0.06666667, 0.08235294, 0.07843137,\n",
       "        0.08235294, 0.0745098 , 0.07843137, 0.0627451 , 0.06666667,\n",
       "        0.07058824, 0.08235294, 0.07058824, 0.0745098 , 0.06666667,\n",
       "        0.0627451 , 0.07843137, 0.0745098 , 0.07058824, 0.07843137,\n",
       "        0.07058824, 0.06666667, 0.08235294, 0.08235294, 0.07843137,\n",
       "        0.05882353, 0.09019608, 0.06666667, 0.07843137, 0.0745098 ,\n",
       "        0.06666667, 0.0745098 , 0.08235294, 0.06666667, 0.0745098 ,\n",
       "        0.07058824, 0.0745098 , 0.08235294, 0.06666667, 0.08235294,\n",
       "        0.07058824, 0.07058824, 0.07843137, 0.07058824, 0.0627451 ,\n",
       "        0.07843137, 0.08235294, 0.0745098 , 0.08627451, 0.07843137,\n",
       "        0.08627451, 0.0627451 , 0.07843137, 0.0745098 , 0.07843137,\n",
       "        0.08235294, 0.0627451 , 0.07058824, 0.07843137, 0.0745098 ,\n",
       "        0.08235294, 0.0745098 , 0.0745098 , 0.06666667, 0.07843137,\n",
       "        0.07058824, 0.0745098 , 0.09019608, 0.07058824, 0.07058824,\n",
       "        0.0745098 , 0.07058824, 0.06666667, 0.09019608, 0.73333333,\n",
       "        0.82352941, 0.83137255, 0.83529412, 0.86666667, 0.81176471,\n",
       "        0.81176471, 0.10196078, 0.06666667, 0.07058824, 0.07058824,\n",
       "        0.07058824, 0.0745098 , 0.07058824, 0.06666667, 0.07058824,\n",
       "        0.07843137, 0.0745098 , 0.07058824, 0.07058824, 0.07843137,\n",
       "        0.0745098 , 0.07843137, 0.0745098 , 0.0745098 , 0.08235294,\n",
       "        0.78823529, 0.75686275, 0.82352941, 0.81568627, 0.81176471,\n",
       "        0.63921569, 0.78431373, 0.73333333, 0.84313725, 0.64313725,\n",
       "        0.1254902 , 0.0745098 , 0.08235294, 0.0745098 , 0.08235294,\n",
       "        0.06666667, 0.07058824, 0.08235294, 0.07843137, 0.06666667,\n",
       "        0.06666667, 0.08235294, 0.08235294, 0.0745098 , 0.06666667,\n",
       "        0.0627451 , 0.07843137, 0.54509804, 0.85098039, 0.82745098,\n",
       "        0.7372549 , 0.07843137, 0.0745098 , 0.0627451 , 0.09019608,\n",
       "        0.0745098 , 0.17254902, 0.77647059, 0.75294118, 0.07843137,\n",
       "        0.08627451, 0.07058824, 0.07843137, 0.08235294, 0.08627451,\n",
       "        0.0745098 , 0.07843137, 0.08235294, 0.06666667, 0.0745098 ,\n",
       "        0.07058824, 0.0627451 , 0.0745098 , 0.08235294, 0.0627451 ,\n",
       "        0.07058824, 0.76470588, 0.17254902, 0.09019608, 0.07843137,\n",
       "        0.08627451, 0.0745098 , 0.07843137, 0.07058824, 0.09019608,\n",
       "        0.75294118, 0.84705882, 0.08235294, 0.09019608, 0.07058824,\n",
       "        0.0745098 , 0.06666667, 0.07058824, 0.08235294, 0.0745098 ,\n",
       "        0.07843137, 0.07843137, 0.06666667, 0.07843137, 0.0627451 ,\n",
       "        0.08235294, 0.07058824, 0.0745098 , 0.07843137, 0.07843137,\n",
       "        0.07843137, 0.07058824, 0.0745098 , 0.0745098 , 0.08235294,\n",
       "        0.07843137, 0.07058824, 0.08235294, 0.78823529, 0.81568627,\n",
       "        0.08627451, 0.07843137, 0.0745098 , 0.08235294, 0.08627451,\n",
       "        0.08235294, 0.07843137, 0.06666667, 0.07058824, 0.07058824,\n",
       "        0.0745098 , 0.07058824, 0.0745098 , 0.08235294, 0.0745098 ,\n",
       "        0.08627451, 0.07058824, 0.07058824, 0.08235294, 0.0745098 ,\n",
       "        0.0627451 , 0.08235294, 0.06666667, 0.07058824, 0.07058824,\n",
       "        0.50588235, 0.84313725, 0.82745098, 0.09019608, 0.07843137,\n",
       "        0.09019608, 0.08627451, 0.06666667, 0.08235294, 0.07843137,\n",
       "        0.07058824, 0.06666667, 0.0745098 , 0.07843137, 0.0745098 ,\n",
       "        0.07058824, 0.08235294, 0.07843137, 0.0745098 , 0.07058824,\n",
       "        0.0745098 , 0.07843137, 0.08627451, 0.08627451, 0.0745098 ,\n",
       "        0.08235294, 0.08235294, 0.12156863, 0.83921569, 0.84705882,\n",
       "        0.0627451 , 0.0745098 , 0.08235294, 0.08627451, 0.07843137,\n",
       "        0.0745098 , 0.0745098 , 0.07843137, 0.0745098 , 0.07843137,\n",
       "        0.07058824, 0.0745098 , 0.07843137, 0.09019608, 0.07843137,\n",
       "        0.08627451, 0.05490196, 0.06666667, 0.0745098 , 0.08627451,\n",
       "        0.0745098 , 0.06666667, 0.06666667, 0.08627451, 0.75686275,\n",
       "        0.77647059, 0.8       , 0.07843137, 0.08627451, 0.07058824,\n",
       "        0.0745098 , 0.06666667, 0.08235294, 0.07058824, 0.08627451,\n",
       "        0.07843137, 0.06666667, 0.08235294, 0.07843137, 0.07843137,\n",
       "        0.07058824, 0.0745098 , 0.05490196, 0.07058824, 0.07843137,\n",
       "        0.07843137, 0.08235294, 0.0745098 , 0.06666667, 0.47843137,\n",
       "        0.81176471, 0.80392157, 0.83529412, 0.83137255, 0.44705882,\n",
       "        0.58823529, 0.08627451, 0.07843137, 0.07058824, 0.07843137,\n",
       "        0.07843137, 0.07058824, 0.07843137, 0.0745098 , 0.0745098 ,\n",
       "        0.07058824, 0.0745098 , 0.07843137, 0.07843137, 0.0627451 ,\n",
       "        0.0745098 , 0.0745098 , 0.06666667, 0.0627451 , 0.09411765,\n",
       "        0.41568627, 0.78823529, 0.82352941, 0.79215686, 0.83137255,\n",
       "        0.82745098, 0.81568627, 0.78431373, 0.75686275, 0.76862745,\n",
       "        0.03137255, 0.07058824, 0.07058824, 0.07058824, 0.07843137,\n",
       "        0.06666667, 0.0745098 , 0.07058824, 0.07058824, 0.07058824,\n",
       "        0.0745098 , 0.0745098 , 0.0745098 , 0.07843137, 0.06666667,\n",
       "        0.0745098 , 0.07843137, 0.07843137, 0.12941176, 0.8       ,\n",
       "        0.55686275, 0.26666667, 0.08235294, 0.08627451, 0.0745098 ,\n",
       "        0.20784314, 0.81568627, 0.81176471, 0.67058824, 0.07843137,\n",
       "        0.07058824, 0.07843137, 0.0745098 , 0.07843137, 0.09019608,\n",
       "        0.09019608, 0.06666667, 0.0745098 , 0.07058824, 0.07843137,\n",
       "        0.07058824, 0.07058824, 0.06666667, 0.07843137, 0.0745098 ,\n",
       "        0.08627451, 0.0745098 , 0.0745098 , 0.08235294, 0.08627451,\n",
       "        0.07058824, 0.0745098 , 0.09019608, 0.08627451, 0.0745098 ,\n",
       "        0.70196078, 0.78431373, 0.65490196, 0.09019608, 0.07058824,\n",
       "        0.0745098 , 0.07058824, 0.07058824, 0.07843137, 0.0745098 ,\n",
       "        0.07843137, 0.0627451 , 0.08235294, 0.06666667, 0.08235294,\n",
       "        0.07843137, 0.0745098 , 0.08627451, 0.08627451, 0.0745098 ,\n",
       "        0.07843137, 0.0627451 , 0.0745098 , 0.08627451, 0.07058824,\n",
       "        0.07058824, 0.07843137, 0.09411765, 0.06666667, 0.73333333,\n",
       "        0.76470588, 0.08627451, 0.07843137, 0.0745098 , 0.07058824,\n",
       "        0.07058824, 0.07843137, 0.0627451 , 0.0745098 , 0.06666667,\n",
       "        0.07058824, 0.0745098 , 0.07843137, 0.08627451, 0.0745098 ,\n",
       "        0.07843137, 0.08235294, 0.0745098 , 0.08235294, 0.07058824,\n",
       "        0.0745098 , 0.09411765, 0.07843137, 0.05882353, 0.07058824,\n",
       "        0.0745098 , 0.07058824, 0.79215686, 0.60392157, 0.08235294,\n",
       "        0.0627451 , 0.0627451 , 0.0745098 , 0.08235294, 0.09019608,\n",
       "        0.08627451, 0.08235294, 0.08627451, 0.08235294, 0.07843137,\n",
       "        0.08235294, 0.06666667, 0.0745098 , 0.07058824, 0.0745098 ,\n",
       "        0.08235294, 0.0745098 , 0.07843137, 0.06666667, 0.0745098 ,\n",
       "        0.07843137, 0.08235294, 0.0627451 , 0.08235294, 0.0745098 ,\n",
       "        0.82352941, 0.80784314, 0.08235294, 0.07843137, 0.0745098 ,\n",
       "        0.07058824, 0.07058824, 0.08627451, 0.0745098 , 0.0745098 ,\n",
       "        0.0745098 , 0.07058824, 0.08235294, 0.07058824, 0.08235294,\n",
       "        0.07843137, 0.0745098 , 0.07843137, 0.06666667, 0.07843137,\n",
       "        0.07058824, 0.07058824, 0.0745098 , 0.0745098 , 0.08235294,\n",
       "        0.0627451 , 0.07843137, 0.08235294, 0.76078431, 0.56078431,\n",
       "        0.07843137, 0.06666667, 0.07058824, 0.07843137, 0.06666667,\n",
       "        0.07058824, 0.08235294, 0.07058824, 0.05490196, 0.0745098 ,\n",
       "        0.07843137, 0.0745098 , 0.08235294, 0.07843137, 0.08627451,\n",
       "        0.08235294, 0.10196078, 0.08627451, 0.0745098 , 0.08627451,\n",
       "        0.08235294, 0.0627451 , 0.07843137, 0.09019608, 0.07843137,\n",
       "        0.6745098 , 0.80392157, 0.76078431, 0.07843137, 0.0745098 ,\n",
       "        0.08235294, 0.06666667, 0.06666667, 0.07843137, 0.07843137,\n",
       "        0.0745098 , 0.07843137, 0.05490196, 0.08235294, 0.07058824,\n",
       "        0.07058824, 0.08627451, 0.06666667, 0.0745098 , 0.07843137,\n",
       "        0.07843137, 0.08627451, 0.08627451, 0.07058824, 0.07843137,\n",
       "        0.09019608, 0.09411765, 0.56078431, 0.80784314, 0.84705882,\n",
       "        0.07843137, 0.07843137, 0.05490196, 0.07843137, 0.07843137,\n",
       "        0.0745098 , 0.07058824, 0.07058824, 0.0745098 , 0.09019608,\n",
       "        0.07843137, 0.08627451, 0.07843137, 0.07058824, 0.1254902 ,\n",
       "        0.74509804, 0.67058824, 0.0745098 , 0.07058824, 0.08235294,\n",
       "        0.05882353, 0.07843137, 0.08627451, 0.70980392, 0.70196078,\n",
       "        0.79607843, 0.80392157, 0.10196078, 0.08627451, 0.07058824,\n",
       "        0.06666667, 0.09019608, 0.0745098 , 0.0745098 , 0.0627451 ,\n",
       "        0.07058824, 0.07058824, 0.0745098 , 0.06666667, 0.0745098 ,\n",
       "        0.07058824, 0.07058824, 0.0745098 , 0.72941176, 0.63137255,\n",
       "        0.78039216, 0.70196078, 0.78431373, 0.44313725, 0.64705882,\n",
       "        0.77647059, 0.81568627, 0.80392157, 0.75686275, 0.08235294,\n",
       "        0.0627451 , 0.07058824, 0.07058824, 0.09411765, 0.0745098 ,\n",
       "        0.08627451, 0.0627451 , 0.0627451 , 0.07058824, 0.06666667,\n",
       "        0.06666667, 0.07843137, 0.0745098 , 0.07058824, 0.07843137,\n",
       "        0.08235294, 0.16078431, 0.81568627, 0.70980392, 0.82745098,\n",
       "        0.76862745, 0.7254902 , 0.78039216, 0.55294118, 0.79607843,\n",
       "        0.34901961, 0.07843137, 0.0745098 , 0.07843137, 0.07843137,\n",
       "        0.08235294, 0.0627451 , 0.05882353, 0.07058824, 0.07843137,\n",
       "        0.07843137, 0.05098039, 0.08235294, 0.06666667, 0.0745098 ,\n",
       "        0.08235294, 0.07843137, 0.07843137, 0.07843137, 0.08627451,\n",
       "        0.07843137, 0.10196078, 0.13333333, 0.69411765, 0.35686275,\n",
       "        0.19607843, 0.08235294, 0.07058824, 0.0745098 , 0.07843137,\n",
       "        0.09411765, 0.08235294, 0.07058824, 0.08235294, 0.08235294,\n",
       "        0.0745098 , 0.08235294, 0.07843137, 0.0745098 , 0.07058824,\n",
       "        0.07843137, 0.09803922, 0.07058824, 0.08627451, 0.09019608,\n",
       "        0.09411765, 0.0745098 , 0.07058824, 0.08235294, 0.08627451,\n",
       "        0.08235294, 0.0745098 , 0.07843137, 0.08235294, 0.05882353,\n",
       "        0.0627451 , 0.09411765, 0.08235294, 0.09019608, 0.07843137,\n",
       "        0.09019608, 0.08235294, 0.0745098 , 0.07843137, 0.07058824,\n",
       "        0.0745098 , 0.07843137, 0.07843137, 0.07843137, 0.06666667,\n",
       "        0.08627451, 0.07843137, 0.05882353, 0.07843137, 0.08627451,\n",
       "        0.08235294, 0.0745098 , 0.0627451 , 0.08235294, 0.0745098 ,\n",
       "        0.07058824, 0.09019608, 0.08235294, 0.08627451, 0.07843137,\n",
       "        0.06666667, 0.08235294, 0.0745098 , 0.06666667, 0.08235294,\n",
       "        0.07843137, 0.08627451, 0.08627451, 0.06666667, 0.0745098 ,\n",
       "        0.06666667, 0.0627451 , 0.07058824, 0.0745098 , 0.07058824,\n",
       "        0.07843137, 0.07843137, 0.0745098 , 0.08235294, 0.0745098 ,\n",
       "        0.08235294, 0.08235294, 0.08235294, 0.07058824, 0.07058824,\n",
       "        0.08627451, 0.08627451, 0.08235294, 0.07058824, 0.0745098 ,\n",
       "        0.0745098 , 0.08235294, 0.07843137, 0.09019608, 0.08235294,\n",
       "        0.09019608, 0.0745098 , 0.07843137, 0.07058824]])"
      ]
     },
     "execution_count": 59,
     "metadata": {},
     "output_type": "execute_result"
    }
   ],
   "source": [
    "from PIL import Image, ImageOps\n",
    "import matplotlib.pyplot as plt\n",
    "import numpy as np\n",
    "\n",
    "img = Image.open('test.png').convert('L')\n",
    "# img = ImageOps.invert(img)\n",
    "img = img.resize((28, 28), Image.NEAREST)\n",
    "img_arr = np.array(img)\n",
    "\n",
    "img_arr = img_arr / 255.0\n",
    "\n",
    "img_arr = img_arr.reshape(1, 784)\n",
    "\n",
    "img_arr"
   ]
  },
  {
   "cell_type": "code",
   "execution_count": 60,
   "id": "f165070d-ab2e-4ec9-a1b5-099910f9ad82",
   "metadata": {},
   "outputs": [
    {
     "name": "stdout",
     "output_type": "stream",
     "text": [
      "\u001b[1m1/1\u001b[0m \u001b[32m━━━━━━━━━━━━━━━━━━━━\u001b[0m\u001b[37m\u001b[0m \u001b[1m0s\u001b[0m 22ms/step\n"
     ]
    },
    {
     "data": {
      "text/plain": [
       "array([[5.3058624e-10, 3.6574352e-08, 1.4434657e-06, 9.9999607e-01,\n",
       "        1.8628821e-09, 5.0624146e-07, 1.7594521e-11, 1.5379890e-10,\n",
       "        1.4561863e-06, 4.8849449e-07]], dtype=float32)"
      ]
     },
     "execution_count": 60,
     "metadata": {},
     "output_type": "execute_result"
    }
   ],
   "source": [
    "prediction = model.predict(img_arr)\n",
    "prediction"
   ]
  },
  {
   "cell_type": "code",
   "execution_count": 61,
   "id": "200768ac-206c-43fa-940f-e04b80519fb3",
   "metadata": {},
   "outputs": [
    {
     "data": {
      "text/plain": [
       "3"
      ]
     },
     "execution_count": 61,
     "metadata": {},
     "output_type": "execute_result"
    }
   ],
   "source": [
    "np.argmax(prediction)"
   ]
  },
  {
   "cell_type": "code",
   "execution_count": null,
   "id": "d8faf303-05da-452d-988a-0e66a629e45d",
   "metadata": {},
   "outputs": [],
   "source": []
  }
 ],
 "metadata": {
  "kernelspec": {
   "display_name": "Python [conda env:base] *",
   "language": "python",
   "name": "conda-base-py"
  },
  "language_info": {
   "codemirror_mode": {
    "name": "ipython",
    "version": 3
   },
   "file_extension": ".py",
   "mimetype": "text/x-python",
   "name": "python",
   "nbconvert_exporter": "python",
   "pygments_lexer": "ipython3",
   "version": "3.12.7"
  }
 },
 "nbformat": 4,
 "nbformat_minor": 5
}
